{
 "cells": [
  {
   "cell_type": "code",
   "execution_count": 1,
   "id": "6c0b0c30",
   "metadata": {},
   "outputs": [],
   "source": [
    "import numpy as np\n",
    "import pandas as pd\n",
    "from sklearn.feature_extraction.text import TfidfVectorizer\n",
    "from sklearn.metrics.pairwise import cosine_similarity"
   ]
  },
  {
   "cell_type": "code",
   "execution_count": 73,
   "id": "b820832e",
   "metadata": {},
   "outputs": [],
   "source": [
    "postings = pd.read_csv(\"clean_job_postings_w_salary.csv\").drop(columns = [\"Unnamed: 0\"])"
   ]
  },
  {
   "cell_type": "code",
   "execution_count": 74,
   "id": "2d21a8fb",
   "metadata": {},
   "outputs": [],
   "source": [
    "skills_lang = postings[['skills', 'programming_languages', 'location']]"
   ]
  },
  {
   "cell_type": "code",
   "execution_count": 75,
   "id": "e45619cd",
   "metadata": {},
   "outputs": [],
   "source": [
    "def augment_skills_location(row):\n",
    "    eval_lang = eval(row['programming_languages'])#.apply(lambda x: eval(x))\n",
    "    eval_skills = eval(row['skills'])#.apply(lambda x: eval(x))\n",
    "    lang_str = ' '.join(eval_lang)\n",
    "    skills_str = ' '.join(eval_skills)\n",
    "    return lang_str + ' ' + skills_str + \" \" + row['location'].lower()"
   ]
  },
  {
   "cell_type": "code",
   "execution_count": 76,
   "id": "2ae12405",
   "metadata": {},
   "outputs": [
    {
     "name": "stderr",
     "output_type": "stream",
     "text": [
      "<ipython-input-76-b076553adac0>:1: SettingWithCopyWarning: \n",
      "A value is trying to be set on a copy of a slice from a DataFrame.\n",
      "Try using .loc[row_indexer,col_indexer] = value instead\n",
      "\n",
      "See the caveats in the documentation: https://pandas.pydata.org/pandas-docs/stable/user_guide/indexing.html#returning-a-view-versus-a-copy\n",
      "  skills_lang['joined_skills'] = skills_lang.apply(augment_skills_location, axis = 1)\n"
     ]
    }
   ],
   "source": [
    "skills_lang['joined_skills'] = skills_lang.apply(augment_skills_location, axis = 1)"
   ]
  },
  {
   "cell_type": "code",
   "execution_count": 77,
   "id": "038074ad",
   "metadata": {},
   "outputs": [],
   "source": [
    "tfidf_vectorizer = TfidfVectorizer()\n",
    "tfidf_matrix = tfidf_vectorizer.fit_transform(skills_lang['joined_skills'])"
   ]
  },
  {
   "cell_type": "code",
   "execution_count": 78,
   "id": "dcc9a27c",
   "metadata": {},
   "outputs": [],
   "source": [
    "cosine_sim = cosine_similarity(tfidf_matrix, tfidf_matrix)"
   ]
  },
  {
   "cell_type": "code",
   "execution_count": 89,
   "id": "0971f7a2",
   "metadata": {},
   "outputs": [],
   "source": [
    "def recommend(skills, locations, similarities, jobs):\n",
    "    skills_str = ' '.join(input_skills)\n",
    "    locations_str = ' '.join(locations)\n",
    "    desired_str = skills_str + \" \" + locations_str\n",
    "    \n",
    "    vectorized = tfidf_vectorizer.transform([desired_str])\n",
    "    sim_score = cosine_similarity(vectorized, tfidf_matrix)[0]\n",
    "    most_similar_jobs = sim_score.argsort()[::-1][:5]\n",
    "    recommended_job = jobs.iloc[most_similar_jobs][['clean_job_title', 'location', 'clean_job_description', \n",
    "                                                    'salary estimate', 'rating']]\n",
    "    return recommended_job\n",
    "    "
   ]
  },
  {
   "cell_type": "code",
   "execution_count": 92,
   "id": "57397c1f",
   "metadata": {},
   "outputs": [],
   "source": [
    "input_skills = ['python', 'java', 'R', 'Operations']\n",
    "locations = ['Harvard']\n",
    "recommendation = recommend(input_skills, locations, cosine_sim, postings)"
   ]
  },
  {
   "cell_type": "code",
   "execution_count": 93,
   "id": "cd421f54",
   "metadata": {},
   "outputs": [
    {
     "data": {
      "text/html": [
       "<div>\n",
       "<style scoped>\n",
       "    .dataframe tbody tr th:only-of-type {\n",
       "        vertical-align: middle;\n",
       "    }\n",
       "\n",
       "    .dataframe tbody tr th {\n",
       "        vertical-align: top;\n",
       "    }\n",
       "\n",
       "    .dataframe thead th {\n",
       "        text-align: right;\n",
       "    }\n",
       "</style>\n",
       "<table border=\"1\" class=\"dataframe\">\n",
       "  <thead>\n",
       "    <tr style=\"text-align: right;\">\n",
       "      <th></th>\n",
       "      <th>clean_job_title</th>\n",
       "      <th>location</th>\n",
       "      <th>clean_job_description</th>\n",
       "      <th>salary estimate</th>\n",
       "      <th>rating</th>\n",
       "    </tr>\n",
       "  </thead>\n",
       "  <tbody>\n",
       "    <tr>\n",
       "      <th>122</th>\n",
       "      <td>lead data scientist</td>\n",
       "      <td>Remote</td>\n",
       "      <td>we are looking for a data scientist to analyze...</td>\n",
       "      <td>$77.50 /hr (est.)</td>\n",
       "      <td>2.0</td>\n",
       "    </tr>\n",
       "    <tr>\n",
       "      <th>673</th>\n",
       "      <td>electronic trading associate expert graduate p...</td>\n",
       "      <td>New York, NY</td>\n",
       "      <td>description external the team that powers elec...</td>\n",
       "      <td>$140000 /yr (est.)</td>\n",
       "      <td>4.0</td>\n",
       "    </tr>\n",
       "    <tr>\n",
       "      <th>196</th>\n",
       "      <td>data scientist operational excellence gsc</td>\n",
       "      <td>Seattle, WA</td>\n",
       "      <td>data scientist, operational excellence gsc job...</td>\n",
       "      <td>$124950 /yr (est.)</td>\n",
       "      <td>3.7</td>\n",
       "    </tr>\n",
       "    <tr>\n",
       "      <th>243</th>\n",
       "      <td>senior data scientist</td>\n",
       "      <td>Santa Monica, CA</td>\n",
       "      <td>job title senior data scientist requisition id...</td>\n",
       "      <td>$132367 /yr (est.)</td>\n",
       "      <td>3.5</td>\n",
       "    </tr>\n",
       "    <tr>\n",
       "      <th>230</th>\n",
       "      <td>senior data scientist</td>\n",
       "      <td>Santa Monica, CA</td>\n",
       "      <td>job title senior data scientist requisition id...</td>\n",
       "      <td>$132367 /yr (est.)</td>\n",
       "      <td>3.5</td>\n",
       "    </tr>\n",
       "  </tbody>\n",
       "</table>\n",
       "</div>"
      ],
      "text/plain": [
       "                                       clean_job_title          location  \\\n",
       "122                                lead data scientist            Remote   \n",
       "673  electronic trading associate expert graduate p...      New York, NY   \n",
       "196          data scientist operational excellence gsc       Seattle, WA   \n",
       "243                              senior data scientist  Santa Monica, CA   \n",
       "230                              senior data scientist  Santa Monica, CA   \n",
       "\n",
       "                                 clean_job_description     salary estimate  \\\n",
       "122  we are looking for a data scientist to analyze...   $77.50 /hr (est.)   \n",
       "673  description external the team that powers elec...  $140000 /yr (est.)   \n",
       "196  data scientist, operational excellence gsc job...  $124950 /yr (est.)   \n",
       "243  job title senior data scientist requisition id...  $132367 /yr (est.)   \n",
       "230  job title senior data scientist requisition id...  $132367 /yr (est.)   \n",
       "\n",
       "     rating  \n",
       "122     2.0  \n",
       "673     4.0  \n",
       "196     3.7  \n",
       "243     3.5  \n",
       "230     3.5  "
      ]
     },
     "execution_count": 93,
     "metadata": {},
     "output_type": "execute_result"
    }
   ],
   "source": [
    "recommendation"
   ]
  },
  {
   "cell_type": "code",
   "execution_count": null,
   "id": "65421a77",
   "metadata": {},
   "outputs": [],
   "source": []
  }
 ],
 "metadata": {
  "kernelspec": {
   "display_name": "Python 3",
   "language": "python",
   "name": "python3"
  },
  "language_info": {
   "codemirror_mode": {
    "name": "ipython",
    "version": 3
   },
   "file_extension": ".py",
   "mimetype": "text/x-python",
   "name": "python",
   "nbconvert_exporter": "python",
   "pygments_lexer": "ipython3",
   "version": "3.9.13"
  }
 },
 "nbformat": 4,
 "nbformat_minor": 5
}
