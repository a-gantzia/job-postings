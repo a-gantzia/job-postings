{
 "cells": [
  {
   "cell_type": "code",
   "execution_count": 86,
   "id": "6cad92f9",
   "metadata": {},
   "outputs": [],
   "source": [
    "import pandas as pd\n",
    "import numpy as np\n",
    "import plotly.graph_objects as go\n",
    "import matplotlib.pyplot as plt\n",
    "from plotly.subplots import make_subplots\n",
    "import numpy as np\n",
    "import plotly.express as px"
   ]
  },
  {
   "cell_type": "code",
   "execution_count": 87,
   "id": "71c515e7",
   "metadata": {},
   "outputs": [],
   "source": [
    "state_abbreviations = {\n",
    "    'AL': 'Alabama',\n",
    "    'AK': 'Alaska',\n",
    "    'AZ': 'Arizona',\n",
    "    'AR': 'Arkansas',\n",
    "    'CA': 'California',\n",
    "    'CO': 'Colorado',\n",
    "    'CT': 'Connecticut',\n",
    "    'DE': 'Delaware',\n",
    "    'FL': 'Florida',\n",
    "    'GA': 'Georgia',\n",
    "    'HI': 'Hawaii',\n",
    "    'ID': 'Idaho',\n",
    "    'IL': 'Illinois',\n",
    "    'IN': 'Indiana',\n",
    "    'IA': 'Iowa',\n",
    "    'KS': 'Kansas',\n",
    "    'KY': 'Kentucky',\n",
    "    'LA': 'Louisiana',\n",
    "    'ME': 'Maine',\n",
    "    'MD': 'Maryland',\n",
    "    'MA': 'Massachusetts',\n",
    "    'MI': 'Michigan',\n",
    "    'MN': 'Minnesota',\n",
    "    'MS': 'Mississippi',\n",
    "    'MO': 'Missouri',\n",
    "    'MT': 'Montana',\n",
    "    'NE': 'Nebraska',\n",
    "    'NV': 'Nevada',\n",
    "    'NH': 'New Hampshire',\n",
    "    'NJ': 'New Jersey',\n",
    "    'NM': 'New Mexico',\n",
    "    'NY': 'New York',\n",
    "    'NC': 'North Carolina',\n",
    "    'ND': 'North Dakota',\n",
    "    'OH': 'Ohio',\n",
    "    'OK': 'Oklahoma',\n",
    "    'OR': 'Oregon',\n",
    "    'PA': 'Pennsylvania',\n",
    "    'RI': 'Rhode Island',\n",
    "    'SC': 'South Carolina',\n",
    "    'SD': 'South Dakota',\n",
    "    'TN': 'Tennessee',\n",
    "    'TX': 'Texas',\n",
    "    'UT': 'Utah',\n",
    "    'VT': 'Vermont',\n",
    "    'VA': 'Virginia',\n",
    "    'WA': 'Washington',\n",
    "    'WV': 'West Virginia',\n",
    "    'WI': 'Wisconsin',\n",
    "    'WY': 'Wyoming', \n",
    "    'Washington, DC': 'MD',\n",
    "    'Long Island-Queens': 'NY', \n",
    "    'Township of Lawrence': 'NJ',\n",
    "    'Manhattan': 'NY',\n",
    "    'New York State': 'NY',\n",
    "    'Texhoma': \"OK\", \n",
    "    \"United States\": \"WA\"\n",
    "}\n",
    "reverse_abbrev = {value:key for (key, value) in state_abbreviations.items()}"
   ]
  },
  {
   "cell_type": "code",
   "execution_count": 88,
   "id": "a5b37887",
   "metadata": {},
   "outputs": [],
   "source": [
    "job_postings = pd.read_csv(\"clean_job_postings_w_salary.csv\").drop(columns = ['Unnamed: 0'])"
   ]
  },
  {
   "cell_type": "code",
   "execution_count": 89,
   "id": "bae4a42e",
   "metadata": {},
   "outputs": [
    {
     "data": {
      "text/plain": [
       "array(['/yr', '/hr', '/mo'], dtype=object)"
      ]
     },
     "execution_count": 89,
     "metadata": {},
     "output_type": "execute_result"
    }
   ],
   "source": [
    "job_postings['salary estimate'].apply(lambda x: x.replace(\"(est.)\", '').strip()[-3:]).unique()"
   ]
  },
  {
   "cell_type": "code",
   "execution_count": 90,
   "id": "2de208f9",
   "metadata": {},
   "outputs": [],
   "source": [
    "def clean_estimate(estimate):\n",
    "    estimate = estimate.replace(\"(est.)\", '').replace(\"$\", '').strip()\n",
    "    suffix = estimate[-4:]\n",
    "    estimate_int = float(estimate[:-3])\n",
    "    if \"/mo\" in suffix:\n",
    "        return 12 * estimate_int\n",
    "    elif \"/hr\" in suffix:\n",
    "        return estimate_int * 2000\n",
    "    else:\n",
    "        return estimate_int"
   ]
  },
  {
   "cell_type": "code",
   "execution_count": 91,
   "id": "a343a729",
   "metadata": {},
   "outputs": [],
   "source": [
    "job_postings['salary estimate'] = job_postings['salary estimate'].apply(clean_estimate)"
   ]
  },
  {
   "cell_type": "code",
   "execution_count": 92,
   "id": "e1e97c5c",
   "metadata": {},
   "outputs": [
    {
     "data": {
      "text/plain": [
       "location\n",
       "Abbott Park, IL       102372.000000\n",
       "Alameda, CA           160000.000000\n",
       "Albany, NY             68617.000000\n",
       "Alexandria, VA        112443.857143\n",
       "Alpharetta, GA        140500.000000\n",
       "                          ...      \n",
       "Wilmington, MA        114397.000000\n",
       "Wisconsin             125350.000000\n",
       "Woodbridge, NJ         98694.000000\n",
       "Woodcliff Lake, NJ     81136.000000\n",
       "Youngsville, LA        77299.000000\n",
       "Name: salary estimate, Length: 240, dtype: float64"
      ]
     },
     "execution_count": 92,
     "metadata": {},
     "output_type": "execute_result"
    }
   ],
   "source": [
    "job_postings.groupby(\"location\")['salary estimate'].mean()"
   ]
  },
  {
   "cell_type": "code",
   "execution_count": 93,
   "id": "94039729",
   "metadata": {},
   "outputs": [],
   "source": [
    "def create_state_col(location):\n",
    "    exclusion_lst = ['United States', 'San Juan, PR']\n",
    "    if location not in exclusion_lst:\n",
    "        if location[-2:] in state_abbreviations:\n",
    "            return location[-2:]\n",
    "        elif location in state_abbreviations:\n",
    "            return state_abbreviations[location]\n",
    "        elif location in reverse_abbrev:\n",
    "            return reverse_abbrev[location]\n",
    "    return \"None\""
   ]
  },
  {
   "cell_type": "code",
   "execution_count": 94,
   "id": "eaa20487",
   "metadata": {},
   "outputs": [],
   "source": [
    "job_postings['state'] = job_postings['location'].apply(create_state_col)"
   ]
  },
  {
   "cell_type": "code",
   "execution_count": 95,
   "id": "50aeb6b0",
   "metadata": {},
   "outputs": [],
   "source": [
    "cost_of_living = pd.read_csv(\"data/cost_of_living_us.csv\")\n",
    "cost_of_living = cost_of_living[cost_of_living.family_member_count=='1p0c']\n",
    "#cost_of_living.sort_values('total_cost', ascending=False)"
   ]
  },
  {
   "cell_type": "code",
   "execution_count": 96,
   "id": "e5b77926",
   "metadata": {},
   "outputs": [],
   "source": [
    "cost_of_living.total_cost -= cost_of_living.taxes\n",
    "cost_of_living = cost_of_living.groupby('state').agg(\n",
    "    average_total_cost=('total_cost', 'mean'),\n",
    "    median_total_cost=('total_cost', 'median'),\n",
    ").reset_index()"
   ]
  },
  {
   "cell_type": "code",
   "execution_count": 97,
   "id": "3a6a8f64",
   "metadata": {},
   "outputs": [],
   "source": [
    "agg_data = job_postings.groupby(['job_category', 'state']).agg(\n",
    "    average_salary=('salary', 'mean'),\n",
    "    median_salary=('salary', 'median'),\n",
    "    observations=('salary', 'count')\n",
    ").reset_index()\n",
    "\n",
    "# Map state abbreviations to full state names\n",
    "agg_data['Full_state'] = agg_data['state'].map(state_abbreviations)\n",
    "\n",
    "# Prepare hovertext\n",
    "agg_data['hovertext'] = agg_data['Full_state'] + '<br>' + \\\n",
    "                        'Average Salary: ' + agg_data['average_salary'].round(2).astype(str) + '<br>' + \\\n",
    "                        'Observations: ' + agg_data['observations'].astype(str)\n"
   ]
  },
  {
   "cell_type": "code",
   "execution_count": 98,
   "id": "9b03fb49",
   "metadata": {},
   "outputs": [
    {
     "name": "stderr",
     "output_type": "stream",
     "text": [
      "/var/folders/sx/q8bq3_v13q38gg5c4y_k59tm0000gn/T/ipykernel_14460/2175974504.py:2: SettingWithCopyWarning:\n",
      "\n",
      "\n",
      "A value is trying to be set on a copy of a slice from a DataFrame.\n",
      "Try using .loc[row_indexer,col_indexer] = value instead\n",
      "\n",
      "See the caveats in the documentation: https://pandas.pydata.org/pandas-docs/stable/user_guide/indexing.html#returning-a-view-versus-a-copy\n",
      "\n"
     ]
    },
    {
     "data": {
      "text/html": [
       "<div>\n",
       "<style scoped>\n",
       "    .dataframe tbody tr th:only-of-type {\n",
       "        vertical-align: middle;\n",
       "    }\n",
       "\n",
       "    .dataframe tbody tr th {\n",
       "        vertical-align: top;\n",
       "    }\n",
       "\n",
       "    .dataframe thead th {\n",
       "        text-align: right;\n",
       "    }\n",
       "</style>\n",
       "<table border=\"1\" class=\"dataframe\">\n",
       "  <thead>\n",
       "    <tr style=\"text-align: right;\">\n",
       "      <th></th>\n",
       "      <th>job_category</th>\n",
       "      <th>state</th>\n",
       "      <th>average_salary</th>\n",
       "      <th>median_salary</th>\n",
       "      <th>observations</th>\n",
       "      <th>Full_state</th>\n",
       "      <th>hovertext</th>\n",
       "    </tr>\n",
       "  </thead>\n",
       "  <tbody>\n",
       "    <tr>\n",
       "      <th>23</th>\n",
       "      <td>data analyst</td>\n",
       "      <td>Remote</td>\n",
       "      <td>97767.710526</td>\n",
       "      <td>100000.0</td>\n",
       "      <td>38</td>\n",
       "      <td>NaN</td>\n",
       "      <td>NaN</td>\n",
       "    </tr>\n",
       "    <tr>\n",
       "      <th>51</th>\n",
       "      <td>data engineer</td>\n",
       "      <td>Remote</td>\n",
       "      <td>126743.233333</td>\n",
       "      <td>126150.0</td>\n",
       "      <td>48</td>\n",
       "      <td>NaN</td>\n",
       "      <td>NaN</td>\n",
       "    </tr>\n",
       "    <tr>\n",
       "      <th>84</th>\n",
       "      <td>data scientist</td>\n",
       "      <td>Remote</td>\n",
       "      <td>129861.907692</td>\n",
       "      <td>130000.0</td>\n",
       "      <td>65</td>\n",
       "      <td>NaN</td>\n",
       "      <td>NaN</td>\n",
       "    </tr>\n",
       "    <tr>\n",
       "      <th>106</th>\n",
       "      <td>machine learning engineer</td>\n",
       "      <td>Remote</td>\n",
       "      <td>148598.222222</td>\n",
       "      <td>153619.0</td>\n",
       "      <td>9</td>\n",
       "      <td>NaN</td>\n",
       "      <td>NaN</td>\n",
       "    </tr>\n",
       "    <tr>\n",
       "      <th>121</th>\n",
       "      <td>other</td>\n",
       "      <td>Remote</td>\n",
       "      <td>101242.285714</td>\n",
       "      <td>105000.0</td>\n",
       "      <td>7</td>\n",
       "      <td>NaN</td>\n",
       "      <td>NaN</td>\n",
       "    </tr>\n",
       "  </tbody>\n",
       "</table>\n",
       "</div>"
      ],
      "text/plain": [
       "                  job_category   state  average_salary  median_salary  \\\n",
       "23                data analyst  Remote    97767.710526       100000.0   \n",
       "51               data engineer  Remote   126743.233333       126150.0   \n",
       "84              data scientist  Remote   129861.907692       130000.0   \n",
       "106  machine learning engineer  Remote   148598.222222       153619.0   \n",
       "121                      other  Remote   101242.285714       105000.0   \n",
       "\n",
       "     observations Full_state hovertext  \n",
       "23             38        NaN       NaN  \n",
       "51             48        NaN       NaN  \n",
       "84             65        NaN       NaN  \n",
       "106             9        NaN       NaN  \n",
       "121             7        NaN       NaN  "
      ]
     },
     "execution_count": 98,
     "metadata": {},
     "output_type": "execute_result"
    }
   ],
   "source": [
    "remote_jobs = agg_data[agg_data.state==\"None\"]\n",
    "remote_jobs.state = 'Remote'\n",
    "remote_jobs"
   ]
  },
  {
   "cell_type": "code",
   "execution_count": 99,
   "id": "e29c0b83",
   "metadata": {},
   "outputs": [
    {
     "data": {
      "text/plain": [
       "(119, 11)"
      ]
     },
     "execution_count": 99,
     "metadata": {},
     "output_type": "execute_result"
    }
   ],
   "source": [
    "df = pd.merge(agg_data, cost_of_living, on='state', how='inner')\n",
    "df['avg_salary_after_COL'] = df.average_salary - df.average_total_cost\n",
    "df['median_salary_after_COL'] = df.median_salary - df.median_total_cost\n",
    "\n",
    "df.shape"
   ]
  },
  {
   "cell_type": "code",
   "execution_count": 100,
   "id": "95aa7087",
   "metadata": {},
   "outputs": [
    {
     "name": "stderr",
     "output_type": "stream",
     "text": [
      "/var/folders/sx/q8bq3_v13q38gg5c4y_k59tm0000gn/T/ipykernel_14460/682411431.py:1: FutureWarning:\n",
      "\n",
      "The frame.append method is deprecated and will be removed from pandas in a future version. Use pandas.concat instead.\n",
      "\n"
     ]
    }
   ],
   "source": [
    "df = df.append(remote_jobs, ignore_index=True)"
   ]
  },
  {
   "cell_type": "code",
   "execution_count": 101,
   "id": "24b72bff",
   "metadata": {},
   "outputs": [],
   "source": [
    "df.to_csv('data/salary_cost_of_living.csv')"
   ]
  },
  {
   "cell_type": "code",
   "execution_count": null,
   "id": "f35719ec",
   "metadata": {},
   "outputs": [],
   "source": []
  },
  {
   "cell_type": "code",
   "execution_count": 76,
   "id": "098c250c",
   "metadata": {},
   "outputs": [],
   "source": [
    "df = pd.read_csv(\"data/salary_cost_of_living.csv\")"
   ]
  },
  {
   "cell_type": "code",
   "execution_count": 102,
   "id": "990be92f",
   "metadata": {},
   "outputs": [
    {
     "data": {
      "application/vnd.plotly.v1+json": {
       "config": {
        "plotlyServerURL": "https://plot.ly"
       },
       "data": [
        {
         "colorbar": {
          "title": {
           "text": "Average Salary"
          }
         },
         "hovertext": [
          "Alabama<br>Average Salary: 53877.0<br>Observations: 1",
          "Arkansas<br>Average Salary: 74844.0<br>Observations: 1",
          "Arkansas<br>Average Salary: 54281.0<br>Observations: 1",
          "Arizona<br>Average Salary: 68167.6<br>Observations: 3",
          "Arizona<br>Average Salary: 88617.5<br>Observations: 2",
          "California<br>Average Salary: 113837.42<br>Observations: 18",
          "California<br>Average Salary: 126787.33<br>Observations: 12",
          "California<br>Average Salary: 133823.57<br>Observations: 50",
          "California<br>Average Salary: 130544.31<br>Observations: 16",
          "California<br>Average Salary: 126636.7<br>Observations: 4",
          "Colorado<br>Average Salary: 84785.71<br>Observations: 7",
          "Colorado<br>Average Salary: 136188.5<br>Observations: 2",
          "Colorado<br>Average Salary: 123681.0<br>Observations: 9",
          "Colorado<br>Average Salary: 91950.0<br>Observations: 1",
          "Colorado<br>Average Salary: 94450.0<br>Observations: 1",
          "Delaware<br>Average Salary: 78000.0<br>Observations: 1",
          "Delaware<br>Average Salary: 79087.0<br>Observations: 2",
          "Florida<br>Average Salary: 65248.29<br>Observations: 7",
          "Florida<br>Average Salary: 87706.67<br>Observations: 3",
          "Florida<br>Average Salary: 105315.0<br>Observations: 6",
          "Florida<br>Average Salary: 105577.0<br>Observations: 2",
          "Florida<br>Average Salary: 43039.0<br>Observations: 1",
          "Georgia<br>Average Salary: 52826.0<br>Observations: 2",
          "Georgia<br>Average Salary: 133469.33<br>Observations: 3",
          "Georgia<br>Average Salary: 103268.0<br>Observations: 1",
          "Georgia<br>Average Salary: 101125.5<br>Observations: 2",
          "Iowa<br>Average Salary: 70935.0<br>Observations: 2",
          "Iowa<br>Average Salary: 86265.0<br>Observations: 1",
          "Iowa<br>Average Salary: 94888.0<br>Observations: 2",
          "Idaho<br>Average Salary: 70327.5<br>Observations: 2",
          "Idaho<br>Average Salary: 75312.0<br>Observations: 1",
          "Idaho<br>Average Salary: 107694.0<br>Observations: 1",
          "Illinois<br>Average Salary: 80110.62<br>Observations: 8",
          "Illinois<br>Average Salary: 98626.62<br>Observations: 8",
          "Illinois<br>Average Salary: 106816.19<br>Observations: 16",
          "Illinois<br>Average Salary: 85619.33<br>Observations: 3",
          "Illinois<br>Average Salary: 105921.0<br>Observations: 3",
          "Indiana<br>Average Salary: 58056.0<br>Observations: 1",
          "Indiana<br>Average Salary: 51672.0<br>Observations: 1",
          "Indiana<br>Average Salary: 102724.0<br>Observations: 2",
          "Kansas<br>Average Salary: 61695.0<br>Observations: 1",
          "Louisiana<br>Average Salary: 75627.0<br>Observations: 3",
          "Louisiana<br>Average Salary: 90402.0<br>Observations: 1",
          "Louisiana<br>Average Salary: 113644.0<br>Observations: 1",
          "Massachusetts<br>Average Salary: 88440.0<br>Observations: 3",
          "Massachusetts<br>Average Salary: 95246.17<br>Observations: 6",
          "Massachusetts<br>Average Salary: 116814.93<br>Observations: 15",
          "Massachusetts<br>Average Salary: 120319.63<br>Observations: 19",
          "Massachusetts<br>Average Salary: 80681.0<br>Observations: 2",
          "Maryland<br>Average Salary: 78430.29<br>Observations: 7",
          "Maryland<br>Average Salary: 115583.6<br>Observations: 5",
          "Maryland<br>Average Salary: 104973.91<br>Observations: 11",
          "Maryland<br>Average Salary: 85493.4<br>Observations: 5",
          "Michigan<br>Average Salary: 64170.0<br>Observations: 2",
          "Michigan<br>Average Salary: 72604.0<br>Observations: 1",
          "Michigan<br>Average Salary: 86352.57<br>Observations: 7",
          "Michigan<br>Average Salary: 67500.0<br>Observations: 1",
          "Missouri<br>Average Salary: 58750.0<br>Observations: 2",
          "Missouri<br>Average Salary: 56945.0<br>Observations: 4",
          "Missouri<br>Average Salary: 100350.17<br>Observations: 6",
          "Mississippi<br>Average Salary: 46739.0<br>Observations: 1",
          "North Carolina<br>Average Salary: 103807.33<br>Observations: 3",
          "North Carolina<br>Average Salary: 108311.84<br>Observations: 5",
          "North Carolina<br>Average Salary: 105328.14<br>Observations: 7",
          "North Carolina<br>Average Salary: 61000.0<br>Observations: 1",
          "New Jersey<br>Average Salary: 83221.67<br>Observations: 3",
          "New Jersey<br>Average Salary: 116759.2<br>Observations: 5",
          "New Jersey<br>Average Salary: 107344.2<br>Observations: 10",
          "New Jersey<br>Average Salary: 114555.33<br>Observations: 3",
          "Nevada<br>Average Salary: 69078.0<br>Observations: 1",
          "Nevada<br>Average Salary: 130522.0<br>Observations: 1",
          "New York<br>Average Salary: 77442.36<br>Observations: 22",
          "New York<br>Average Salary: 114749.96<br>Observations: 5",
          "New York<br>Average Salary: 136376.34<br>Observations: 29",
          "New York<br>Average Salary: 119588.31<br>Observations: 16",
          "New York<br>Average Salary: 150023.29<br>Observations: 7",
          "Ohio<br>Average Salary: 77515.0<br>Observations: 5",
          "Ohio<br>Average Salary: 76350.67<br>Observations: 3",
          "Ohio<br>Average Salary: 100481.0<br>Observations: 1",
          "Pennsylvania<br>Average Salary: 71611.88<br>Observations: 8",
          "Pennsylvania<br>Average Salary: 113328.33<br>Observations: 3",
          "Pennsylvania<br>Average Salary: 102437.67<br>Observations: 6",
          "Pennsylvania<br>Average Salary: 80121.0<br>Observations: 2",
          "South Carolina<br>Average Salary: 74069.5<br>Observations: 2",
          "South Carolina<br>Average Salary: 113750.0<br>Observations: 1",
          "South Carolina<br>Average Salary: 107500.0<br>Observations: 1",
          "Tennessee<br>Average Salary: 32117.0<br>Observations: 2",
          "Tennessee<br>Average Salary: 105299.0<br>Observations: 1",
          "Texas<br>Average Salary: 82886.89<br>Observations: 9",
          "Texas<br>Average Salary: 95394.25<br>Observations: 12",
          "Texas<br>Average Salary: 122691.91<br>Observations: 11",
          "Texas<br>Average Salary: 85401.83<br>Observations: 6",
          "Utah<br>Average Salary: 68472.0<br>Observations: 4",
          "Utah<br>Average Salary: 106122.33<br>Observations: 3",
          "Utah<br>Average Salary: 103628.5<br>Observations: 2",
          "Utah<br>Average Salary: 107907.0<br>Observations: 1",
          "Virginia<br>Average Salary: 69827.0<br>Observations: 8",
          "Virginia<br>Average Salary: 108092.0<br>Observations: 6",
          "Virginia<br>Average Salary: 106046.86<br>Observations: 21",
          "Virginia<br>Average Salary: 98636.0<br>Observations: 2",
          "Washington<br>Average Salary: 79411.5<br>Observations: 2",
          "Washington<br>Average Salary: 189838.0<br>Observations: 4",
          "Washington<br>Average Salary: 121280.58<br>Observations: 12",
          "Washington<br>Average Salary: 224500.0<br>Observations: 2",
          "Washington<br>Average Salary: 136868.0<br>Observations: 2",
          "Wisconsin<br>Average Salary: 55509.33<br>Observations: 3",
          "Wisconsin<br>Average Salary: 125350.0<br>Observations: 1",
          "Wisconsin<br>Average Salary: 57500.0<br>Observations: 2",
          "Minnesota<br>Average Salary: 90814.25<br>Observations: 4",
          "Minnesota<br>Average Salary: 87710.25<br>Observations: 4",
          "Oklahoma<br>Average Salary: 121333.33<br>Observations: 3",
          "Oklahoma<br>Average Salary: 88563.0<br>Observations: 1",
          "Oregon<br>Average Salary: 93967.0<br>Observations: 1",
          "Oregon<br>Average Salary: 104289.0<br>Observations: 1",
          "Connecticut<br>Average Salary: 109360.0<br>Observations: 1",
          "Connecticut<br>Average Salary: 135000.0<br>Observations: 3",
          "Nebraska<br>Average Salary: 117500.0<br>Observations: 1",
          "New Mexico<br>Average Salary: 140000.0<br>Observations: 2",
          "Rhode Island<br>Average Salary: 95000.0<br>Observations: 1",
          null,
          null,
          null,
          null,
          null
         ],
         "locationmode": "USA-states",
         "locations": [
          "AL",
          "AR",
          "AR",
          "AZ",
          "AZ",
          "CA",
          "CA",
          "CA",
          "CA",
          "CA",
          "CO",
          "CO",
          "CO",
          "CO",
          "CO",
          "DE",
          "DE",
          "FL",
          "FL",
          "FL",
          "FL",
          "FL",
          "GA",
          "GA",
          "GA",
          "GA",
          "IA",
          "IA",
          "IA",
          "ID",
          "ID",
          "ID",
          "IL",
          "IL",
          "IL",
          "IL",
          "IL",
          "IN",
          "IN",
          "IN",
          "KS",
          "LA",
          "LA",
          "LA",
          "MA",
          "MA",
          "MA",
          "MA",
          "MA",
          "MD",
          "MD",
          "MD",
          "MD",
          "MI",
          "MI",
          "MI",
          "MI",
          "MO",
          "MO",
          "MO",
          "MS",
          "NC",
          "NC",
          "NC",
          "NC",
          "NJ",
          "NJ",
          "NJ",
          "NJ",
          "NV",
          "NV",
          "NY",
          "NY",
          "NY",
          "NY",
          "NY",
          "OH",
          "OH",
          "OH",
          "PA",
          "PA",
          "PA",
          "PA",
          "SC",
          "SC",
          "SC",
          "TN",
          "TN",
          "TX",
          "TX",
          "TX",
          "TX",
          "UT",
          "UT",
          "UT",
          "UT",
          "VA",
          "VA",
          "VA",
          "VA",
          "WA",
          "WA",
          "WA",
          "WA",
          "WA",
          "WI",
          "WI",
          "WI",
          "MN",
          "MN",
          "OK",
          "OK",
          "OR",
          "OR",
          "CT",
          "CT",
          "NE",
          "NM",
          "RI",
          "Remote",
          "Remote",
          "Remote",
          "Remote",
          "Remote"
         ],
         "type": "choropleth",
         "z": [
          53877,
          74844,
          54281,
          68167.59999999999,
          88617.5,
          113837.42222222223,
          126787.33333333333,
          133823.572,
          130544.3125,
          126636.7,
          84785.71428571429,
          136188.5,
          123681,
          91950,
          94450,
          78000,
          79087,
          65248.28571428572,
          87706.66666666667,
          105315,
          105577,
          43039,
          52826,
          133469.33333333334,
          103268,
          101125.5,
          70935,
          86265,
          94888,
          70327.5,
          75312,
          107694,
          80110.625,
          98626.625,
          106816.1875,
          85619.33333333333,
          105921,
          58056,
          51672,
          102724,
          61695,
          75627,
          90402,
          113644,
          88440,
          95246.16666666667,
          116814.93333333333,
          120319.63157894737,
          80681,
          78430.28571428571,
          115583.6,
          104973.90909090909,
          85493.4,
          64170,
          72604,
          86352.57142857143,
          67500,
          58750,
          56945,
          100350.16666666667,
          46739,
          103807.33333333333,
          108311.84,
          105328.14285714286,
          61000,
          83221.66666666667,
          116759.2,
          107344.2,
          114555.33333333333,
          69078,
          130522,
          77442.36363636363,
          114749.96,
          136376.3448275862,
          119588.3125,
          150023.2857142857,
          77515,
          76350.66666666667,
          100481,
          71611.875,
          113328.33333333333,
          102437.66666666667,
          80121,
          74069.5,
          113750,
          107500,
          32117,
          105299,
          82886.88888888889,
          95394.25,
          122691.90909090909,
          85401.83333333333,
          68472,
          106122.33333333333,
          103628.5,
          107907,
          69827,
          108092,
          106046.85714285714,
          98636,
          79411.5,
          189838,
          121280.58333333333,
          224500,
          136868,
          55509.333333333336,
          125350,
          57500,
          90814.25,
          87710.25,
          121333.33333333333,
          88563,
          93967,
          104289,
          109360,
          135000,
          117500,
          140000,
          95000,
          97767.71052631579,
          126743.23333333334,
          129861.9076923077,
          148598.22222222222,
          101242.28571428571
         ]
        }
       ],
       "layout": {
        "geo": {
         "scope": "usa"
        },
        "template": {
         "data": {
          "bar": [
           {
            "error_x": {
             "color": "#2a3f5f"
            },
            "error_y": {
             "color": "#2a3f5f"
            },
            "marker": {
             "line": {
              "color": "#E5ECF6",
              "width": 0.5
             },
             "pattern": {
              "fillmode": "overlay",
              "size": 10,
              "solidity": 0.2
             }
            },
            "type": "bar"
           }
          ],
          "barpolar": [
           {
            "marker": {
             "line": {
              "color": "#E5ECF6",
              "width": 0.5
             },
             "pattern": {
              "fillmode": "overlay",
              "size": 10,
              "solidity": 0.2
             }
            },
            "type": "barpolar"
           }
          ],
          "carpet": [
           {
            "aaxis": {
             "endlinecolor": "#2a3f5f",
             "gridcolor": "white",
             "linecolor": "white",
             "minorgridcolor": "white",
             "startlinecolor": "#2a3f5f"
            },
            "baxis": {
             "endlinecolor": "#2a3f5f",
             "gridcolor": "white",
             "linecolor": "white",
             "minorgridcolor": "white",
             "startlinecolor": "#2a3f5f"
            },
            "type": "carpet"
           }
          ],
          "choropleth": [
           {
            "colorbar": {
             "outlinewidth": 0,
             "ticks": ""
            },
            "type": "choropleth"
           }
          ],
          "contour": [
           {
            "colorbar": {
             "outlinewidth": 0,
             "ticks": ""
            },
            "colorscale": [
             [
              0,
              "#0d0887"
             ],
             [
              0.1111111111111111,
              "#46039f"
             ],
             [
              0.2222222222222222,
              "#7201a8"
             ],
             [
              0.3333333333333333,
              "#9c179e"
             ],
             [
              0.4444444444444444,
              "#bd3786"
             ],
             [
              0.5555555555555556,
              "#d8576b"
             ],
             [
              0.6666666666666666,
              "#ed7953"
             ],
             [
              0.7777777777777778,
              "#fb9f3a"
             ],
             [
              0.8888888888888888,
              "#fdca26"
             ],
             [
              1,
              "#f0f921"
             ]
            ],
            "type": "contour"
           }
          ],
          "contourcarpet": [
           {
            "colorbar": {
             "outlinewidth": 0,
             "ticks": ""
            },
            "type": "contourcarpet"
           }
          ],
          "heatmap": [
           {
            "colorbar": {
             "outlinewidth": 0,
             "ticks": ""
            },
            "colorscale": [
             [
              0,
              "#0d0887"
             ],
             [
              0.1111111111111111,
              "#46039f"
             ],
             [
              0.2222222222222222,
              "#7201a8"
             ],
             [
              0.3333333333333333,
              "#9c179e"
             ],
             [
              0.4444444444444444,
              "#bd3786"
             ],
             [
              0.5555555555555556,
              "#d8576b"
             ],
             [
              0.6666666666666666,
              "#ed7953"
             ],
             [
              0.7777777777777778,
              "#fb9f3a"
             ],
             [
              0.8888888888888888,
              "#fdca26"
             ],
             [
              1,
              "#f0f921"
             ]
            ],
            "type": "heatmap"
           }
          ],
          "heatmapgl": [
           {
            "colorbar": {
             "outlinewidth": 0,
             "ticks": ""
            },
            "colorscale": [
             [
              0,
              "#0d0887"
             ],
             [
              0.1111111111111111,
              "#46039f"
             ],
             [
              0.2222222222222222,
              "#7201a8"
             ],
             [
              0.3333333333333333,
              "#9c179e"
             ],
             [
              0.4444444444444444,
              "#bd3786"
             ],
             [
              0.5555555555555556,
              "#d8576b"
             ],
             [
              0.6666666666666666,
              "#ed7953"
             ],
             [
              0.7777777777777778,
              "#fb9f3a"
             ],
             [
              0.8888888888888888,
              "#fdca26"
             ],
             [
              1,
              "#f0f921"
             ]
            ],
            "type": "heatmapgl"
           }
          ],
          "histogram": [
           {
            "marker": {
             "pattern": {
              "fillmode": "overlay",
              "size": 10,
              "solidity": 0.2
             }
            },
            "type": "histogram"
           }
          ],
          "histogram2d": [
           {
            "colorbar": {
             "outlinewidth": 0,
             "ticks": ""
            },
            "colorscale": [
             [
              0,
              "#0d0887"
             ],
             [
              0.1111111111111111,
              "#46039f"
             ],
             [
              0.2222222222222222,
              "#7201a8"
             ],
             [
              0.3333333333333333,
              "#9c179e"
             ],
             [
              0.4444444444444444,
              "#bd3786"
             ],
             [
              0.5555555555555556,
              "#d8576b"
             ],
             [
              0.6666666666666666,
              "#ed7953"
             ],
             [
              0.7777777777777778,
              "#fb9f3a"
             ],
             [
              0.8888888888888888,
              "#fdca26"
             ],
             [
              1,
              "#f0f921"
             ]
            ],
            "type": "histogram2d"
           }
          ],
          "histogram2dcontour": [
           {
            "colorbar": {
             "outlinewidth": 0,
             "ticks": ""
            },
            "colorscale": [
             [
              0,
              "#0d0887"
             ],
             [
              0.1111111111111111,
              "#46039f"
             ],
             [
              0.2222222222222222,
              "#7201a8"
             ],
             [
              0.3333333333333333,
              "#9c179e"
             ],
             [
              0.4444444444444444,
              "#bd3786"
             ],
             [
              0.5555555555555556,
              "#d8576b"
             ],
             [
              0.6666666666666666,
              "#ed7953"
             ],
             [
              0.7777777777777778,
              "#fb9f3a"
             ],
             [
              0.8888888888888888,
              "#fdca26"
             ],
             [
              1,
              "#f0f921"
             ]
            ],
            "type": "histogram2dcontour"
           }
          ],
          "mesh3d": [
           {
            "colorbar": {
             "outlinewidth": 0,
             "ticks": ""
            },
            "type": "mesh3d"
           }
          ],
          "parcoords": [
           {
            "line": {
             "colorbar": {
              "outlinewidth": 0,
              "ticks": ""
             }
            },
            "type": "parcoords"
           }
          ],
          "pie": [
           {
            "automargin": true,
            "type": "pie"
           }
          ],
          "scatter": [
           {
            "fillpattern": {
             "fillmode": "overlay",
             "size": 10,
             "solidity": 0.2
            },
            "type": "scatter"
           }
          ],
          "scatter3d": [
           {
            "line": {
             "colorbar": {
              "outlinewidth": 0,
              "ticks": ""
             }
            },
            "marker": {
             "colorbar": {
              "outlinewidth": 0,
              "ticks": ""
             }
            },
            "type": "scatter3d"
           }
          ],
          "scattercarpet": [
           {
            "marker": {
             "colorbar": {
              "outlinewidth": 0,
              "ticks": ""
             }
            },
            "type": "scattercarpet"
           }
          ],
          "scattergeo": [
           {
            "marker": {
             "colorbar": {
              "outlinewidth": 0,
              "ticks": ""
             }
            },
            "type": "scattergeo"
           }
          ],
          "scattergl": [
           {
            "marker": {
             "colorbar": {
              "outlinewidth": 0,
              "ticks": ""
             }
            },
            "type": "scattergl"
           }
          ],
          "scattermapbox": [
           {
            "marker": {
             "colorbar": {
              "outlinewidth": 0,
              "ticks": ""
             }
            },
            "type": "scattermapbox"
           }
          ],
          "scatterpolar": [
           {
            "marker": {
             "colorbar": {
              "outlinewidth": 0,
              "ticks": ""
             }
            },
            "type": "scatterpolar"
           }
          ],
          "scatterpolargl": [
           {
            "marker": {
             "colorbar": {
              "outlinewidth": 0,
              "ticks": ""
             }
            },
            "type": "scatterpolargl"
           }
          ],
          "scatterternary": [
           {
            "marker": {
             "colorbar": {
              "outlinewidth": 0,
              "ticks": ""
             }
            },
            "type": "scatterternary"
           }
          ],
          "surface": [
           {
            "colorbar": {
             "outlinewidth": 0,
             "ticks": ""
            },
            "colorscale": [
             [
              0,
              "#0d0887"
             ],
             [
              0.1111111111111111,
              "#46039f"
             ],
             [
              0.2222222222222222,
              "#7201a8"
             ],
             [
              0.3333333333333333,
              "#9c179e"
             ],
             [
              0.4444444444444444,
              "#bd3786"
             ],
             [
              0.5555555555555556,
              "#d8576b"
             ],
             [
              0.6666666666666666,
              "#ed7953"
             ],
             [
              0.7777777777777778,
              "#fb9f3a"
             ],
             [
              0.8888888888888888,
              "#fdca26"
             ],
             [
              1,
              "#f0f921"
             ]
            ],
            "type": "surface"
           }
          ],
          "table": [
           {
            "cells": {
             "fill": {
              "color": "#EBF0F8"
             },
             "line": {
              "color": "white"
             }
            },
            "header": {
             "fill": {
              "color": "#C8D4E3"
             },
             "line": {
              "color": "white"
             }
            },
            "type": "table"
           }
          ]
         },
         "layout": {
          "annotationdefaults": {
           "arrowcolor": "#2a3f5f",
           "arrowhead": 0,
           "arrowwidth": 1
          },
          "autotypenumbers": "strict",
          "coloraxis": {
           "colorbar": {
            "outlinewidth": 0,
            "ticks": ""
           }
          },
          "colorscale": {
           "diverging": [
            [
             0,
             "#8e0152"
            ],
            [
             0.1,
             "#c51b7d"
            ],
            [
             0.2,
             "#de77ae"
            ],
            [
             0.3,
             "#f1b6da"
            ],
            [
             0.4,
             "#fde0ef"
            ],
            [
             0.5,
             "#f7f7f7"
            ],
            [
             0.6,
             "#e6f5d0"
            ],
            [
             0.7,
             "#b8e186"
            ],
            [
             0.8,
             "#7fbc41"
            ],
            [
             0.9,
             "#4d9221"
            ],
            [
             1,
             "#276419"
            ]
           ],
           "sequential": [
            [
             0,
             "#0d0887"
            ],
            [
             0.1111111111111111,
             "#46039f"
            ],
            [
             0.2222222222222222,
             "#7201a8"
            ],
            [
             0.3333333333333333,
             "#9c179e"
            ],
            [
             0.4444444444444444,
             "#bd3786"
            ],
            [
             0.5555555555555556,
             "#d8576b"
            ],
            [
             0.6666666666666666,
             "#ed7953"
            ],
            [
             0.7777777777777778,
             "#fb9f3a"
            ],
            [
             0.8888888888888888,
             "#fdca26"
            ],
            [
             1,
             "#f0f921"
            ]
           ],
           "sequentialminus": [
            [
             0,
             "#0d0887"
            ],
            [
             0.1111111111111111,
             "#46039f"
            ],
            [
             0.2222222222222222,
             "#7201a8"
            ],
            [
             0.3333333333333333,
             "#9c179e"
            ],
            [
             0.4444444444444444,
             "#bd3786"
            ],
            [
             0.5555555555555556,
             "#d8576b"
            ],
            [
             0.6666666666666666,
             "#ed7953"
            ],
            [
             0.7777777777777778,
             "#fb9f3a"
            ],
            [
             0.8888888888888888,
             "#fdca26"
            ],
            [
             1,
             "#f0f921"
            ]
           ]
          },
          "colorway": [
           "#636efa",
           "#EF553B",
           "#00cc96",
           "#ab63fa",
           "#FFA15A",
           "#19d3f3",
           "#FF6692",
           "#B6E880",
           "#FF97FF",
           "#FECB52"
          ],
          "font": {
           "color": "#2a3f5f"
          },
          "geo": {
           "bgcolor": "white",
           "lakecolor": "white",
           "landcolor": "#E5ECF6",
           "showlakes": true,
           "showland": true,
           "subunitcolor": "white"
          },
          "hoverlabel": {
           "align": "left"
          },
          "hovermode": "closest",
          "mapbox": {
           "style": "light"
          },
          "paper_bgcolor": "white",
          "plot_bgcolor": "#E5ECF6",
          "polar": {
           "angularaxis": {
            "gridcolor": "white",
            "linecolor": "white",
            "ticks": ""
           },
           "bgcolor": "#E5ECF6",
           "radialaxis": {
            "gridcolor": "white",
            "linecolor": "white",
            "ticks": ""
           }
          },
          "scene": {
           "xaxis": {
            "backgroundcolor": "#E5ECF6",
            "gridcolor": "white",
            "gridwidth": 2,
            "linecolor": "white",
            "showbackground": true,
            "ticks": "",
            "zerolinecolor": "white"
           },
           "yaxis": {
            "backgroundcolor": "#E5ECF6",
            "gridcolor": "white",
            "gridwidth": 2,
            "linecolor": "white",
            "showbackground": true,
            "ticks": "",
            "zerolinecolor": "white"
           },
           "zaxis": {
            "backgroundcolor": "#E5ECF6",
            "gridcolor": "white",
            "gridwidth": 2,
            "linecolor": "white",
            "showbackground": true,
            "ticks": "",
            "zerolinecolor": "white"
           }
          },
          "shapedefaults": {
           "line": {
            "color": "#2a3f5f"
           }
          },
          "ternary": {
           "aaxis": {
            "gridcolor": "white",
            "linecolor": "white",
            "ticks": ""
           },
           "baxis": {
            "gridcolor": "white",
            "linecolor": "white",
            "ticks": ""
           },
           "bgcolor": "#E5ECF6",
           "caxis": {
            "gridcolor": "white",
            "linecolor": "white",
            "ticks": ""
           }
          },
          "title": {
           "x": 0.05
          },
          "xaxis": {
           "automargin": true,
           "gridcolor": "white",
           "linecolor": "white",
           "ticks": "",
           "title": {
            "standoff": 15
           },
           "zerolinecolor": "white",
           "zerolinewidth": 2
          },
          "yaxis": {
           "automargin": true,
           "gridcolor": "white",
           "linecolor": "white",
           "ticks": "",
           "title": {
            "standoff": 15
           },
           "zerolinecolor": "white",
           "zerolinewidth": 2
          }
         }
        },
        "title": {
         "text": "Average Salary by State in the USA"
        }
       }
      },
      "text/html": [
       "<div>                            <div id=\"a9f7d9aa-d10a-4daf-805f-3d11b587b0f9\" class=\"plotly-graph-div\" style=\"height:525px; width:100%;\"></div>            <script type=\"text/javascript\">                require([\"plotly\"], function(Plotly) {                    window.PLOTLYENV=window.PLOTLYENV || {};                                    if (document.getElementById(\"a9f7d9aa-d10a-4daf-805f-3d11b587b0f9\")) {                    Plotly.newPlot(                        \"a9f7d9aa-d10a-4daf-805f-3d11b587b0f9\",                        [{\"colorbar\":{\"title\":{\"text\":\"Average Salary\"}},\"hovertext\":[\"Alabama<br>Average Salary: 53877.0<br>Observations: 1\",\"Arkansas<br>Average Salary: 74844.0<br>Observations: 1\",\"Arkansas<br>Average Salary: 54281.0<br>Observations: 1\",\"Arizona<br>Average Salary: 68167.6<br>Observations: 3\",\"Arizona<br>Average Salary: 88617.5<br>Observations: 2\",\"California<br>Average Salary: 113837.42<br>Observations: 18\",\"California<br>Average Salary: 126787.33<br>Observations: 12\",\"California<br>Average Salary: 133823.57<br>Observations: 50\",\"California<br>Average Salary: 130544.31<br>Observations: 16\",\"California<br>Average Salary: 126636.7<br>Observations: 4\",\"Colorado<br>Average Salary: 84785.71<br>Observations: 7\",\"Colorado<br>Average Salary: 136188.5<br>Observations: 2\",\"Colorado<br>Average Salary: 123681.0<br>Observations: 9\",\"Colorado<br>Average Salary: 91950.0<br>Observations: 1\",\"Colorado<br>Average Salary: 94450.0<br>Observations: 1\",\"Delaware<br>Average Salary: 78000.0<br>Observations: 1\",\"Delaware<br>Average Salary: 79087.0<br>Observations: 2\",\"Florida<br>Average Salary: 65248.29<br>Observations: 7\",\"Florida<br>Average Salary: 87706.67<br>Observations: 3\",\"Florida<br>Average Salary: 105315.0<br>Observations: 6\",\"Florida<br>Average Salary: 105577.0<br>Observations: 2\",\"Florida<br>Average Salary: 43039.0<br>Observations: 1\",\"Georgia<br>Average Salary: 52826.0<br>Observations: 2\",\"Georgia<br>Average Salary: 133469.33<br>Observations: 3\",\"Georgia<br>Average Salary: 103268.0<br>Observations: 1\",\"Georgia<br>Average Salary: 101125.5<br>Observations: 2\",\"Iowa<br>Average Salary: 70935.0<br>Observations: 2\",\"Iowa<br>Average Salary: 86265.0<br>Observations: 1\",\"Iowa<br>Average Salary: 94888.0<br>Observations: 2\",\"Idaho<br>Average Salary: 70327.5<br>Observations: 2\",\"Idaho<br>Average Salary: 75312.0<br>Observations: 1\",\"Idaho<br>Average Salary: 107694.0<br>Observations: 1\",\"Illinois<br>Average Salary: 80110.62<br>Observations: 8\",\"Illinois<br>Average Salary: 98626.62<br>Observations: 8\",\"Illinois<br>Average Salary: 106816.19<br>Observations: 16\",\"Illinois<br>Average Salary: 85619.33<br>Observations: 3\",\"Illinois<br>Average Salary: 105921.0<br>Observations: 3\",\"Indiana<br>Average Salary: 58056.0<br>Observations: 1\",\"Indiana<br>Average Salary: 51672.0<br>Observations: 1\",\"Indiana<br>Average Salary: 102724.0<br>Observations: 2\",\"Kansas<br>Average Salary: 61695.0<br>Observations: 1\",\"Louisiana<br>Average Salary: 75627.0<br>Observations: 3\",\"Louisiana<br>Average Salary: 90402.0<br>Observations: 1\",\"Louisiana<br>Average Salary: 113644.0<br>Observations: 1\",\"Massachusetts<br>Average Salary: 88440.0<br>Observations: 3\",\"Massachusetts<br>Average Salary: 95246.17<br>Observations: 6\",\"Massachusetts<br>Average Salary: 116814.93<br>Observations: 15\",\"Massachusetts<br>Average Salary: 120319.63<br>Observations: 19\",\"Massachusetts<br>Average Salary: 80681.0<br>Observations: 2\",\"Maryland<br>Average Salary: 78430.29<br>Observations: 7\",\"Maryland<br>Average Salary: 115583.6<br>Observations: 5\",\"Maryland<br>Average Salary: 104973.91<br>Observations: 11\",\"Maryland<br>Average Salary: 85493.4<br>Observations: 5\",\"Michigan<br>Average Salary: 64170.0<br>Observations: 2\",\"Michigan<br>Average Salary: 72604.0<br>Observations: 1\",\"Michigan<br>Average Salary: 86352.57<br>Observations: 7\",\"Michigan<br>Average Salary: 67500.0<br>Observations: 1\",\"Missouri<br>Average Salary: 58750.0<br>Observations: 2\",\"Missouri<br>Average Salary: 56945.0<br>Observations: 4\",\"Missouri<br>Average Salary: 100350.17<br>Observations: 6\",\"Mississippi<br>Average Salary: 46739.0<br>Observations: 1\",\"North Carolina<br>Average Salary: 103807.33<br>Observations: 3\",\"North Carolina<br>Average Salary: 108311.84<br>Observations: 5\",\"North Carolina<br>Average Salary: 105328.14<br>Observations: 7\",\"North Carolina<br>Average Salary: 61000.0<br>Observations: 1\",\"New Jersey<br>Average Salary: 83221.67<br>Observations: 3\",\"New Jersey<br>Average Salary: 116759.2<br>Observations: 5\",\"New Jersey<br>Average Salary: 107344.2<br>Observations: 10\",\"New Jersey<br>Average Salary: 114555.33<br>Observations: 3\",\"Nevada<br>Average Salary: 69078.0<br>Observations: 1\",\"Nevada<br>Average Salary: 130522.0<br>Observations: 1\",\"New York<br>Average Salary: 77442.36<br>Observations: 22\",\"New York<br>Average Salary: 114749.96<br>Observations: 5\",\"New York<br>Average Salary: 136376.34<br>Observations: 29\",\"New York<br>Average Salary: 119588.31<br>Observations: 16\",\"New York<br>Average Salary: 150023.29<br>Observations: 7\",\"Ohio<br>Average Salary: 77515.0<br>Observations: 5\",\"Ohio<br>Average Salary: 76350.67<br>Observations: 3\",\"Ohio<br>Average Salary: 100481.0<br>Observations: 1\",\"Pennsylvania<br>Average Salary: 71611.88<br>Observations: 8\",\"Pennsylvania<br>Average Salary: 113328.33<br>Observations: 3\",\"Pennsylvania<br>Average Salary: 102437.67<br>Observations: 6\",\"Pennsylvania<br>Average Salary: 80121.0<br>Observations: 2\",\"South Carolina<br>Average Salary: 74069.5<br>Observations: 2\",\"South Carolina<br>Average Salary: 113750.0<br>Observations: 1\",\"South Carolina<br>Average Salary: 107500.0<br>Observations: 1\",\"Tennessee<br>Average Salary: 32117.0<br>Observations: 2\",\"Tennessee<br>Average Salary: 105299.0<br>Observations: 1\",\"Texas<br>Average Salary: 82886.89<br>Observations: 9\",\"Texas<br>Average Salary: 95394.25<br>Observations: 12\",\"Texas<br>Average Salary: 122691.91<br>Observations: 11\",\"Texas<br>Average Salary: 85401.83<br>Observations: 6\",\"Utah<br>Average Salary: 68472.0<br>Observations: 4\",\"Utah<br>Average Salary: 106122.33<br>Observations: 3\",\"Utah<br>Average Salary: 103628.5<br>Observations: 2\",\"Utah<br>Average Salary: 107907.0<br>Observations: 1\",\"Virginia<br>Average Salary: 69827.0<br>Observations: 8\",\"Virginia<br>Average Salary: 108092.0<br>Observations: 6\",\"Virginia<br>Average Salary: 106046.86<br>Observations: 21\",\"Virginia<br>Average Salary: 98636.0<br>Observations: 2\",\"Washington<br>Average Salary: 79411.5<br>Observations: 2\",\"Washington<br>Average Salary: 189838.0<br>Observations: 4\",\"Washington<br>Average Salary: 121280.58<br>Observations: 12\",\"Washington<br>Average Salary: 224500.0<br>Observations: 2\",\"Washington<br>Average Salary: 136868.0<br>Observations: 2\",\"Wisconsin<br>Average Salary: 55509.33<br>Observations: 3\",\"Wisconsin<br>Average Salary: 125350.0<br>Observations: 1\",\"Wisconsin<br>Average Salary: 57500.0<br>Observations: 2\",\"Minnesota<br>Average Salary: 90814.25<br>Observations: 4\",\"Minnesota<br>Average Salary: 87710.25<br>Observations: 4\",\"Oklahoma<br>Average Salary: 121333.33<br>Observations: 3\",\"Oklahoma<br>Average Salary: 88563.0<br>Observations: 1\",\"Oregon<br>Average Salary: 93967.0<br>Observations: 1\",\"Oregon<br>Average Salary: 104289.0<br>Observations: 1\",\"Connecticut<br>Average Salary: 109360.0<br>Observations: 1\",\"Connecticut<br>Average Salary: 135000.0<br>Observations: 3\",\"Nebraska<br>Average Salary: 117500.0<br>Observations: 1\",\"New Mexico<br>Average Salary: 140000.0<br>Observations: 2\",\"Rhode Island<br>Average Salary: 95000.0<br>Observations: 1\",null,null,null,null,null],\"locationmode\":\"USA-states\",\"locations\":[\"AL\",\"AR\",\"AR\",\"AZ\",\"AZ\",\"CA\",\"CA\",\"CA\",\"CA\",\"CA\",\"CO\",\"CO\",\"CO\",\"CO\",\"CO\",\"DE\",\"DE\",\"FL\",\"FL\",\"FL\",\"FL\",\"FL\",\"GA\",\"GA\",\"GA\",\"GA\",\"IA\",\"IA\",\"IA\",\"ID\",\"ID\",\"ID\",\"IL\",\"IL\",\"IL\",\"IL\",\"IL\",\"IN\",\"IN\",\"IN\",\"KS\",\"LA\",\"LA\",\"LA\",\"MA\",\"MA\",\"MA\",\"MA\",\"MA\",\"MD\",\"MD\",\"MD\",\"MD\",\"MI\",\"MI\",\"MI\",\"MI\",\"MO\",\"MO\",\"MO\",\"MS\",\"NC\",\"NC\",\"NC\",\"NC\",\"NJ\",\"NJ\",\"NJ\",\"NJ\",\"NV\",\"NV\",\"NY\",\"NY\",\"NY\",\"NY\",\"NY\",\"OH\",\"OH\",\"OH\",\"PA\",\"PA\",\"PA\",\"PA\",\"SC\",\"SC\",\"SC\",\"TN\",\"TN\",\"TX\",\"TX\",\"TX\",\"TX\",\"UT\",\"UT\",\"UT\",\"UT\",\"VA\",\"VA\",\"VA\",\"VA\",\"WA\",\"WA\",\"WA\",\"WA\",\"WA\",\"WI\",\"WI\",\"WI\",\"MN\",\"MN\",\"OK\",\"OK\",\"OR\",\"OR\",\"CT\",\"CT\",\"NE\",\"NM\",\"RI\",\"Remote\",\"Remote\",\"Remote\",\"Remote\",\"Remote\"],\"z\":[53877.0,74844.0,54281.0,68167.59999999999,88617.5,113837.42222222223,126787.33333333333,133823.572,130544.3125,126636.7,84785.71428571429,136188.5,123681.0,91950.0,94450.0,78000.0,79087.0,65248.28571428572,87706.66666666667,105315.0,105577.0,43039.0,52826.0,133469.33333333334,103268.0,101125.5,70935.0,86265.0,94888.0,70327.5,75312.0,107694.0,80110.625,98626.625,106816.1875,85619.33333333333,105921.0,58056.0,51672.0,102724.0,61695.0,75627.0,90402.0,113644.0,88440.0,95246.16666666667,116814.93333333333,120319.63157894737,80681.0,78430.28571428571,115583.6,104973.90909090909,85493.4,64170.0,72604.0,86352.57142857143,67500.0,58750.0,56945.0,100350.16666666667,46739.0,103807.33333333333,108311.84,105328.14285714286,61000.0,83221.66666666667,116759.2,107344.2,114555.33333333333,69078.0,130522.0,77442.36363636363,114749.96,136376.3448275862,119588.3125,150023.2857142857,77515.0,76350.66666666667,100481.0,71611.875,113328.33333333333,102437.66666666667,80121.0,74069.5,113750.0,107500.0,32117.0,105299.0,82886.88888888889,95394.25,122691.90909090909,85401.83333333333,68472.0,106122.33333333333,103628.5,107907.0,69827.0,108092.0,106046.85714285714,98636.0,79411.5,189838.0,121280.58333333333,224500.0,136868.0,55509.333333333336,125350.0,57500.0,90814.25,87710.25,121333.33333333333,88563.0,93967.0,104289.0,109360.0,135000.0,117500.0,140000.0,95000.0,97767.71052631579,126743.23333333334,129861.9076923077,148598.22222222222,101242.28571428571],\"type\":\"choropleth\"}],                        {\"template\":{\"data\":{\"histogram2dcontour\":[{\"type\":\"histogram2dcontour\",\"colorbar\":{\"outlinewidth\":0,\"ticks\":\"\"},\"colorscale\":[[0.0,\"#0d0887\"],[0.1111111111111111,\"#46039f\"],[0.2222222222222222,\"#7201a8\"],[0.3333333333333333,\"#9c179e\"],[0.4444444444444444,\"#bd3786\"],[0.5555555555555556,\"#d8576b\"],[0.6666666666666666,\"#ed7953\"],[0.7777777777777778,\"#fb9f3a\"],[0.8888888888888888,\"#fdca26\"],[1.0,\"#f0f921\"]]}],\"choropleth\":[{\"type\":\"choropleth\",\"colorbar\":{\"outlinewidth\":0,\"ticks\":\"\"}}],\"histogram2d\":[{\"type\":\"histogram2d\",\"colorbar\":{\"outlinewidth\":0,\"ticks\":\"\"},\"colorscale\":[[0.0,\"#0d0887\"],[0.1111111111111111,\"#46039f\"],[0.2222222222222222,\"#7201a8\"],[0.3333333333333333,\"#9c179e\"],[0.4444444444444444,\"#bd3786\"],[0.5555555555555556,\"#d8576b\"],[0.6666666666666666,\"#ed7953\"],[0.7777777777777778,\"#fb9f3a\"],[0.8888888888888888,\"#fdca26\"],[1.0,\"#f0f921\"]]}],\"heatmap\":[{\"type\":\"heatmap\",\"colorbar\":{\"outlinewidth\":0,\"ticks\":\"\"},\"colorscale\":[[0.0,\"#0d0887\"],[0.1111111111111111,\"#46039f\"],[0.2222222222222222,\"#7201a8\"],[0.3333333333333333,\"#9c179e\"],[0.4444444444444444,\"#bd3786\"],[0.5555555555555556,\"#d8576b\"],[0.6666666666666666,\"#ed7953\"],[0.7777777777777778,\"#fb9f3a\"],[0.8888888888888888,\"#fdca26\"],[1.0,\"#f0f921\"]]}],\"heatmapgl\":[{\"type\":\"heatmapgl\",\"colorbar\":{\"outlinewidth\":0,\"ticks\":\"\"},\"colorscale\":[[0.0,\"#0d0887\"],[0.1111111111111111,\"#46039f\"],[0.2222222222222222,\"#7201a8\"],[0.3333333333333333,\"#9c179e\"],[0.4444444444444444,\"#bd3786\"],[0.5555555555555556,\"#d8576b\"],[0.6666666666666666,\"#ed7953\"],[0.7777777777777778,\"#fb9f3a\"],[0.8888888888888888,\"#fdca26\"],[1.0,\"#f0f921\"]]}],\"contourcarpet\":[{\"type\":\"contourcarpet\",\"colorbar\":{\"outlinewidth\":0,\"ticks\":\"\"}}],\"contour\":[{\"type\":\"contour\",\"colorbar\":{\"outlinewidth\":0,\"ticks\":\"\"},\"colorscale\":[[0.0,\"#0d0887\"],[0.1111111111111111,\"#46039f\"],[0.2222222222222222,\"#7201a8\"],[0.3333333333333333,\"#9c179e\"],[0.4444444444444444,\"#bd3786\"],[0.5555555555555556,\"#d8576b\"],[0.6666666666666666,\"#ed7953\"],[0.7777777777777778,\"#fb9f3a\"],[0.8888888888888888,\"#fdca26\"],[1.0,\"#f0f921\"]]}],\"surface\":[{\"type\":\"surface\",\"colorbar\":{\"outlinewidth\":0,\"ticks\":\"\"},\"colorscale\":[[0.0,\"#0d0887\"],[0.1111111111111111,\"#46039f\"],[0.2222222222222222,\"#7201a8\"],[0.3333333333333333,\"#9c179e\"],[0.4444444444444444,\"#bd3786\"],[0.5555555555555556,\"#d8576b\"],[0.6666666666666666,\"#ed7953\"],[0.7777777777777778,\"#fb9f3a\"],[0.8888888888888888,\"#fdca26\"],[1.0,\"#f0f921\"]]}],\"mesh3d\":[{\"type\":\"mesh3d\",\"colorbar\":{\"outlinewidth\":0,\"ticks\":\"\"}}],\"scatter\":[{\"fillpattern\":{\"fillmode\":\"overlay\",\"size\":10,\"solidity\":0.2},\"type\":\"scatter\"}],\"parcoords\":[{\"type\":\"parcoords\",\"line\":{\"colorbar\":{\"outlinewidth\":0,\"ticks\":\"\"}}}],\"scatterpolargl\":[{\"type\":\"scatterpolargl\",\"marker\":{\"colorbar\":{\"outlinewidth\":0,\"ticks\":\"\"}}}],\"bar\":[{\"error_x\":{\"color\":\"#2a3f5f\"},\"error_y\":{\"color\":\"#2a3f5f\"},\"marker\":{\"line\":{\"color\":\"#E5ECF6\",\"width\":0.5},\"pattern\":{\"fillmode\":\"overlay\",\"size\":10,\"solidity\":0.2}},\"type\":\"bar\"}],\"scattergeo\":[{\"type\":\"scattergeo\",\"marker\":{\"colorbar\":{\"outlinewidth\":0,\"ticks\":\"\"}}}],\"scatterpolar\":[{\"type\":\"scatterpolar\",\"marker\":{\"colorbar\":{\"outlinewidth\":0,\"ticks\":\"\"}}}],\"histogram\":[{\"marker\":{\"pattern\":{\"fillmode\":\"overlay\",\"size\":10,\"solidity\":0.2}},\"type\":\"histogram\"}],\"scattergl\":[{\"type\":\"scattergl\",\"marker\":{\"colorbar\":{\"outlinewidth\":0,\"ticks\":\"\"}}}],\"scatter3d\":[{\"type\":\"scatter3d\",\"line\":{\"colorbar\":{\"outlinewidth\":0,\"ticks\":\"\"}},\"marker\":{\"colorbar\":{\"outlinewidth\":0,\"ticks\":\"\"}}}],\"scattermapbox\":[{\"type\":\"scattermapbox\",\"marker\":{\"colorbar\":{\"outlinewidth\":0,\"ticks\":\"\"}}}],\"scatterternary\":[{\"type\":\"scatterternary\",\"marker\":{\"colorbar\":{\"outlinewidth\":0,\"ticks\":\"\"}}}],\"scattercarpet\":[{\"type\":\"scattercarpet\",\"marker\":{\"colorbar\":{\"outlinewidth\":0,\"ticks\":\"\"}}}],\"carpet\":[{\"aaxis\":{\"endlinecolor\":\"#2a3f5f\",\"gridcolor\":\"white\",\"linecolor\":\"white\",\"minorgridcolor\":\"white\",\"startlinecolor\":\"#2a3f5f\"},\"baxis\":{\"endlinecolor\":\"#2a3f5f\",\"gridcolor\":\"white\",\"linecolor\":\"white\",\"minorgridcolor\":\"white\",\"startlinecolor\":\"#2a3f5f\"},\"type\":\"carpet\"}],\"table\":[{\"cells\":{\"fill\":{\"color\":\"#EBF0F8\"},\"line\":{\"color\":\"white\"}},\"header\":{\"fill\":{\"color\":\"#C8D4E3\"},\"line\":{\"color\":\"white\"}},\"type\":\"table\"}],\"barpolar\":[{\"marker\":{\"line\":{\"color\":\"#E5ECF6\",\"width\":0.5},\"pattern\":{\"fillmode\":\"overlay\",\"size\":10,\"solidity\":0.2}},\"type\":\"barpolar\"}],\"pie\":[{\"automargin\":true,\"type\":\"pie\"}]},\"layout\":{\"autotypenumbers\":\"strict\",\"colorway\":[\"#636efa\",\"#EF553B\",\"#00cc96\",\"#ab63fa\",\"#FFA15A\",\"#19d3f3\",\"#FF6692\",\"#B6E880\",\"#FF97FF\",\"#FECB52\"],\"font\":{\"color\":\"#2a3f5f\"},\"hovermode\":\"closest\",\"hoverlabel\":{\"align\":\"left\"},\"paper_bgcolor\":\"white\",\"plot_bgcolor\":\"#E5ECF6\",\"polar\":{\"bgcolor\":\"#E5ECF6\",\"angularaxis\":{\"gridcolor\":\"white\",\"linecolor\":\"white\",\"ticks\":\"\"},\"radialaxis\":{\"gridcolor\":\"white\",\"linecolor\":\"white\",\"ticks\":\"\"}},\"ternary\":{\"bgcolor\":\"#E5ECF6\",\"aaxis\":{\"gridcolor\":\"white\",\"linecolor\":\"white\",\"ticks\":\"\"},\"baxis\":{\"gridcolor\":\"white\",\"linecolor\":\"white\",\"ticks\":\"\"},\"caxis\":{\"gridcolor\":\"white\",\"linecolor\":\"white\",\"ticks\":\"\"}},\"coloraxis\":{\"colorbar\":{\"outlinewidth\":0,\"ticks\":\"\"}},\"colorscale\":{\"sequential\":[[0.0,\"#0d0887\"],[0.1111111111111111,\"#46039f\"],[0.2222222222222222,\"#7201a8\"],[0.3333333333333333,\"#9c179e\"],[0.4444444444444444,\"#bd3786\"],[0.5555555555555556,\"#d8576b\"],[0.6666666666666666,\"#ed7953\"],[0.7777777777777778,\"#fb9f3a\"],[0.8888888888888888,\"#fdca26\"],[1.0,\"#f0f921\"]],\"sequentialminus\":[[0.0,\"#0d0887\"],[0.1111111111111111,\"#46039f\"],[0.2222222222222222,\"#7201a8\"],[0.3333333333333333,\"#9c179e\"],[0.4444444444444444,\"#bd3786\"],[0.5555555555555556,\"#d8576b\"],[0.6666666666666666,\"#ed7953\"],[0.7777777777777778,\"#fb9f3a\"],[0.8888888888888888,\"#fdca26\"],[1.0,\"#f0f921\"]],\"diverging\":[[0,\"#8e0152\"],[0.1,\"#c51b7d\"],[0.2,\"#de77ae\"],[0.3,\"#f1b6da\"],[0.4,\"#fde0ef\"],[0.5,\"#f7f7f7\"],[0.6,\"#e6f5d0\"],[0.7,\"#b8e186\"],[0.8,\"#7fbc41\"],[0.9,\"#4d9221\"],[1,\"#276419\"]]},\"xaxis\":{\"gridcolor\":\"white\",\"linecolor\":\"white\",\"ticks\":\"\",\"title\":{\"standoff\":15},\"zerolinecolor\":\"white\",\"automargin\":true,\"zerolinewidth\":2},\"yaxis\":{\"gridcolor\":\"white\",\"linecolor\":\"white\",\"ticks\":\"\",\"title\":{\"standoff\":15},\"zerolinecolor\":\"white\",\"automargin\":true,\"zerolinewidth\":2},\"scene\":{\"xaxis\":{\"backgroundcolor\":\"#E5ECF6\",\"gridcolor\":\"white\",\"linecolor\":\"white\",\"showbackground\":true,\"ticks\":\"\",\"zerolinecolor\":\"white\",\"gridwidth\":2},\"yaxis\":{\"backgroundcolor\":\"#E5ECF6\",\"gridcolor\":\"white\",\"linecolor\":\"white\",\"showbackground\":true,\"ticks\":\"\",\"zerolinecolor\":\"white\",\"gridwidth\":2},\"zaxis\":{\"backgroundcolor\":\"#E5ECF6\",\"gridcolor\":\"white\",\"linecolor\":\"white\",\"showbackground\":true,\"ticks\":\"\",\"zerolinecolor\":\"white\",\"gridwidth\":2}},\"shapedefaults\":{\"line\":{\"color\":\"#2a3f5f\"}},\"annotationdefaults\":{\"arrowcolor\":\"#2a3f5f\",\"arrowhead\":0,\"arrowwidth\":1},\"geo\":{\"bgcolor\":\"white\",\"landcolor\":\"#E5ECF6\",\"subunitcolor\":\"white\",\"showland\":true,\"showlakes\":true,\"lakecolor\":\"white\"},\"title\":{\"x\":0.05},\"mapbox\":{\"style\":\"light\"}}},\"geo\":{\"scope\":\"usa\"},\"title\":{\"text\":\"Average Salary by State in the USA\"}},                        {\"responsive\": true}                    ).then(function(){\n",
       "                            \n",
       "var gd = document.getElementById('a9f7d9aa-d10a-4daf-805f-3d11b587b0f9');\n",
       "var x = new MutationObserver(function (mutations, observer) {{\n",
       "        var display = window.getComputedStyle(gd).display;\n",
       "        if (!display || display === 'none') {{\n",
       "            console.log([gd, 'removed!']);\n",
       "            Plotly.purge(gd);\n",
       "            observer.disconnect();\n",
       "        }}\n",
       "}});\n",
       "\n",
       "// Listen for the removal of the full notebook cells\n",
       "var notebookContainer = gd.closest('#notebook-container');\n",
       "if (notebookContainer) {{\n",
       "    x.observe(notebookContainer, {childList: true});\n",
       "}}\n",
       "\n",
       "// Listen for the clearing of the current output cell\n",
       "var outputEl = gd.closest('.output');\n",
       "if (outputEl) {{\n",
       "    x.observe(outputEl, {childList: true});\n",
       "}}\n",
       "\n",
       "                        })                };                });            </script>        </div>"
      ]
     },
     "metadata": {},
     "output_type": "display_data"
    }
   ],
   "source": [
    "fig = go.Figure(go.Choropleth(\n",
    "    locations=df['state'],\n",
    "    z=df['average_salary'],\n",
    "    locationmode='USA-states',\n",
    "    colorbar_title='Average Salary',\n",
    "    hovertext=df['hovertext']\n",
    "))\n",
    "\n",
    "# Update the layout\n",
    "fig.update_layout(\n",
    "    title='Average Salary by State in the USA',\n",
    "    geo=dict(scope='usa')\n",
    ")\n",
    "\n",
    "# Show the figure\n",
    "fig.show()"
   ]
  },
  {
   "cell_type": "code",
   "execution_count": 103,
   "id": "c77bb205",
   "metadata": {},
   "outputs": [],
   "source": [
    "def create_salary_map(df):\n",
    "    size_scale = 10 \n",
    "\n",
    "    blue_to_red = [\n",
    "        [0, 'rgb(0, 0, 255)'],\n",
    "        [1, 'rgb(255, 0, 0)'] \n",
    "    ]\n",
    "\n",
    "    fig = make_subplots(\n",
    "        rows=1, cols=2,\n",
    "        column_widths=[0.8, 0.2],\n",
    "        specs=[[{'type': 'scattergeo'}, {'type': 'bar'}]]\n",
    "    )\n",
    "\n",
    "    fig.add_trace(\n",
    "        go.Scattergeo(\n",
    "            locationmode='USA-states',\n",
    "            locations=df['state'], \n",
    "            text=df['hovertext'],\n",
    "            marker=dict(\n",
    "                size=df['observations'] * size_scale, \n",
    "                color=df['average_salary'],\n",
    "                colorscale=blue_to_red,  \n",
    "                colorbar_title='Average Salary',\n",
    "                line_color='rgb(40,40,40)',\n",
    "                line_width=0.5,\n",
    "                sizemode='area',\n",
    "                cmin=np.min(df['average_salary']),\n",
    "                cmax=np.max(df['average_salary']),\n",
    "                colorbar=dict(x=-0.1)\n",
    "            ),\n",
    "            hoverinfo='text'\n",
    "        ),\n",
    "        row=1, col=1\n",
    "    )\n",
    "\n",
    "    remote_jobs_index = df['state'] == 'Remote'\n",
    "    mean_salary_remote = df['average_salary'][remote_jobs_index].mean()\n",
    "\n",
    "    number_of_remote_jobs = df['observations'][remote_jobs_index].sum()\n",
    "\n",
    "    bar_color = (mean_salary_remote - np.min(df['average_salary'])) / (np.max(df['average_salary']) - np.min(df['average_salary']))\n",
    "    print(bar_color)\n",
    "    fig.add_trace(\n",
    "        go.Bar(\n",
    "            x=['Remote Jobs'],\n",
    "            y=[number_of_remote_jobs],\n",
    "            marker=dict(color=bar_color),\n",
    "            text=f'Average Salary: ${mean_salary_remote:,.2f}',\n",
    "            hovertext=f'Average Salary: ${mean_salary_remote:,.2f}, based on {number_of_remote_jobs} jobs', \n",
    "            hoverinfo='text',\n",
    "            textposition='auto'\n",
    "        ),\n",
    "        row=1, col=2\n",
    "    )\n",
    "\n",
    "    fig.update_layout(\n",
    "        title_text='Average Salary by State in the USA and Remote Jobs',\n",
    "        geo=dict(\n",
    "            scope='usa',\n",
    "            projection_type='albers usa',\n",
    "            showland=True,\n",
    "            landcolor='rgb(217, 217, 217)',\n",
    "            domain=dict(x=[0, 0.75]),  \n",
    "        ),\n",
    "        showlegend=False\n",
    "    )\n",
    "\n",
    "    fig.update_layout(\n",
    "        barmode='stack',\n",
    "        annotations=[dict(\n",
    "            x=1.25,\n",
    "            y=number_of_remote_jobs,\n",
    "            text='Remote Jobs',\n",
    "            showarrow=False,\n",
    "            xref='paper',\n",
    "            yref='y',\n",
    "            font=dict(size=16)\n",
    "        )],\n",
    "        yaxis2=dict(showticklabels=False)\n",
    "    )\n",
    "\n",
    "    fig.update_layout(\n",
    "        width=1000,\n",
    "        height=600\n",
    "    )\n",
    "\n",
    "    fig.show()\n"
   ]
  },
  {
   "cell_type": "code",
   "execution_count": 105,
   "id": "ddea76bf",
   "metadata": {},
   "outputs": [
    {
     "data": {
      "text/html": [
       "<div>\n",
       "<style scoped>\n",
       "    .dataframe tbody tr th:only-of-type {\n",
       "        vertical-align: middle;\n",
       "    }\n",
       "\n",
       "    .dataframe tbody tr th {\n",
       "        vertical-align: top;\n",
       "    }\n",
       "\n",
       "    .dataframe thead th {\n",
       "        text-align: right;\n",
       "    }\n",
       "</style>\n",
       "<table border=\"1\" class=\"dataframe\">\n",
       "  <thead>\n",
       "    <tr style=\"text-align: right;\">\n",
       "      <th></th>\n",
       "      <th>job_category</th>\n",
       "      <th>state</th>\n",
       "      <th>average_salary</th>\n",
       "      <th>median_salary</th>\n",
       "      <th>observations</th>\n",
       "      <th>Full_state</th>\n",
       "      <th>hovertext</th>\n",
       "      <th>average_total_cost</th>\n",
       "      <th>median_total_cost</th>\n",
       "      <th>avg_salary_after_COL</th>\n",
       "      <th>median_salary_after_COL</th>\n",
       "    </tr>\n",
       "  </thead>\n",
       "  <tbody>\n",
       "    <tr>\n",
       "      <th>0</th>\n",
       "      <td>data analyst</td>\n",
       "      <td>AL</td>\n",
       "      <td>53877.000000</td>\n",
       "      <td>53877.0</td>\n",
       "      <td>1</td>\n",
       "      <td>Alabama</td>\n",
       "      <td>Alabama&lt;br&gt;Average Salary: 53877.0&lt;br&gt;Observat...</td>\n",
       "      <td>29860.222750</td>\n",
       "      <td>29315.44344</td>\n",
       "      <td>24016.777250</td>\n",
       "      <td>24561.55656</td>\n",
       "    </tr>\n",
       "    <tr>\n",
       "      <th>1</th>\n",
       "      <td>data analyst</td>\n",
       "      <td>AR</td>\n",
       "      <td>74844.000000</td>\n",
       "      <td>74844.0</td>\n",
       "      <td>1</td>\n",
       "      <td>Arkansas</td>\n",
       "      <td>Arkansas&lt;br&gt;Average Salary: 74844.0&lt;br&gt;Observa...</td>\n",
       "      <td>28304.626782</td>\n",
       "      <td>28087.95564</td>\n",
       "      <td>46539.373218</td>\n",
       "      <td>46756.04436</td>\n",
       "    </tr>\n",
       "    <tr>\n",
       "      <th>2</th>\n",
       "      <td>data scientist</td>\n",
       "      <td>AR</td>\n",
       "      <td>54281.000000</td>\n",
       "      <td>54281.0</td>\n",
       "      <td>1</td>\n",
       "      <td>Arkansas</td>\n",
       "      <td>Arkansas&lt;br&gt;Average Salary: 54281.0&lt;br&gt;Observa...</td>\n",
       "      <td>28304.626782</td>\n",
       "      <td>28087.95564</td>\n",
       "      <td>25976.373218</td>\n",
       "      <td>26193.04436</td>\n",
       "    </tr>\n",
       "    <tr>\n",
       "      <th>3</th>\n",
       "      <td>data analyst</td>\n",
       "      <td>AZ</td>\n",
       "      <td>68167.600000</td>\n",
       "      <td>64075.0</td>\n",
       "      <td>3</td>\n",
       "      <td>Arizona</td>\n",
       "      <td>Arizona&lt;br&gt;Average Salary: 68167.6&lt;br&gt;Observat...</td>\n",
       "      <td>32551.364504</td>\n",
       "      <td>32436.23340</td>\n",
       "      <td>35616.235496</td>\n",
       "      <td>31638.76660</td>\n",
       "    </tr>\n",
       "    <tr>\n",
       "      <th>4</th>\n",
       "      <td>data engineer</td>\n",
       "      <td>AZ</td>\n",
       "      <td>88617.500000</td>\n",
       "      <td>88617.5</td>\n",
       "      <td>2</td>\n",
       "      <td>Arizona</td>\n",
       "      <td>Arizona&lt;br&gt;Average Salary: 88617.5&lt;br&gt;Observat...</td>\n",
       "      <td>32551.364504</td>\n",
       "      <td>32436.23340</td>\n",
       "      <td>56066.135496</td>\n",
       "      <td>56181.26660</td>\n",
       "    </tr>\n",
       "    <tr>\n",
       "      <th>...</th>\n",
       "      <td>...</td>\n",
       "      <td>...</td>\n",
       "      <td>...</td>\n",
       "      <td>...</td>\n",
       "      <td>...</td>\n",
       "      <td>...</td>\n",
       "      <td>...</td>\n",
       "      <td>...</td>\n",
       "      <td>...</td>\n",
       "      <td>...</td>\n",
       "      <td>...</td>\n",
       "    </tr>\n",
       "    <tr>\n",
       "      <th>119</th>\n",
       "      <td>data analyst</td>\n",
       "      <td>Remote</td>\n",
       "      <td>97767.710526</td>\n",
       "      <td>100000.0</td>\n",
       "      <td>38</td>\n",
       "      <td>NaN</td>\n",
       "      <td>NaN</td>\n",
       "      <td>NaN</td>\n",
       "      <td>NaN</td>\n",
       "      <td>NaN</td>\n",
       "      <td>NaN</td>\n",
       "    </tr>\n",
       "    <tr>\n",
       "      <th>120</th>\n",
       "      <td>data engineer</td>\n",
       "      <td>Remote</td>\n",
       "      <td>126743.233333</td>\n",
       "      <td>126150.0</td>\n",
       "      <td>48</td>\n",
       "      <td>NaN</td>\n",
       "      <td>NaN</td>\n",
       "      <td>NaN</td>\n",
       "      <td>NaN</td>\n",
       "      <td>NaN</td>\n",
       "      <td>NaN</td>\n",
       "    </tr>\n",
       "    <tr>\n",
       "      <th>121</th>\n",
       "      <td>data scientist</td>\n",
       "      <td>Remote</td>\n",
       "      <td>129861.907692</td>\n",
       "      <td>130000.0</td>\n",
       "      <td>65</td>\n",
       "      <td>NaN</td>\n",
       "      <td>NaN</td>\n",
       "      <td>NaN</td>\n",
       "      <td>NaN</td>\n",
       "      <td>NaN</td>\n",
       "      <td>NaN</td>\n",
       "    </tr>\n",
       "    <tr>\n",
       "      <th>122</th>\n",
       "      <td>machine learning engineer</td>\n",
       "      <td>Remote</td>\n",
       "      <td>148598.222222</td>\n",
       "      <td>153619.0</td>\n",
       "      <td>9</td>\n",
       "      <td>NaN</td>\n",
       "      <td>NaN</td>\n",
       "      <td>NaN</td>\n",
       "      <td>NaN</td>\n",
       "      <td>NaN</td>\n",
       "      <td>NaN</td>\n",
       "    </tr>\n",
       "    <tr>\n",
       "      <th>123</th>\n",
       "      <td>other</td>\n",
       "      <td>Remote</td>\n",
       "      <td>101242.285714</td>\n",
       "      <td>105000.0</td>\n",
       "      <td>7</td>\n",
       "      <td>NaN</td>\n",
       "      <td>NaN</td>\n",
       "      <td>NaN</td>\n",
       "      <td>NaN</td>\n",
       "      <td>NaN</td>\n",
       "      <td>NaN</td>\n",
       "    </tr>\n",
       "  </tbody>\n",
       "</table>\n",
       "<p>124 rows × 11 columns</p>\n",
       "</div>"
      ],
      "text/plain": [
       "                  job_category   state  average_salary  median_salary  \\\n",
       "0                 data analyst      AL    53877.000000        53877.0   \n",
       "1                 data analyst      AR    74844.000000        74844.0   \n",
       "2               data scientist      AR    54281.000000        54281.0   \n",
       "3                 data analyst      AZ    68167.600000        64075.0   \n",
       "4                data engineer      AZ    88617.500000        88617.5   \n",
       "..                         ...     ...             ...            ...   \n",
       "119               data analyst  Remote    97767.710526       100000.0   \n",
       "120              data engineer  Remote   126743.233333       126150.0   \n",
       "121             data scientist  Remote   129861.907692       130000.0   \n",
       "122  machine learning engineer  Remote   148598.222222       153619.0   \n",
       "123                      other  Remote   101242.285714       105000.0   \n",
       "\n",
       "     observations Full_state  \\\n",
       "0               1    Alabama   \n",
       "1               1   Arkansas   \n",
       "2               1   Arkansas   \n",
       "3               3    Arizona   \n",
       "4               2    Arizona   \n",
       "..            ...        ...   \n",
       "119            38        NaN   \n",
       "120            48        NaN   \n",
       "121            65        NaN   \n",
       "122             9        NaN   \n",
       "123             7        NaN   \n",
       "\n",
       "                                             hovertext  average_total_cost  \\\n",
       "0    Alabama<br>Average Salary: 53877.0<br>Observat...        29860.222750   \n",
       "1    Arkansas<br>Average Salary: 74844.0<br>Observa...        28304.626782   \n",
       "2    Arkansas<br>Average Salary: 54281.0<br>Observa...        28304.626782   \n",
       "3    Arizona<br>Average Salary: 68167.6<br>Observat...        32551.364504   \n",
       "4    Arizona<br>Average Salary: 88617.5<br>Observat...        32551.364504   \n",
       "..                                                 ...                 ...   \n",
       "119                                                NaN                 NaN   \n",
       "120                                                NaN                 NaN   \n",
       "121                                                NaN                 NaN   \n",
       "122                                                NaN                 NaN   \n",
       "123                                                NaN                 NaN   \n",
       "\n",
       "     median_total_cost  avg_salary_after_COL  median_salary_after_COL  \n",
       "0          29315.44344          24016.777250              24561.55656  \n",
       "1          28087.95564          46539.373218              46756.04436  \n",
       "2          28087.95564          25976.373218              26193.04436  \n",
       "3          32436.23340          35616.235496              31638.76660  \n",
       "4          32436.23340          56066.135496              56181.26660  \n",
       "..                 ...                   ...                      ...  \n",
       "119                NaN                   NaN                      NaN  \n",
       "120                NaN                   NaN                      NaN  \n",
       "121                NaN                   NaN                      NaN  \n",
       "122                NaN                   NaN                      NaN  \n",
       "123                NaN                   NaN                      NaN  \n",
       "\n",
       "[124 rows x 11 columns]"
      ]
     },
     "execution_count": 105,
     "metadata": {},
     "output_type": "execute_result"
    }
   ],
   "source": [
    "df"
   ]
  },
  {
   "cell_type": "code",
   "execution_count": 104,
   "id": "11959ef4",
   "metadata": {},
   "outputs": [
    {
     "name": "stdout",
     "output_type": "stream",
     "text": [
      "0.4611928907319927\n"
     ]
    },
    {
     "data": {
      "application/vnd.plotly.v1+json": {
       "config": {
        "plotlyServerURL": "https://plot.ly"
       },
       "data": [
        {
         "geo": "geo",
         "hoverinfo": "text",
         "locationmode": "USA-states",
         "locations": [
          "AL",
          "AR",
          "AR",
          "AZ",
          "AZ",
          "CA",
          "CA",
          "CA",
          "CA",
          "CA",
          "CO",
          "CO",
          "CO",
          "CO",
          "CO",
          "DE",
          "DE",
          "FL",
          "FL",
          "FL",
          "FL",
          "FL",
          "GA",
          "GA",
          "GA",
          "GA",
          "IA",
          "IA",
          "IA",
          "ID",
          "ID",
          "ID",
          "IL",
          "IL",
          "IL",
          "IL",
          "IL",
          "IN",
          "IN",
          "IN",
          "KS",
          "LA",
          "LA",
          "LA",
          "MA",
          "MA",
          "MA",
          "MA",
          "MA",
          "MD",
          "MD",
          "MD",
          "MD",
          "MI",
          "MI",
          "MI",
          "MI",
          "MO",
          "MO",
          "MO",
          "MS",
          "NC",
          "NC",
          "NC",
          "NC",
          "NJ",
          "NJ",
          "NJ",
          "NJ",
          "NV",
          "NV",
          "NY",
          "NY",
          "NY",
          "NY",
          "NY",
          "OH",
          "OH",
          "OH",
          "PA",
          "PA",
          "PA",
          "PA",
          "SC",
          "SC",
          "SC",
          "TN",
          "TN",
          "TX",
          "TX",
          "TX",
          "TX",
          "UT",
          "UT",
          "UT",
          "UT",
          "VA",
          "VA",
          "VA",
          "VA",
          "WA",
          "WA",
          "WA",
          "WA",
          "WA",
          "WI",
          "WI",
          "WI",
          "MN",
          "MN",
          "OK",
          "OK",
          "OR",
          "OR",
          "CT",
          "CT",
          "NE",
          "NM",
          "RI",
          "Remote",
          "Remote",
          "Remote",
          "Remote",
          "Remote"
         ],
         "marker": {
          "cmax": 224500,
          "cmin": 32117,
          "color": [
           53877,
           74844,
           54281,
           68167.59999999999,
           88617.5,
           113837.42222222223,
           126787.33333333333,
           133823.572,
           130544.3125,
           126636.7,
           84785.71428571429,
           136188.5,
           123681,
           91950,
           94450,
           78000,
           79087,
           65248.28571428572,
           87706.66666666667,
           105315,
           105577,
           43039,
           52826,
           133469.33333333334,
           103268,
           101125.5,
           70935,
           86265,
           94888,
           70327.5,
           75312,
           107694,
           80110.625,
           98626.625,
           106816.1875,
           85619.33333333333,
           105921,
           58056,
           51672,
           102724,
           61695,
           75627,
           90402,
           113644,
           88440,
           95246.16666666667,
           116814.93333333333,
           120319.63157894737,
           80681,
           78430.28571428571,
           115583.6,
           104973.90909090909,
           85493.4,
           64170,
           72604,
           86352.57142857143,
           67500,
           58750,
           56945,
           100350.16666666667,
           46739,
           103807.33333333333,
           108311.84,
           105328.14285714286,
           61000,
           83221.66666666667,
           116759.2,
           107344.2,
           114555.33333333333,
           69078,
           130522,
           77442.36363636363,
           114749.96,
           136376.3448275862,
           119588.3125,
           150023.2857142857,
           77515,
           76350.66666666667,
           100481,
           71611.875,
           113328.33333333333,
           102437.66666666667,
           80121,
           74069.5,
           113750,
           107500,
           32117,
           105299,
           82886.88888888889,
           95394.25,
           122691.90909090909,
           85401.83333333333,
           68472,
           106122.33333333333,
           103628.5,
           107907,
           69827,
           108092,
           106046.85714285714,
           98636,
           79411.5,
           189838,
           121280.58333333333,
           224500,
           136868,
           55509.333333333336,
           125350,
           57500,
           90814.25,
           87710.25,
           121333.33333333333,
           88563,
           93967,
           104289,
           109360,
           135000,
           117500,
           140000,
           95000,
           97767.71052631579,
           126743.23333333334,
           129861.9076923077,
           148598.22222222222,
           101242.28571428571
          ],
          "colorbar": {
           "title": {
            "text": "Average Salary"
           },
           "x": -0.1
          },
          "colorscale": [
           [
            0,
            "rgb(0, 0, 255)"
           ],
           [
            1,
            "rgb(255, 0, 0)"
           ]
          ],
          "line": {
           "color": "rgb(40,40,40)",
           "width": 0.5
          },
          "size": [
           10,
           10,
           10,
           30,
           20,
           180,
           120,
           500,
           160,
           40,
           70,
           20,
           90,
           10,
           10,
           10,
           20,
           70,
           30,
           60,
           20,
           10,
           20,
           30,
           10,
           20,
           20,
           10,
           20,
           20,
           10,
           10,
           80,
           80,
           160,
           30,
           30,
           10,
           10,
           20,
           10,
           30,
           10,
           10,
           30,
           60,
           150,
           190,
           20,
           70,
           50,
           110,
           50,
           20,
           10,
           70,
           10,
           20,
           40,
           60,
           10,
           30,
           50,
           70,
           10,
           30,
           50,
           100,
           30,
           10,
           10,
           220,
           50,
           290,
           160,
           70,
           50,
           30,
           10,
           80,
           30,
           60,
           20,
           20,
           10,
           10,
           20,
           10,
           90,
           120,
           110,
           60,
           40,
           30,
           20,
           10,
           80,
           60,
           210,
           20,
           20,
           40,
           120,
           20,
           20,
           30,
           10,
           20,
           40,
           40,
           30,
           10,
           10,
           10,
           10,
           30,
           10,
           20,
           10,
           380,
           480,
           650,
           90,
           70
          ],
          "sizemode": "area"
         },
         "text": [
          "Alabama<br>Average Salary: 53877.0<br>Observations: 1",
          "Arkansas<br>Average Salary: 74844.0<br>Observations: 1",
          "Arkansas<br>Average Salary: 54281.0<br>Observations: 1",
          "Arizona<br>Average Salary: 68167.6<br>Observations: 3",
          "Arizona<br>Average Salary: 88617.5<br>Observations: 2",
          "California<br>Average Salary: 113837.42<br>Observations: 18",
          "California<br>Average Salary: 126787.33<br>Observations: 12",
          "California<br>Average Salary: 133823.57<br>Observations: 50",
          "California<br>Average Salary: 130544.31<br>Observations: 16",
          "California<br>Average Salary: 126636.7<br>Observations: 4",
          "Colorado<br>Average Salary: 84785.71<br>Observations: 7",
          "Colorado<br>Average Salary: 136188.5<br>Observations: 2",
          "Colorado<br>Average Salary: 123681.0<br>Observations: 9",
          "Colorado<br>Average Salary: 91950.0<br>Observations: 1",
          "Colorado<br>Average Salary: 94450.0<br>Observations: 1",
          "Delaware<br>Average Salary: 78000.0<br>Observations: 1",
          "Delaware<br>Average Salary: 79087.0<br>Observations: 2",
          "Florida<br>Average Salary: 65248.29<br>Observations: 7",
          "Florida<br>Average Salary: 87706.67<br>Observations: 3",
          "Florida<br>Average Salary: 105315.0<br>Observations: 6",
          "Florida<br>Average Salary: 105577.0<br>Observations: 2",
          "Florida<br>Average Salary: 43039.0<br>Observations: 1",
          "Georgia<br>Average Salary: 52826.0<br>Observations: 2",
          "Georgia<br>Average Salary: 133469.33<br>Observations: 3",
          "Georgia<br>Average Salary: 103268.0<br>Observations: 1",
          "Georgia<br>Average Salary: 101125.5<br>Observations: 2",
          "Iowa<br>Average Salary: 70935.0<br>Observations: 2",
          "Iowa<br>Average Salary: 86265.0<br>Observations: 1",
          "Iowa<br>Average Salary: 94888.0<br>Observations: 2",
          "Idaho<br>Average Salary: 70327.5<br>Observations: 2",
          "Idaho<br>Average Salary: 75312.0<br>Observations: 1",
          "Idaho<br>Average Salary: 107694.0<br>Observations: 1",
          "Illinois<br>Average Salary: 80110.62<br>Observations: 8",
          "Illinois<br>Average Salary: 98626.62<br>Observations: 8",
          "Illinois<br>Average Salary: 106816.19<br>Observations: 16",
          "Illinois<br>Average Salary: 85619.33<br>Observations: 3",
          "Illinois<br>Average Salary: 105921.0<br>Observations: 3",
          "Indiana<br>Average Salary: 58056.0<br>Observations: 1",
          "Indiana<br>Average Salary: 51672.0<br>Observations: 1",
          "Indiana<br>Average Salary: 102724.0<br>Observations: 2",
          "Kansas<br>Average Salary: 61695.0<br>Observations: 1",
          "Louisiana<br>Average Salary: 75627.0<br>Observations: 3",
          "Louisiana<br>Average Salary: 90402.0<br>Observations: 1",
          "Louisiana<br>Average Salary: 113644.0<br>Observations: 1",
          "Massachusetts<br>Average Salary: 88440.0<br>Observations: 3",
          "Massachusetts<br>Average Salary: 95246.17<br>Observations: 6",
          "Massachusetts<br>Average Salary: 116814.93<br>Observations: 15",
          "Massachusetts<br>Average Salary: 120319.63<br>Observations: 19",
          "Massachusetts<br>Average Salary: 80681.0<br>Observations: 2",
          "Maryland<br>Average Salary: 78430.29<br>Observations: 7",
          "Maryland<br>Average Salary: 115583.6<br>Observations: 5",
          "Maryland<br>Average Salary: 104973.91<br>Observations: 11",
          "Maryland<br>Average Salary: 85493.4<br>Observations: 5",
          "Michigan<br>Average Salary: 64170.0<br>Observations: 2",
          "Michigan<br>Average Salary: 72604.0<br>Observations: 1",
          "Michigan<br>Average Salary: 86352.57<br>Observations: 7",
          "Michigan<br>Average Salary: 67500.0<br>Observations: 1",
          "Missouri<br>Average Salary: 58750.0<br>Observations: 2",
          "Missouri<br>Average Salary: 56945.0<br>Observations: 4",
          "Missouri<br>Average Salary: 100350.17<br>Observations: 6",
          "Mississippi<br>Average Salary: 46739.0<br>Observations: 1",
          "North Carolina<br>Average Salary: 103807.33<br>Observations: 3",
          "North Carolina<br>Average Salary: 108311.84<br>Observations: 5",
          "North Carolina<br>Average Salary: 105328.14<br>Observations: 7",
          "North Carolina<br>Average Salary: 61000.0<br>Observations: 1",
          "New Jersey<br>Average Salary: 83221.67<br>Observations: 3",
          "New Jersey<br>Average Salary: 116759.2<br>Observations: 5",
          "New Jersey<br>Average Salary: 107344.2<br>Observations: 10",
          "New Jersey<br>Average Salary: 114555.33<br>Observations: 3",
          "Nevada<br>Average Salary: 69078.0<br>Observations: 1",
          "Nevada<br>Average Salary: 130522.0<br>Observations: 1",
          "New York<br>Average Salary: 77442.36<br>Observations: 22",
          "New York<br>Average Salary: 114749.96<br>Observations: 5",
          "New York<br>Average Salary: 136376.34<br>Observations: 29",
          "New York<br>Average Salary: 119588.31<br>Observations: 16",
          "New York<br>Average Salary: 150023.29<br>Observations: 7",
          "Ohio<br>Average Salary: 77515.0<br>Observations: 5",
          "Ohio<br>Average Salary: 76350.67<br>Observations: 3",
          "Ohio<br>Average Salary: 100481.0<br>Observations: 1",
          "Pennsylvania<br>Average Salary: 71611.88<br>Observations: 8",
          "Pennsylvania<br>Average Salary: 113328.33<br>Observations: 3",
          "Pennsylvania<br>Average Salary: 102437.67<br>Observations: 6",
          "Pennsylvania<br>Average Salary: 80121.0<br>Observations: 2",
          "South Carolina<br>Average Salary: 74069.5<br>Observations: 2",
          "South Carolina<br>Average Salary: 113750.0<br>Observations: 1",
          "South Carolina<br>Average Salary: 107500.0<br>Observations: 1",
          "Tennessee<br>Average Salary: 32117.0<br>Observations: 2",
          "Tennessee<br>Average Salary: 105299.0<br>Observations: 1",
          "Texas<br>Average Salary: 82886.89<br>Observations: 9",
          "Texas<br>Average Salary: 95394.25<br>Observations: 12",
          "Texas<br>Average Salary: 122691.91<br>Observations: 11",
          "Texas<br>Average Salary: 85401.83<br>Observations: 6",
          "Utah<br>Average Salary: 68472.0<br>Observations: 4",
          "Utah<br>Average Salary: 106122.33<br>Observations: 3",
          "Utah<br>Average Salary: 103628.5<br>Observations: 2",
          "Utah<br>Average Salary: 107907.0<br>Observations: 1",
          "Virginia<br>Average Salary: 69827.0<br>Observations: 8",
          "Virginia<br>Average Salary: 108092.0<br>Observations: 6",
          "Virginia<br>Average Salary: 106046.86<br>Observations: 21",
          "Virginia<br>Average Salary: 98636.0<br>Observations: 2",
          "Washington<br>Average Salary: 79411.5<br>Observations: 2",
          "Washington<br>Average Salary: 189838.0<br>Observations: 4",
          "Washington<br>Average Salary: 121280.58<br>Observations: 12",
          "Washington<br>Average Salary: 224500.0<br>Observations: 2",
          "Washington<br>Average Salary: 136868.0<br>Observations: 2",
          "Wisconsin<br>Average Salary: 55509.33<br>Observations: 3",
          "Wisconsin<br>Average Salary: 125350.0<br>Observations: 1",
          "Wisconsin<br>Average Salary: 57500.0<br>Observations: 2",
          "Minnesota<br>Average Salary: 90814.25<br>Observations: 4",
          "Minnesota<br>Average Salary: 87710.25<br>Observations: 4",
          "Oklahoma<br>Average Salary: 121333.33<br>Observations: 3",
          "Oklahoma<br>Average Salary: 88563.0<br>Observations: 1",
          "Oregon<br>Average Salary: 93967.0<br>Observations: 1",
          "Oregon<br>Average Salary: 104289.0<br>Observations: 1",
          "Connecticut<br>Average Salary: 109360.0<br>Observations: 1",
          "Connecticut<br>Average Salary: 135000.0<br>Observations: 3",
          "Nebraska<br>Average Salary: 117500.0<br>Observations: 1",
          "New Mexico<br>Average Salary: 140000.0<br>Observations: 2",
          "Rhode Island<br>Average Salary: 95000.0<br>Observations: 1",
          null,
          null,
          null,
          null,
          null
         ],
         "type": "scattergeo"
        },
        {
         "hoverinfo": "text",
         "hovertext": "Average Salary: $120,842.67, based on 167 jobs",
         "marker": {
          "color": 0.4611928907319927
         },
         "text": "Average Salary: $120,842.67",
         "textposition": "auto",
         "type": "bar",
         "x": [
          "Remote Jobs"
         ],
         "xaxis": "x",
         "y": [
          167
         ],
         "yaxis": "y"
        }
       ],
       "layout": {
        "annotations": [
         {
          "font": {
           "size": 16
          },
          "showarrow": false,
          "text": "Remote Jobs",
          "x": 1.25,
          "xref": "paper",
          "y": 167,
          "yref": "y"
         }
        ],
        "barmode": "stack",
        "geo": {
         "domain": {
          "x": [
           0,
           0.75
          ],
          "y": [
           0,
           1
          ]
         },
         "landcolor": "rgb(217, 217, 217)",
         "projection": {
          "type": "albers usa"
         },
         "scope": "usa",
         "showland": true
        },
        "height": 600,
        "showlegend": false,
        "template": {
         "data": {
          "bar": [
           {
            "error_x": {
             "color": "#2a3f5f"
            },
            "error_y": {
             "color": "#2a3f5f"
            },
            "marker": {
             "line": {
              "color": "#E5ECF6",
              "width": 0.5
             },
             "pattern": {
              "fillmode": "overlay",
              "size": 10,
              "solidity": 0.2
             }
            },
            "type": "bar"
           }
          ],
          "barpolar": [
           {
            "marker": {
             "line": {
              "color": "#E5ECF6",
              "width": 0.5
             },
             "pattern": {
              "fillmode": "overlay",
              "size": 10,
              "solidity": 0.2
             }
            },
            "type": "barpolar"
           }
          ],
          "carpet": [
           {
            "aaxis": {
             "endlinecolor": "#2a3f5f",
             "gridcolor": "white",
             "linecolor": "white",
             "minorgridcolor": "white",
             "startlinecolor": "#2a3f5f"
            },
            "baxis": {
             "endlinecolor": "#2a3f5f",
             "gridcolor": "white",
             "linecolor": "white",
             "minorgridcolor": "white",
             "startlinecolor": "#2a3f5f"
            },
            "type": "carpet"
           }
          ],
          "choropleth": [
           {
            "colorbar": {
             "outlinewidth": 0,
             "ticks": ""
            },
            "type": "choropleth"
           }
          ],
          "contour": [
           {
            "colorbar": {
             "outlinewidth": 0,
             "ticks": ""
            },
            "colorscale": [
             [
              0,
              "#0d0887"
             ],
             [
              0.1111111111111111,
              "#46039f"
             ],
             [
              0.2222222222222222,
              "#7201a8"
             ],
             [
              0.3333333333333333,
              "#9c179e"
             ],
             [
              0.4444444444444444,
              "#bd3786"
             ],
             [
              0.5555555555555556,
              "#d8576b"
             ],
             [
              0.6666666666666666,
              "#ed7953"
             ],
             [
              0.7777777777777778,
              "#fb9f3a"
             ],
             [
              0.8888888888888888,
              "#fdca26"
             ],
             [
              1,
              "#f0f921"
             ]
            ],
            "type": "contour"
           }
          ],
          "contourcarpet": [
           {
            "colorbar": {
             "outlinewidth": 0,
             "ticks": ""
            },
            "type": "contourcarpet"
           }
          ],
          "heatmap": [
           {
            "colorbar": {
             "outlinewidth": 0,
             "ticks": ""
            },
            "colorscale": [
             [
              0,
              "#0d0887"
             ],
             [
              0.1111111111111111,
              "#46039f"
             ],
             [
              0.2222222222222222,
              "#7201a8"
             ],
             [
              0.3333333333333333,
              "#9c179e"
             ],
             [
              0.4444444444444444,
              "#bd3786"
             ],
             [
              0.5555555555555556,
              "#d8576b"
             ],
             [
              0.6666666666666666,
              "#ed7953"
             ],
             [
              0.7777777777777778,
              "#fb9f3a"
             ],
             [
              0.8888888888888888,
              "#fdca26"
             ],
             [
              1,
              "#f0f921"
             ]
            ],
            "type": "heatmap"
           }
          ],
          "heatmapgl": [
           {
            "colorbar": {
             "outlinewidth": 0,
             "ticks": ""
            },
            "colorscale": [
             [
              0,
              "#0d0887"
             ],
             [
              0.1111111111111111,
              "#46039f"
             ],
             [
              0.2222222222222222,
              "#7201a8"
             ],
             [
              0.3333333333333333,
              "#9c179e"
             ],
             [
              0.4444444444444444,
              "#bd3786"
             ],
             [
              0.5555555555555556,
              "#d8576b"
             ],
             [
              0.6666666666666666,
              "#ed7953"
             ],
             [
              0.7777777777777778,
              "#fb9f3a"
             ],
             [
              0.8888888888888888,
              "#fdca26"
             ],
             [
              1,
              "#f0f921"
             ]
            ],
            "type": "heatmapgl"
           }
          ],
          "histogram": [
           {
            "marker": {
             "pattern": {
              "fillmode": "overlay",
              "size": 10,
              "solidity": 0.2
             }
            },
            "type": "histogram"
           }
          ],
          "histogram2d": [
           {
            "colorbar": {
             "outlinewidth": 0,
             "ticks": ""
            },
            "colorscale": [
             [
              0,
              "#0d0887"
             ],
             [
              0.1111111111111111,
              "#46039f"
             ],
             [
              0.2222222222222222,
              "#7201a8"
             ],
             [
              0.3333333333333333,
              "#9c179e"
             ],
             [
              0.4444444444444444,
              "#bd3786"
             ],
             [
              0.5555555555555556,
              "#d8576b"
             ],
             [
              0.6666666666666666,
              "#ed7953"
             ],
             [
              0.7777777777777778,
              "#fb9f3a"
             ],
             [
              0.8888888888888888,
              "#fdca26"
             ],
             [
              1,
              "#f0f921"
             ]
            ],
            "type": "histogram2d"
           }
          ],
          "histogram2dcontour": [
           {
            "colorbar": {
             "outlinewidth": 0,
             "ticks": ""
            },
            "colorscale": [
             [
              0,
              "#0d0887"
             ],
             [
              0.1111111111111111,
              "#46039f"
             ],
             [
              0.2222222222222222,
              "#7201a8"
             ],
             [
              0.3333333333333333,
              "#9c179e"
             ],
             [
              0.4444444444444444,
              "#bd3786"
             ],
             [
              0.5555555555555556,
              "#d8576b"
             ],
             [
              0.6666666666666666,
              "#ed7953"
             ],
             [
              0.7777777777777778,
              "#fb9f3a"
             ],
             [
              0.8888888888888888,
              "#fdca26"
             ],
             [
              1,
              "#f0f921"
             ]
            ],
            "type": "histogram2dcontour"
           }
          ],
          "mesh3d": [
           {
            "colorbar": {
             "outlinewidth": 0,
             "ticks": ""
            },
            "type": "mesh3d"
           }
          ],
          "parcoords": [
           {
            "line": {
             "colorbar": {
              "outlinewidth": 0,
              "ticks": ""
             }
            },
            "type": "parcoords"
           }
          ],
          "pie": [
           {
            "automargin": true,
            "type": "pie"
           }
          ],
          "scatter": [
           {
            "fillpattern": {
             "fillmode": "overlay",
             "size": 10,
             "solidity": 0.2
            },
            "type": "scatter"
           }
          ],
          "scatter3d": [
           {
            "line": {
             "colorbar": {
              "outlinewidth": 0,
              "ticks": ""
             }
            },
            "marker": {
             "colorbar": {
              "outlinewidth": 0,
              "ticks": ""
             }
            },
            "type": "scatter3d"
           }
          ],
          "scattercarpet": [
           {
            "marker": {
             "colorbar": {
              "outlinewidth": 0,
              "ticks": ""
             }
            },
            "type": "scattercarpet"
           }
          ],
          "scattergeo": [
           {
            "marker": {
             "colorbar": {
              "outlinewidth": 0,
              "ticks": ""
             }
            },
            "type": "scattergeo"
           }
          ],
          "scattergl": [
           {
            "marker": {
             "colorbar": {
              "outlinewidth": 0,
              "ticks": ""
             }
            },
            "type": "scattergl"
           }
          ],
          "scattermapbox": [
           {
            "marker": {
             "colorbar": {
              "outlinewidth": 0,
              "ticks": ""
             }
            },
            "type": "scattermapbox"
           }
          ],
          "scatterpolar": [
           {
            "marker": {
             "colorbar": {
              "outlinewidth": 0,
              "ticks": ""
             }
            },
            "type": "scatterpolar"
           }
          ],
          "scatterpolargl": [
           {
            "marker": {
             "colorbar": {
              "outlinewidth": 0,
              "ticks": ""
             }
            },
            "type": "scatterpolargl"
           }
          ],
          "scatterternary": [
           {
            "marker": {
             "colorbar": {
              "outlinewidth": 0,
              "ticks": ""
             }
            },
            "type": "scatterternary"
           }
          ],
          "surface": [
           {
            "colorbar": {
             "outlinewidth": 0,
             "ticks": ""
            },
            "colorscale": [
             [
              0,
              "#0d0887"
             ],
             [
              0.1111111111111111,
              "#46039f"
             ],
             [
              0.2222222222222222,
              "#7201a8"
             ],
             [
              0.3333333333333333,
              "#9c179e"
             ],
             [
              0.4444444444444444,
              "#bd3786"
             ],
             [
              0.5555555555555556,
              "#d8576b"
             ],
             [
              0.6666666666666666,
              "#ed7953"
             ],
             [
              0.7777777777777778,
              "#fb9f3a"
             ],
             [
              0.8888888888888888,
              "#fdca26"
             ],
             [
              1,
              "#f0f921"
             ]
            ],
            "type": "surface"
           }
          ],
          "table": [
           {
            "cells": {
             "fill": {
              "color": "#EBF0F8"
             },
             "line": {
              "color": "white"
             }
            },
            "header": {
             "fill": {
              "color": "#C8D4E3"
             },
             "line": {
              "color": "white"
             }
            },
            "type": "table"
           }
          ]
         },
         "layout": {
          "annotationdefaults": {
           "arrowcolor": "#2a3f5f",
           "arrowhead": 0,
           "arrowwidth": 1
          },
          "autotypenumbers": "strict",
          "coloraxis": {
           "colorbar": {
            "outlinewidth": 0,
            "ticks": ""
           }
          },
          "colorscale": {
           "diverging": [
            [
             0,
             "#8e0152"
            ],
            [
             0.1,
             "#c51b7d"
            ],
            [
             0.2,
             "#de77ae"
            ],
            [
             0.3,
             "#f1b6da"
            ],
            [
             0.4,
             "#fde0ef"
            ],
            [
             0.5,
             "#f7f7f7"
            ],
            [
             0.6,
             "#e6f5d0"
            ],
            [
             0.7,
             "#b8e186"
            ],
            [
             0.8,
             "#7fbc41"
            ],
            [
             0.9,
             "#4d9221"
            ],
            [
             1,
             "#276419"
            ]
           ],
           "sequential": [
            [
             0,
             "#0d0887"
            ],
            [
             0.1111111111111111,
             "#46039f"
            ],
            [
             0.2222222222222222,
             "#7201a8"
            ],
            [
             0.3333333333333333,
             "#9c179e"
            ],
            [
             0.4444444444444444,
             "#bd3786"
            ],
            [
             0.5555555555555556,
             "#d8576b"
            ],
            [
             0.6666666666666666,
             "#ed7953"
            ],
            [
             0.7777777777777778,
             "#fb9f3a"
            ],
            [
             0.8888888888888888,
             "#fdca26"
            ],
            [
             1,
             "#f0f921"
            ]
           ],
           "sequentialminus": [
            [
             0,
             "#0d0887"
            ],
            [
             0.1111111111111111,
             "#46039f"
            ],
            [
             0.2222222222222222,
             "#7201a8"
            ],
            [
             0.3333333333333333,
             "#9c179e"
            ],
            [
             0.4444444444444444,
             "#bd3786"
            ],
            [
             0.5555555555555556,
             "#d8576b"
            ],
            [
             0.6666666666666666,
             "#ed7953"
            ],
            [
             0.7777777777777778,
             "#fb9f3a"
            ],
            [
             0.8888888888888888,
             "#fdca26"
            ],
            [
             1,
             "#f0f921"
            ]
           ]
          },
          "colorway": [
           "#636efa",
           "#EF553B",
           "#00cc96",
           "#ab63fa",
           "#FFA15A",
           "#19d3f3",
           "#FF6692",
           "#B6E880",
           "#FF97FF",
           "#FECB52"
          ],
          "font": {
           "color": "#2a3f5f"
          },
          "geo": {
           "bgcolor": "white",
           "lakecolor": "white",
           "landcolor": "#E5ECF6",
           "showlakes": true,
           "showland": true,
           "subunitcolor": "white"
          },
          "hoverlabel": {
           "align": "left"
          },
          "hovermode": "closest",
          "mapbox": {
           "style": "light"
          },
          "paper_bgcolor": "white",
          "plot_bgcolor": "#E5ECF6",
          "polar": {
           "angularaxis": {
            "gridcolor": "white",
            "linecolor": "white",
            "ticks": ""
           },
           "bgcolor": "#E5ECF6",
           "radialaxis": {
            "gridcolor": "white",
            "linecolor": "white",
            "ticks": ""
           }
          },
          "scene": {
           "xaxis": {
            "backgroundcolor": "#E5ECF6",
            "gridcolor": "white",
            "gridwidth": 2,
            "linecolor": "white",
            "showbackground": true,
            "ticks": "",
            "zerolinecolor": "white"
           },
           "yaxis": {
            "backgroundcolor": "#E5ECF6",
            "gridcolor": "white",
            "gridwidth": 2,
            "linecolor": "white",
            "showbackground": true,
            "ticks": "",
            "zerolinecolor": "white"
           },
           "zaxis": {
            "backgroundcolor": "#E5ECF6",
            "gridcolor": "white",
            "gridwidth": 2,
            "linecolor": "white",
            "showbackground": true,
            "ticks": "",
            "zerolinecolor": "white"
           }
          },
          "shapedefaults": {
           "line": {
            "color": "#2a3f5f"
           }
          },
          "ternary": {
           "aaxis": {
            "gridcolor": "white",
            "linecolor": "white",
            "ticks": ""
           },
           "baxis": {
            "gridcolor": "white",
            "linecolor": "white",
            "ticks": ""
           },
           "bgcolor": "#E5ECF6",
           "caxis": {
            "gridcolor": "white",
            "linecolor": "white",
            "ticks": ""
           }
          },
          "title": {
           "x": 0.05
          },
          "xaxis": {
           "automargin": true,
           "gridcolor": "white",
           "linecolor": "white",
           "ticks": "",
           "title": {
            "standoff": 15
           },
           "zerolinecolor": "white",
           "zerolinewidth": 2
          },
          "yaxis": {
           "automargin": true,
           "gridcolor": "white",
           "linecolor": "white",
           "ticks": "",
           "title": {
            "standoff": 15
           },
           "zerolinecolor": "white",
           "zerolinewidth": 2
          }
         }
        },
        "title": {
         "text": "Average Salary by State in the USA and Remote Jobs"
        },
        "width": 1000,
        "xaxis": {
         "anchor": "y",
         "domain": [
          0.8200000000000001,
          1
         ]
        },
        "yaxis": {
         "anchor": "x",
         "domain": [
          0,
          1
         ]
        },
        "yaxis2": {
         "showticklabels": false
        }
       }
      },
      "text/html": [
       "<div>                            <div id=\"a30c0d07-d1aa-4b6e-8d5c-9dd26bd83d85\" class=\"plotly-graph-div\" style=\"height:600px; width:1000px;\"></div>            <script type=\"text/javascript\">                require([\"plotly\"], function(Plotly) {                    window.PLOTLYENV=window.PLOTLYENV || {};                                    if (document.getElementById(\"a30c0d07-d1aa-4b6e-8d5c-9dd26bd83d85\")) {                    Plotly.newPlot(                        \"a30c0d07-d1aa-4b6e-8d5c-9dd26bd83d85\",                        [{\"hoverinfo\":\"text\",\"locationmode\":\"USA-states\",\"locations\":[\"AL\",\"AR\",\"AR\",\"AZ\",\"AZ\",\"CA\",\"CA\",\"CA\",\"CA\",\"CA\",\"CO\",\"CO\",\"CO\",\"CO\",\"CO\",\"DE\",\"DE\",\"FL\",\"FL\",\"FL\",\"FL\",\"FL\",\"GA\",\"GA\",\"GA\",\"GA\",\"IA\",\"IA\",\"IA\",\"ID\",\"ID\",\"ID\",\"IL\",\"IL\",\"IL\",\"IL\",\"IL\",\"IN\",\"IN\",\"IN\",\"KS\",\"LA\",\"LA\",\"LA\",\"MA\",\"MA\",\"MA\",\"MA\",\"MA\",\"MD\",\"MD\",\"MD\",\"MD\",\"MI\",\"MI\",\"MI\",\"MI\",\"MO\",\"MO\",\"MO\",\"MS\",\"NC\",\"NC\",\"NC\",\"NC\",\"NJ\",\"NJ\",\"NJ\",\"NJ\",\"NV\",\"NV\",\"NY\",\"NY\",\"NY\",\"NY\",\"NY\",\"OH\",\"OH\",\"OH\",\"PA\",\"PA\",\"PA\",\"PA\",\"SC\",\"SC\",\"SC\",\"TN\",\"TN\",\"TX\",\"TX\",\"TX\",\"TX\",\"UT\",\"UT\",\"UT\",\"UT\",\"VA\",\"VA\",\"VA\",\"VA\",\"WA\",\"WA\",\"WA\",\"WA\",\"WA\",\"WI\",\"WI\",\"WI\",\"MN\",\"MN\",\"OK\",\"OK\",\"OR\",\"OR\",\"CT\",\"CT\",\"NE\",\"NM\",\"RI\",\"Remote\",\"Remote\",\"Remote\",\"Remote\",\"Remote\"],\"marker\":{\"cmax\":224500.0,\"cmin\":32117.0,\"color\":[53877.0,74844.0,54281.0,68167.59999999999,88617.5,113837.42222222223,126787.33333333333,133823.572,130544.3125,126636.7,84785.71428571429,136188.5,123681.0,91950.0,94450.0,78000.0,79087.0,65248.28571428572,87706.66666666667,105315.0,105577.0,43039.0,52826.0,133469.33333333334,103268.0,101125.5,70935.0,86265.0,94888.0,70327.5,75312.0,107694.0,80110.625,98626.625,106816.1875,85619.33333333333,105921.0,58056.0,51672.0,102724.0,61695.0,75627.0,90402.0,113644.0,88440.0,95246.16666666667,116814.93333333333,120319.63157894737,80681.0,78430.28571428571,115583.6,104973.90909090909,85493.4,64170.0,72604.0,86352.57142857143,67500.0,58750.0,56945.0,100350.16666666667,46739.0,103807.33333333333,108311.84,105328.14285714286,61000.0,83221.66666666667,116759.2,107344.2,114555.33333333333,69078.0,130522.0,77442.36363636363,114749.96,136376.3448275862,119588.3125,150023.2857142857,77515.0,76350.66666666667,100481.0,71611.875,113328.33333333333,102437.66666666667,80121.0,74069.5,113750.0,107500.0,32117.0,105299.0,82886.88888888889,95394.25,122691.90909090909,85401.83333333333,68472.0,106122.33333333333,103628.5,107907.0,69827.0,108092.0,106046.85714285714,98636.0,79411.5,189838.0,121280.58333333333,224500.0,136868.0,55509.333333333336,125350.0,57500.0,90814.25,87710.25,121333.33333333333,88563.0,93967.0,104289.0,109360.0,135000.0,117500.0,140000.0,95000.0,97767.71052631579,126743.23333333334,129861.9076923077,148598.22222222222,101242.28571428571],\"colorbar\":{\"title\":{\"text\":\"Average Salary\"},\"x\":-0.1},\"colorscale\":[[0,\"rgb(0, 0, 255)\"],[1,\"rgb(255, 0, 0)\"]],\"line\":{\"color\":\"rgb(40,40,40)\",\"width\":0.5},\"size\":[10,10,10,30,20,180,120,500,160,40,70,20,90,10,10,10,20,70,30,60,20,10,20,30,10,20,20,10,20,20,10,10,80,80,160,30,30,10,10,20,10,30,10,10,30,60,150,190,20,70,50,110,50,20,10,70,10,20,40,60,10,30,50,70,10,30,50,100,30,10,10,220,50,290,160,70,50,30,10,80,30,60,20,20,10,10,20,10,90,120,110,60,40,30,20,10,80,60,210,20,20,40,120,20,20,30,10,20,40,40,30,10,10,10,10,30,10,20,10,380,480,650,90,70],\"sizemode\":\"area\"},\"text\":[\"Alabama<br>Average Salary: 53877.0<br>Observations: 1\",\"Arkansas<br>Average Salary: 74844.0<br>Observations: 1\",\"Arkansas<br>Average Salary: 54281.0<br>Observations: 1\",\"Arizona<br>Average Salary: 68167.6<br>Observations: 3\",\"Arizona<br>Average Salary: 88617.5<br>Observations: 2\",\"California<br>Average Salary: 113837.42<br>Observations: 18\",\"California<br>Average Salary: 126787.33<br>Observations: 12\",\"California<br>Average Salary: 133823.57<br>Observations: 50\",\"California<br>Average Salary: 130544.31<br>Observations: 16\",\"California<br>Average Salary: 126636.7<br>Observations: 4\",\"Colorado<br>Average Salary: 84785.71<br>Observations: 7\",\"Colorado<br>Average Salary: 136188.5<br>Observations: 2\",\"Colorado<br>Average Salary: 123681.0<br>Observations: 9\",\"Colorado<br>Average Salary: 91950.0<br>Observations: 1\",\"Colorado<br>Average Salary: 94450.0<br>Observations: 1\",\"Delaware<br>Average Salary: 78000.0<br>Observations: 1\",\"Delaware<br>Average Salary: 79087.0<br>Observations: 2\",\"Florida<br>Average Salary: 65248.29<br>Observations: 7\",\"Florida<br>Average Salary: 87706.67<br>Observations: 3\",\"Florida<br>Average Salary: 105315.0<br>Observations: 6\",\"Florida<br>Average Salary: 105577.0<br>Observations: 2\",\"Florida<br>Average Salary: 43039.0<br>Observations: 1\",\"Georgia<br>Average Salary: 52826.0<br>Observations: 2\",\"Georgia<br>Average Salary: 133469.33<br>Observations: 3\",\"Georgia<br>Average Salary: 103268.0<br>Observations: 1\",\"Georgia<br>Average Salary: 101125.5<br>Observations: 2\",\"Iowa<br>Average Salary: 70935.0<br>Observations: 2\",\"Iowa<br>Average Salary: 86265.0<br>Observations: 1\",\"Iowa<br>Average Salary: 94888.0<br>Observations: 2\",\"Idaho<br>Average Salary: 70327.5<br>Observations: 2\",\"Idaho<br>Average Salary: 75312.0<br>Observations: 1\",\"Idaho<br>Average Salary: 107694.0<br>Observations: 1\",\"Illinois<br>Average Salary: 80110.62<br>Observations: 8\",\"Illinois<br>Average Salary: 98626.62<br>Observations: 8\",\"Illinois<br>Average Salary: 106816.19<br>Observations: 16\",\"Illinois<br>Average Salary: 85619.33<br>Observations: 3\",\"Illinois<br>Average Salary: 105921.0<br>Observations: 3\",\"Indiana<br>Average Salary: 58056.0<br>Observations: 1\",\"Indiana<br>Average Salary: 51672.0<br>Observations: 1\",\"Indiana<br>Average Salary: 102724.0<br>Observations: 2\",\"Kansas<br>Average Salary: 61695.0<br>Observations: 1\",\"Louisiana<br>Average Salary: 75627.0<br>Observations: 3\",\"Louisiana<br>Average Salary: 90402.0<br>Observations: 1\",\"Louisiana<br>Average Salary: 113644.0<br>Observations: 1\",\"Massachusetts<br>Average Salary: 88440.0<br>Observations: 3\",\"Massachusetts<br>Average Salary: 95246.17<br>Observations: 6\",\"Massachusetts<br>Average Salary: 116814.93<br>Observations: 15\",\"Massachusetts<br>Average Salary: 120319.63<br>Observations: 19\",\"Massachusetts<br>Average Salary: 80681.0<br>Observations: 2\",\"Maryland<br>Average Salary: 78430.29<br>Observations: 7\",\"Maryland<br>Average Salary: 115583.6<br>Observations: 5\",\"Maryland<br>Average Salary: 104973.91<br>Observations: 11\",\"Maryland<br>Average Salary: 85493.4<br>Observations: 5\",\"Michigan<br>Average Salary: 64170.0<br>Observations: 2\",\"Michigan<br>Average Salary: 72604.0<br>Observations: 1\",\"Michigan<br>Average Salary: 86352.57<br>Observations: 7\",\"Michigan<br>Average Salary: 67500.0<br>Observations: 1\",\"Missouri<br>Average Salary: 58750.0<br>Observations: 2\",\"Missouri<br>Average Salary: 56945.0<br>Observations: 4\",\"Missouri<br>Average Salary: 100350.17<br>Observations: 6\",\"Mississippi<br>Average Salary: 46739.0<br>Observations: 1\",\"North Carolina<br>Average Salary: 103807.33<br>Observations: 3\",\"North Carolina<br>Average Salary: 108311.84<br>Observations: 5\",\"North Carolina<br>Average Salary: 105328.14<br>Observations: 7\",\"North Carolina<br>Average Salary: 61000.0<br>Observations: 1\",\"New Jersey<br>Average Salary: 83221.67<br>Observations: 3\",\"New Jersey<br>Average Salary: 116759.2<br>Observations: 5\",\"New Jersey<br>Average Salary: 107344.2<br>Observations: 10\",\"New Jersey<br>Average Salary: 114555.33<br>Observations: 3\",\"Nevada<br>Average Salary: 69078.0<br>Observations: 1\",\"Nevada<br>Average Salary: 130522.0<br>Observations: 1\",\"New York<br>Average Salary: 77442.36<br>Observations: 22\",\"New York<br>Average Salary: 114749.96<br>Observations: 5\",\"New York<br>Average Salary: 136376.34<br>Observations: 29\",\"New York<br>Average Salary: 119588.31<br>Observations: 16\",\"New York<br>Average Salary: 150023.29<br>Observations: 7\",\"Ohio<br>Average Salary: 77515.0<br>Observations: 5\",\"Ohio<br>Average Salary: 76350.67<br>Observations: 3\",\"Ohio<br>Average Salary: 100481.0<br>Observations: 1\",\"Pennsylvania<br>Average Salary: 71611.88<br>Observations: 8\",\"Pennsylvania<br>Average Salary: 113328.33<br>Observations: 3\",\"Pennsylvania<br>Average Salary: 102437.67<br>Observations: 6\",\"Pennsylvania<br>Average Salary: 80121.0<br>Observations: 2\",\"South Carolina<br>Average Salary: 74069.5<br>Observations: 2\",\"South Carolina<br>Average Salary: 113750.0<br>Observations: 1\",\"South Carolina<br>Average Salary: 107500.0<br>Observations: 1\",\"Tennessee<br>Average Salary: 32117.0<br>Observations: 2\",\"Tennessee<br>Average Salary: 105299.0<br>Observations: 1\",\"Texas<br>Average Salary: 82886.89<br>Observations: 9\",\"Texas<br>Average Salary: 95394.25<br>Observations: 12\",\"Texas<br>Average Salary: 122691.91<br>Observations: 11\",\"Texas<br>Average Salary: 85401.83<br>Observations: 6\",\"Utah<br>Average Salary: 68472.0<br>Observations: 4\",\"Utah<br>Average Salary: 106122.33<br>Observations: 3\",\"Utah<br>Average Salary: 103628.5<br>Observations: 2\",\"Utah<br>Average Salary: 107907.0<br>Observations: 1\",\"Virginia<br>Average Salary: 69827.0<br>Observations: 8\",\"Virginia<br>Average Salary: 108092.0<br>Observations: 6\",\"Virginia<br>Average Salary: 106046.86<br>Observations: 21\",\"Virginia<br>Average Salary: 98636.0<br>Observations: 2\",\"Washington<br>Average Salary: 79411.5<br>Observations: 2\",\"Washington<br>Average Salary: 189838.0<br>Observations: 4\",\"Washington<br>Average Salary: 121280.58<br>Observations: 12\",\"Washington<br>Average Salary: 224500.0<br>Observations: 2\",\"Washington<br>Average Salary: 136868.0<br>Observations: 2\",\"Wisconsin<br>Average Salary: 55509.33<br>Observations: 3\",\"Wisconsin<br>Average Salary: 125350.0<br>Observations: 1\",\"Wisconsin<br>Average Salary: 57500.0<br>Observations: 2\",\"Minnesota<br>Average Salary: 90814.25<br>Observations: 4\",\"Minnesota<br>Average Salary: 87710.25<br>Observations: 4\",\"Oklahoma<br>Average Salary: 121333.33<br>Observations: 3\",\"Oklahoma<br>Average Salary: 88563.0<br>Observations: 1\",\"Oregon<br>Average Salary: 93967.0<br>Observations: 1\",\"Oregon<br>Average Salary: 104289.0<br>Observations: 1\",\"Connecticut<br>Average Salary: 109360.0<br>Observations: 1\",\"Connecticut<br>Average Salary: 135000.0<br>Observations: 3\",\"Nebraska<br>Average Salary: 117500.0<br>Observations: 1\",\"New Mexico<br>Average Salary: 140000.0<br>Observations: 2\",\"Rhode Island<br>Average Salary: 95000.0<br>Observations: 1\",null,null,null,null,null],\"type\":\"scattergeo\",\"geo\":\"geo\"},{\"hoverinfo\":\"text\",\"hovertext\":\"Average Salary: $120,842.67, based on 167 jobs\",\"marker\":{\"color\":0.4611928907319927},\"text\":\"Average Salary: $120,842.67\",\"textposition\":\"auto\",\"x\":[\"Remote Jobs\"],\"y\":[167],\"type\":\"bar\",\"xaxis\":\"x\",\"yaxis\":\"y\"}],                        {\"template\":{\"data\":{\"histogram2dcontour\":[{\"type\":\"histogram2dcontour\",\"colorbar\":{\"outlinewidth\":0,\"ticks\":\"\"},\"colorscale\":[[0.0,\"#0d0887\"],[0.1111111111111111,\"#46039f\"],[0.2222222222222222,\"#7201a8\"],[0.3333333333333333,\"#9c179e\"],[0.4444444444444444,\"#bd3786\"],[0.5555555555555556,\"#d8576b\"],[0.6666666666666666,\"#ed7953\"],[0.7777777777777778,\"#fb9f3a\"],[0.8888888888888888,\"#fdca26\"],[1.0,\"#f0f921\"]]}],\"choropleth\":[{\"type\":\"choropleth\",\"colorbar\":{\"outlinewidth\":0,\"ticks\":\"\"}}],\"histogram2d\":[{\"type\":\"histogram2d\",\"colorbar\":{\"outlinewidth\":0,\"ticks\":\"\"},\"colorscale\":[[0.0,\"#0d0887\"],[0.1111111111111111,\"#46039f\"],[0.2222222222222222,\"#7201a8\"],[0.3333333333333333,\"#9c179e\"],[0.4444444444444444,\"#bd3786\"],[0.5555555555555556,\"#d8576b\"],[0.6666666666666666,\"#ed7953\"],[0.7777777777777778,\"#fb9f3a\"],[0.8888888888888888,\"#fdca26\"],[1.0,\"#f0f921\"]]}],\"heatmap\":[{\"type\":\"heatmap\",\"colorbar\":{\"outlinewidth\":0,\"ticks\":\"\"},\"colorscale\":[[0.0,\"#0d0887\"],[0.1111111111111111,\"#46039f\"],[0.2222222222222222,\"#7201a8\"],[0.3333333333333333,\"#9c179e\"],[0.4444444444444444,\"#bd3786\"],[0.5555555555555556,\"#d8576b\"],[0.6666666666666666,\"#ed7953\"],[0.7777777777777778,\"#fb9f3a\"],[0.8888888888888888,\"#fdca26\"],[1.0,\"#f0f921\"]]}],\"heatmapgl\":[{\"type\":\"heatmapgl\",\"colorbar\":{\"outlinewidth\":0,\"ticks\":\"\"},\"colorscale\":[[0.0,\"#0d0887\"],[0.1111111111111111,\"#46039f\"],[0.2222222222222222,\"#7201a8\"],[0.3333333333333333,\"#9c179e\"],[0.4444444444444444,\"#bd3786\"],[0.5555555555555556,\"#d8576b\"],[0.6666666666666666,\"#ed7953\"],[0.7777777777777778,\"#fb9f3a\"],[0.8888888888888888,\"#fdca26\"],[1.0,\"#f0f921\"]]}],\"contourcarpet\":[{\"type\":\"contourcarpet\",\"colorbar\":{\"outlinewidth\":0,\"ticks\":\"\"}}],\"contour\":[{\"type\":\"contour\",\"colorbar\":{\"outlinewidth\":0,\"ticks\":\"\"},\"colorscale\":[[0.0,\"#0d0887\"],[0.1111111111111111,\"#46039f\"],[0.2222222222222222,\"#7201a8\"],[0.3333333333333333,\"#9c179e\"],[0.4444444444444444,\"#bd3786\"],[0.5555555555555556,\"#d8576b\"],[0.6666666666666666,\"#ed7953\"],[0.7777777777777778,\"#fb9f3a\"],[0.8888888888888888,\"#fdca26\"],[1.0,\"#f0f921\"]]}],\"surface\":[{\"type\":\"surface\",\"colorbar\":{\"outlinewidth\":0,\"ticks\":\"\"},\"colorscale\":[[0.0,\"#0d0887\"],[0.1111111111111111,\"#46039f\"],[0.2222222222222222,\"#7201a8\"],[0.3333333333333333,\"#9c179e\"],[0.4444444444444444,\"#bd3786\"],[0.5555555555555556,\"#d8576b\"],[0.6666666666666666,\"#ed7953\"],[0.7777777777777778,\"#fb9f3a\"],[0.8888888888888888,\"#fdca26\"],[1.0,\"#f0f921\"]]}],\"mesh3d\":[{\"type\":\"mesh3d\",\"colorbar\":{\"outlinewidth\":0,\"ticks\":\"\"}}],\"scatter\":[{\"fillpattern\":{\"fillmode\":\"overlay\",\"size\":10,\"solidity\":0.2},\"type\":\"scatter\"}],\"parcoords\":[{\"type\":\"parcoords\",\"line\":{\"colorbar\":{\"outlinewidth\":0,\"ticks\":\"\"}}}],\"scatterpolargl\":[{\"type\":\"scatterpolargl\",\"marker\":{\"colorbar\":{\"outlinewidth\":0,\"ticks\":\"\"}}}],\"bar\":[{\"error_x\":{\"color\":\"#2a3f5f\"},\"error_y\":{\"color\":\"#2a3f5f\"},\"marker\":{\"line\":{\"color\":\"#E5ECF6\",\"width\":0.5},\"pattern\":{\"fillmode\":\"overlay\",\"size\":10,\"solidity\":0.2}},\"type\":\"bar\"}],\"scattergeo\":[{\"type\":\"scattergeo\",\"marker\":{\"colorbar\":{\"outlinewidth\":0,\"ticks\":\"\"}}}],\"scatterpolar\":[{\"type\":\"scatterpolar\",\"marker\":{\"colorbar\":{\"outlinewidth\":0,\"ticks\":\"\"}}}],\"histogram\":[{\"marker\":{\"pattern\":{\"fillmode\":\"overlay\",\"size\":10,\"solidity\":0.2}},\"type\":\"histogram\"}],\"scattergl\":[{\"type\":\"scattergl\",\"marker\":{\"colorbar\":{\"outlinewidth\":0,\"ticks\":\"\"}}}],\"scatter3d\":[{\"type\":\"scatter3d\",\"line\":{\"colorbar\":{\"outlinewidth\":0,\"ticks\":\"\"}},\"marker\":{\"colorbar\":{\"outlinewidth\":0,\"ticks\":\"\"}}}],\"scattermapbox\":[{\"type\":\"scattermapbox\",\"marker\":{\"colorbar\":{\"outlinewidth\":0,\"ticks\":\"\"}}}],\"scatterternary\":[{\"type\":\"scatterternary\",\"marker\":{\"colorbar\":{\"outlinewidth\":0,\"ticks\":\"\"}}}],\"scattercarpet\":[{\"type\":\"scattercarpet\",\"marker\":{\"colorbar\":{\"outlinewidth\":0,\"ticks\":\"\"}}}],\"carpet\":[{\"aaxis\":{\"endlinecolor\":\"#2a3f5f\",\"gridcolor\":\"white\",\"linecolor\":\"white\",\"minorgridcolor\":\"white\",\"startlinecolor\":\"#2a3f5f\"},\"baxis\":{\"endlinecolor\":\"#2a3f5f\",\"gridcolor\":\"white\",\"linecolor\":\"white\",\"minorgridcolor\":\"white\",\"startlinecolor\":\"#2a3f5f\"},\"type\":\"carpet\"}],\"table\":[{\"cells\":{\"fill\":{\"color\":\"#EBF0F8\"},\"line\":{\"color\":\"white\"}},\"header\":{\"fill\":{\"color\":\"#C8D4E3\"},\"line\":{\"color\":\"white\"}},\"type\":\"table\"}],\"barpolar\":[{\"marker\":{\"line\":{\"color\":\"#E5ECF6\",\"width\":0.5},\"pattern\":{\"fillmode\":\"overlay\",\"size\":10,\"solidity\":0.2}},\"type\":\"barpolar\"}],\"pie\":[{\"automargin\":true,\"type\":\"pie\"}]},\"layout\":{\"autotypenumbers\":\"strict\",\"colorway\":[\"#636efa\",\"#EF553B\",\"#00cc96\",\"#ab63fa\",\"#FFA15A\",\"#19d3f3\",\"#FF6692\",\"#B6E880\",\"#FF97FF\",\"#FECB52\"],\"font\":{\"color\":\"#2a3f5f\"},\"hovermode\":\"closest\",\"hoverlabel\":{\"align\":\"left\"},\"paper_bgcolor\":\"white\",\"plot_bgcolor\":\"#E5ECF6\",\"polar\":{\"bgcolor\":\"#E5ECF6\",\"angularaxis\":{\"gridcolor\":\"white\",\"linecolor\":\"white\",\"ticks\":\"\"},\"radialaxis\":{\"gridcolor\":\"white\",\"linecolor\":\"white\",\"ticks\":\"\"}},\"ternary\":{\"bgcolor\":\"#E5ECF6\",\"aaxis\":{\"gridcolor\":\"white\",\"linecolor\":\"white\",\"ticks\":\"\"},\"baxis\":{\"gridcolor\":\"white\",\"linecolor\":\"white\",\"ticks\":\"\"},\"caxis\":{\"gridcolor\":\"white\",\"linecolor\":\"white\",\"ticks\":\"\"}},\"coloraxis\":{\"colorbar\":{\"outlinewidth\":0,\"ticks\":\"\"}},\"colorscale\":{\"sequential\":[[0.0,\"#0d0887\"],[0.1111111111111111,\"#46039f\"],[0.2222222222222222,\"#7201a8\"],[0.3333333333333333,\"#9c179e\"],[0.4444444444444444,\"#bd3786\"],[0.5555555555555556,\"#d8576b\"],[0.6666666666666666,\"#ed7953\"],[0.7777777777777778,\"#fb9f3a\"],[0.8888888888888888,\"#fdca26\"],[1.0,\"#f0f921\"]],\"sequentialminus\":[[0.0,\"#0d0887\"],[0.1111111111111111,\"#46039f\"],[0.2222222222222222,\"#7201a8\"],[0.3333333333333333,\"#9c179e\"],[0.4444444444444444,\"#bd3786\"],[0.5555555555555556,\"#d8576b\"],[0.6666666666666666,\"#ed7953\"],[0.7777777777777778,\"#fb9f3a\"],[0.8888888888888888,\"#fdca26\"],[1.0,\"#f0f921\"]],\"diverging\":[[0,\"#8e0152\"],[0.1,\"#c51b7d\"],[0.2,\"#de77ae\"],[0.3,\"#f1b6da\"],[0.4,\"#fde0ef\"],[0.5,\"#f7f7f7\"],[0.6,\"#e6f5d0\"],[0.7,\"#b8e186\"],[0.8,\"#7fbc41\"],[0.9,\"#4d9221\"],[1,\"#276419\"]]},\"xaxis\":{\"gridcolor\":\"white\",\"linecolor\":\"white\",\"ticks\":\"\",\"title\":{\"standoff\":15},\"zerolinecolor\":\"white\",\"automargin\":true,\"zerolinewidth\":2},\"yaxis\":{\"gridcolor\":\"white\",\"linecolor\":\"white\",\"ticks\":\"\",\"title\":{\"standoff\":15},\"zerolinecolor\":\"white\",\"automargin\":true,\"zerolinewidth\":2},\"scene\":{\"xaxis\":{\"backgroundcolor\":\"#E5ECF6\",\"gridcolor\":\"white\",\"linecolor\":\"white\",\"showbackground\":true,\"ticks\":\"\",\"zerolinecolor\":\"white\",\"gridwidth\":2},\"yaxis\":{\"backgroundcolor\":\"#E5ECF6\",\"gridcolor\":\"white\",\"linecolor\":\"white\",\"showbackground\":true,\"ticks\":\"\",\"zerolinecolor\":\"white\",\"gridwidth\":2},\"zaxis\":{\"backgroundcolor\":\"#E5ECF6\",\"gridcolor\":\"white\",\"linecolor\":\"white\",\"showbackground\":true,\"ticks\":\"\",\"zerolinecolor\":\"white\",\"gridwidth\":2}},\"shapedefaults\":{\"line\":{\"color\":\"#2a3f5f\"}},\"annotationdefaults\":{\"arrowcolor\":\"#2a3f5f\",\"arrowhead\":0,\"arrowwidth\":1},\"geo\":{\"bgcolor\":\"white\",\"landcolor\":\"#E5ECF6\",\"subunitcolor\":\"white\",\"showland\":true,\"showlakes\":true,\"lakecolor\":\"white\"},\"title\":{\"x\":0.05},\"mapbox\":{\"style\":\"light\"}}},\"geo\":{\"domain\":{\"x\":[0,0.75],\"y\":[0.0,1.0]},\"projection\":{\"type\":\"albers usa\"},\"scope\":\"usa\",\"showland\":true,\"landcolor\":\"rgb(217, 217, 217)\"},\"xaxis\":{\"anchor\":\"y\",\"domain\":[0.8200000000000001,1.0]},\"yaxis\":{\"anchor\":\"x\",\"domain\":[0.0,1.0]},\"title\":{\"text\":\"Average Salary by State in the USA and Remote Jobs\"},\"showlegend\":false,\"yaxis2\":{\"showticklabels\":false},\"barmode\":\"stack\",\"annotations\":[{\"font\":{\"size\":16},\"showarrow\":false,\"text\":\"Remote Jobs\",\"x\":1.25,\"xref\":\"paper\",\"y\":167,\"yref\":\"y\"}],\"width\":1000,\"height\":600},                        {\"responsive\": true}                    ).then(function(){\n",
       "                            \n",
       "var gd = document.getElementById('a30c0d07-d1aa-4b6e-8d5c-9dd26bd83d85');\n",
       "var x = new MutationObserver(function (mutations, observer) {{\n",
       "        var display = window.getComputedStyle(gd).display;\n",
       "        if (!display || display === 'none') {{\n",
       "            console.log([gd, 'removed!']);\n",
       "            Plotly.purge(gd);\n",
       "            observer.disconnect();\n",
       "        }}\n",
       "}});\n",
       "\n",
       "// Listen for the removal of the full notebook cells\n",
       "var notebookContainer = gd.closest('#notebook-container');\n",
       "if (notebookContainer) {{\n",
       "    x.observe(notebookContainer, {childList: true});\n",
       "}}\n",
       "\n",
       "// Listen for the clearing of the current output cell\n",
       "var outputEl = gd.closest('.output');\n",
       "if (outputEl) {{\n",
       "    x.observe(outputEl, {childList: true});\n",
       "}}\n",
       "\n",
       "                        })                };                });            </script>        </div>"
      ]
     },
     "metadata": {},
     "output_type": "display_data"
    }
   ],
   "source": [
    "create_salary_map(df)"
   ]
  },
  {
   "cell_type": "code",
   "execution_count": 80,
   "id": "f3d6b4d3",
   "metadata": {},
   "outputs": [
    {
     "data": {
      "text/html": [
       "<div>\n",
       "<style scoped>\n",
       "    .dataframe tbody tr th:only-of-type {\n",
       "        vertical-align: middle;\n",
       "    }\n",
       "\n",
       "    .dataframe tbody tr th {\n",
       "        vertical-align: top;\n",
       "    }\n",
       "\n",
       "    .dataframe thead th {\n",
       "        text-align: right;\n",
       "    }\n",
       "</style>\n",
       "<table border=\"1\" class=\"dataframe\">\n",
       "  <thead>\n",
       "    <tr style=\"text-align: right;\">\n",
       "      <th></th>\n",
       "      <th>Unnamed: 0</th>\n",
       "      <th>state</th>\n",
       "      <th>average_salary</th>\n",
       "      <th>median_salary</th>\n",
       "      <th>observations</th>\n",
       "      <th>Full_state</th>\n",
       "      <th>hovertext</th>\n",
       "      <th>average_total_cost</th>\n",
       "      <th>median_total_cost</th>\n",
       "      <th>avg_salary_after_COL</th>\n",
       "      <th>median_salary_after_COL</th>\n",
       "    </tr>\n",
       "  </thead>\n",
       "  <tbody>\n",
       "    <tr>\n",
       "      <th>0</th>\n",
       "      <td>0</td>\n",
       "      <td>AL</td>\n",
       "      <td>53877.000000</td>\n",
       "      <td>53877.0</td>\n",
       "      <td>1</td>\n",
       "      <td>Alabama</td>\n",
       "      <td>Alabama&lt;br&gt;Average Salary: 53877.0&lt;br&gt;Observat...</td>\n",
       "      <td>68967.570020</td>\n",
       "      <td>73026.2868</td>\n",
       "      <td>-15090.570020</td>\n",
       "      <td>-19149.2868</td>\n",
       "    </tr>\n",
       "    <tr>\n",
       "      <th>1</th>\n",
       "      <td>1</td>\n",
       "      <td>AR</td>\n",
       "      <td>64562.500000</td>\n",
       "      <td>64562.5</td>\n",
       "      <td>2</td>\n",
       "      <td>Arkansas</td>\n",
       "      <td>Arkansas&lt;br&gt;Average Salary: 64562.5&lt;br&gt;Observa...</td>\n",
       "      <td>61491.891851</td>\n",
       "      <td>64790.3994</td>\n",
       "      <td>3070.608149</td>\n",
       "      <td>-227.8994</td>\n",
       "    </tr>\n",
       "    <tr>\n",
       "      <th>2</th>\n",
       "      <td>2</td>\n",
       "      <td>AZ</td>\n",
       "      <td>76347.560000</td>\n",
       "      <td>64075.0</td>\n",
       "      <td>5</td>\n",
       "      <td>Arizona</td>\n",
       "      <td>Arizona&lt;br&gt;Average Salary: 76347.56&lt;br&gt;Observa...</td>\n",
       "      <td>75985.939376</td>\n",
       "      <td>76835.3088</td>\n",
       "      <td>361.620624</td>\n",
       "      <td>-12760.3088</td>\n",
       "    </tr>\n",
       "    <tr>\n",
       "      <th>3</th>\n",
       "      <td>3</td>\n",
       "      <td>CA</td>\n",
       "      <td>128569.560000</td>\n",
       "      <td>128320.0</td>\n",
       "      <td>100</td>\n",
       "      <td>California</td>\n",
       "      <td>California&lt;br&gt;Average Salary: 128569.56&lt;br&gt;Obs...</td>\n",
       "      <td>93179.163060</td>\n",
       "      <td>89793.1464</td>\n",
       "      <td>35390.396940</td>\n",
       "      <td>38526.8536</td>\n",
       "    </tr>\n",
       "    <tr>\n",
       "      <th>4</th>\n",
       "      <td>4</td>\n",
       "      <td>CO</td>\n",
       "      <td>108270.300000</td>\n",
       "      <td>100213.5</td>\n",
       "      <td>20</td>\n",
       "      <td>Colorado</td>\n",
       "      <td>Colorado&lt;br&gt;Average Salary: 108270.3&lt;br&gt;Observ...</td>\n",
       "      <td>77595.782964</td>\n",
       "      <td>77275.3794</td>\n",
       "      <td>30674.517036</td>\n",
       "      <td>22938.1206</td>\n",
       "    </tr>\n",
       "    <tr>\n",
       "      <th>5</th>\n",
       "      <td>5</td>\n",
       "      <td>CT</td>\n",
       "      <td>128590.000000</td>\n",
       "      <td>135000.0</td>\n",
       "      <td>4</td>\n",
       "      <td>Connecticut</td>\n",
       "      <td>Connecticut&lt;br&gt;Average Salary: 128590.0&lt;br&gt;Obs...</td>\n",
       "      <td>90013.504620</td>\n",
       "      <td>92519.2326</td>\n",
       "      <td>38576.495380</td>\n",
       "      <td>42480.7674</td>\n",
       "    </tr>\n",
       "    <tr>\n",
       "      <th>6</th>\n",
       "      <td>6</td>\n",
       "      <td>DE</td>\n",
       "      <td>78724.666667</td>\n",
       "      <td>78000.0</td>\n",
       "      <td>3</td>\n",
       "      <td>Delaware</td>\n",
       "      <td>Delaware&lt;br&gt;Average Salary: 78724.67&lt;br&gt;Observ...</td>\n",
       "      <td>81505.517560</td>\n",
       "      <td>83640.7590</td>\n",
       "      <td>-2780.850893</td>\n",
       "      <td>-5640.7590</td>\n",
       "    </tr>\n",
       "    <tr>\n",
       "      <th>7</th>\n",
       "      <td>7</td>\n",
       "      <td>FL</td>\n",
       "      <td>84523.210526</td>\n",
       "      <td>89347.0</td>\n",
       "      <td>19</td>\n",
       "      <td>Florida</td>\n",
       "      <td>Florida&lt;br&gt;Average Salary: 84523.21&lt;br&gt;Observa...</td>\n",
       "      <td>71521.722981</td>\n",
       "      <td>71941.6962</td>\n",
       "      <td>13001.487545</td>\n",
       "      <td>17405.3038</td>\n",
       "    </tr>\n",
       "    <tr>\n",
       "      <th>8</th>\n",
       "      <td>8</td>\n",
       "      <td>GA</td>\n",
       "      <td>101447.375000</td>\n",
       "      <td>105718.0</td>\n",
       "      <td>8</td>\n",
       "      <td>Georgia</td>\n",
       "      <td>Georgia&lt;br&gt;Average Salary: 101447.38&lt;br&gt;Observ...</td>\n",
       "      <td>64898.336594</td>\n",
       "      <td>66149.1096</td>\n",
       "      <td>36549.038406</td>\n",
       "      <td>39568.8904</td>\n",
       "    </tr>\n",
       "    <tr>\n",
       "      <th>9</th>\n",
       "      <td>9</td>\n",
       "      <td>IA</td>\n",
       "      <td>83582.200000</td>\n",
       "      <td>86265.0</td>\n",
       "      <td>5</td>\n",
       "      <td>Iowa</td>\n",
       "      <td>Iowa&lt;br&gt;Average Salary: 83582.2&lt;br&gt;Observation...</td>\n",
       "      <td>66089.039308</td>\n",
       "      <td>69293.9736</td>\n",
       "      <td>17493.160692</td>\n",
       "      <td>16971.0264</td>\n",
       "    </tr>\n",
       "    <tr>\n",
       "      <th>10</th>\n",
       "      <td>10</td>\n",
       "      <td>ID</td>\n",
       "      <td>80915.250000</td>\n",
       "      <td>79828.0</td>\n",
       "      <td>4</td>\n",
       "      <td>Idaho</td>\n",
       "      <td>Idaho&lt;br&gt;Average Salary: 80915.25&lt;br&gt;Observati...</td>\n",
       "      <td>70506.019440</td>\n",
       "      <td>73263.0558</td>\n",
       "      <td>10409.230560</td>\n",
       "      <td>6564.9442</td>\n",
       "    </tr>\n",
       "    <tr>\n",
       "      <th>11</th>\n",
       "      <td>11</td>\n",
       "      <td>IL</td>\n",
       "      <td>97725.736842</td>\n",
       "      <td>102372.0</td>\n",
       "      <td>38</td>\n",
       "      <td>Illinois</td>\n",
       "      <td>Illinois&lt;br&gt;Average Salary: 97725.74&lt;br&gt;Observ...</td>\n",
       "      <td>73024.613053</td>\n",
       "      <td>76090.0608</td>\n",
       "      <td>24701.123789</td>\n",
       "      <td>26281.9392</td>\n",
       "    </tr>\n",
       "    <tr>\n",
       "      <th>12</th>\n",
       "      <td>12</td>\n",
       "      <td>IN</td>\n",
       "      <td>78794.000000</td>\n",
       "      <td>76270.5</td>\n",
       "      <td>4</td>\n",
       "      <td>Indiana</td>\n",
       "      <td>Indiana&lt;br&gt;Average Salary: 78794.0&lt;br&gt;Observat...</td>\n",
       "      <td>69161.680460</td>\n",
       "      <td>72003.9024</td>\n",
       "      <td>9632.319540</td>\n",
       "      <td>4266.5976</td>\n",
       "    </tr>\n",
       "    <tr>\n",
       "      <th>13</th>\n",
       "      <td>13</td>\n",
       "      <td>KS</td>\n",
       "      <td>61695.000000</td>\n",
       "      <td>61695.0</td>\n",
       "      <td>1</td>\n",
       "      <td>Kansas</td>\n",
       "      <td>Kansas&lt;br&gt;Average Salary: 61695.0&lt;br&gt;Observati...</td>\n",
       "      <td>67233.076625</td>\n",
       "      <td>70467.6330</td>\n",
       "      <td>-5538.076625</td>\n",
       "      <td>-8772.6330</td>\n",
       "    </tr>\n",
       "    <tr>\n",
       "      <th>14</th>\n",
       "      <td>14</td>\n",
       "      <td>LA</td>\n",
       "      <td>86185.400000</td>\n",
       "      <td>78797.0</td>\n",
       "      <td>5</td>\n",
       "      <td>Louisiana</td>\n",
       "      <td>Louisiana&lt;br&gt;Average Salary: 86185.4&lt;br&gt;Observ...</td>\n",
       "      <td>68282.349846</td>\n",
       "      <td>70567.0866</td>\n",
       "      <td>17903.050154</td>\n",
       "      <td>8229.9134</td>\n",
       "    </tr>\n",
       "    <tr>\n",
       "      <th>15</th>\n",
       "      <td>15</td>\n",
       "      <td>MA</td>\n",
       "      <td>111921.244444</td>\n",
       "      <td>110164.0</td>\n",
       "      <td>45</td>\n",
       "      <td>Massachusetts</td>\n",
       "      <td>Massachusetts&lt;br&gt;Average Salary: 111921.24&lt;br&gt;...</td>\n",
       "      <td>101891.575946</td>\n",
       "      <td>104119.5882</td>\n",
       "      <td>10029.668499</td>\n",
       "      <td>6044.4118</td>\n",
       "    </tr>\n",
       "    <tr>\n",
       "      <th>16</th>\n",
       "      <td>16</td>\n",
       "      <td>MD</td>\n",
       "      <td>96753.928571</td>\n",
       "      <td>95794.0</td>\n",
       "      <td>28</td>\n",
       "      <td>Maryland</td>\n",
       "      <td>Maryland&lt;br&gt;Average Salary: 96753.93&lt;br&gt;Observ...</td>\n",
       "      <td>79001.490465</td>\n",
       "      <td>78409.3800</td>\n",
       "      <td>17752.438106</td>\n",
       "      <td>17384.6200</td>\n",
       "    </tr>\n",
       "    <tr>\n",
       "      <th>17</th>\n",
       "      <td>17</td>\n",
       "      <td>MI</td>\n",
       "      <td>79355.636364</td>\n",
       "      <td>70840.0</td>\n",
       "      <td>11</td>\n",
       "      <td>Michigan</td>\n",
       "      <td>Michigan&lt;br&gt;Average Salary: 79355.64&lt;br&gt;Observ...</td>\n",
       "      <td>68782.098743</td>\n",
       "      <td>71829.3456</td>\n",
       "      <td>10573.537621</td>\n",
       "      <td>-989.3456</td>\n",
       "    </tr>\n",
       "    <tr>\n",
       "      <th>18</th>\n",
       "      <td>18</td>\n",
       "      <td>MN</td>\n",
       "      <td>89262.250000</td>\n",
       "      <td>83270.5</td>\n",
       "      <td>8</td>\n",
       "      <td>Minnesota</td>\n",
       "      <td>Minnesota&lt;br&gt;Average Salary: 89262.25&lt;br&gt;Obser...</td>\n",
       "      <td>71748.349877</td>\n",
       "      <td>73004.5842</td>\n",
       "      <td>17513.900123</td>\n",
       "      <td>10265.9158</td>\n",
       "    </tr>\n",
       "    <tr>\n",
       "      <th>19</th>\n",
       "      <td>19</td>\n",
       "      <td>MO</td>\n",
       "      <td>78948.416667</td>\n",
       "      <td>83191.5</td>\n",
       "      <td>12</td>\n",
       "      <td>Missouri</td>\n",
       "      <td>Missouri&lt;br&gt;Average Salary: 78948.42&lt;br&gt;Observ...</td>\n",
       "      <td>66220.762768</td>\n",
       "      <td>67633.6320</td>\n",
       "      <td>12727.653899</td>\n",
       "      <td>15557.8680</td>\n",
       "    </tr>\n",
       "    <tr>\n",
       "      <th>20</th>\n",
       "      <td>20</td>\n",
       "      <td>MS</td>\n",
       "      <td>46739.000000</td>\n",
       "      <td>46739.0</td>\n",
       "      <td>1</td>\n",
       "      <td>Mississippi</td>\n",
       "      <td>Mississippi&lt;br&gt;Average Salary: 46739.0&lt;br&gt;Obse...</td>\n",
       "      <td>61360.990604</td>\n",
       "      <td>63202.9338</td>\n",
       "      <td>-14621.990604</td>\n",
       "      <td>-16463.9338</td>\n",
       "    </tr>\n",
       "    <tr>\n",
       "      <th>21</th>\n",
       "      <td>21</td>\n",
       "      <td>NC</td>\n",
       "      <td>103204.887500</td>\n",
       "      <td>104000.0</td>\n",
       "      <td>16</td>\n",
       "      <td>North Carolina</td>\n",
       "      <td>North Carolina&lt;br&gt;Average Salary: 103204.89&lt;br...</td>\n",
       "      <td>70013.586953</td>\n",
       "      <td>71188.1892</td>\n",
       "      <td>33191.300547</td>\n",
       "      <td>32811.8108</td>\n",
       "    </tr>\n",
       "    <tr>\n",
       "      <th>22</th>\n",
       "      <td>22</td>\n",
       "      <td>NE</td>\n",
       "      <td>117500.000000</td>\n",
       "      <td>117500.0</td>\n",
       "      <td>1</td>\n",
       "      <td>Nebraska</td>\n",
       "      <td>Nebraska&lt;br&gt;Average Salary: 117500.0&lt;br&gt;Observ...</td>\n",
       "      <td>77684.601942</td>\n",
       "      <td>79078.6320</td>\n",
       "      <td>39815.398058</td>\n",
       "      <td>38421.3680</td>\n",
       "    </tr>\n",
       "    <tr>\n",
       "      <th>23</th>\n",
       "      <td>23</td>\n",
       "      <td>NJ</td>\n",
       "      <td>107169.952381</td>\n",
       "      <td>104000.0</td>\n",
       "      <td>21</td>\n",
       "      <td>New Jersey</td>\n",
       "      <td>New Jersey&lt;br&gt;Average Salary: 107169.95&lt;br&gt;Obs...</td>\n",
       "      <td>92575.263891</td>\n",
       "      <td>94976.2470</td>\n",
       "      <td>14594.688490</td>\n",
       "      <td>9023.7530</td>\n",
       "    </tr>\n",
       "    <tr>\n",
       "      <th>24</th>\n",
       "      <td>24</td>\n",
       "      <td>NM</td>\n",
       "      <td>140000.000000</td>\n",
       "      <td>140000.0</td>\n",
       "      <td>2</td>\n",
       "      <td>New Mexico</td>\n",
       "      <td>New Mexico&lt;br&gt;Average Salary: 140000.0&lt;br&gt;Obse...</td>\n",
       "      <td>67687.562087</td>\n",
       "      <td>70199.2530</td>\n",
       "      <td>72312.437913</td>\n",
       "      <td>69800.7470</td>\n",
       "    </tr>\n",
       "    <tr>\n",
       "      <th>25</th>\n",
       "      <td>25</td>\n",
       "      <td>NV</td>\n",
       "      <td>99800.000000</td>\n",
       "      <td>99800.0</td>\n",
       "      <td>2</td>\n",
       "      <td>Nevada</td>\n",
       "      <td>Nevada&lt;br&gt;Average Salary: 99800.0&lt;br&gt;Observati...</td>\n",
       "      <td>75925.310202</td>\n",
       "      <td>76069.4616</td>\n",
       "      <td>23874.689798</td>\n",
       "      <td>23730.5384</td>\n",
       "    </tr>\n",
       "    <tr>\n",
       "      <th>26</th>\n",
       "      <td>26</td>\n",
       "      <td>NY</td>\n",
       "      <td>116404.706329</td>\n",
       "      <td>114768.0</td>\n",
       "      <td>79</td>\n",
       "      <td>New York</td>\n",
       "      <td>New York&lt;br&gt;Average Salary: 116404.71&lt;br&gt;Obser...</td>\n",
       "      <td>86764.054353</td>\n",
       "      <td>85002.7794</td>\n",
       "      <td>29640.651976</td>\n",
       "      <td>29765.2206</td>\n",
       "    </tr>\n",
       "    <tr>\n",
       "      <th>27</th>\n",
       "      <td>27</td>\n",
       "      <td>OH</td>\n",
       "      <td>79678.666667</td>\n",
       "      <td>72374.0</td>\n",
       "      <td>9</td>\n",
       "      <td>Ohio</td>\n",
       "      <td>Ohio&lt;br&gt;Average Salary: 79678.67&lt;br&gt;Observatio...</td>\n",
       "      <td>65100.187508</td>\n",
       "      <td>68285.8128</td>\n",
       "      <td>14578.479158</td>\n",
       "      <td>4088.1872</td>\n",
       "    </tr>\n",
       "    <tr>\n",
       "      <th>28</th>\n",
       "      <td>28</td>\n",
       "      <td>OK</td>\n",
       "      <td>113140.750000</td>\n",
       "      <td>117000.0</td>\n",
       "      <td>4</td>\n",
       "      <td>Oklahoma</td>\n",
       "      <td>Oklahoma&lt;br&gt;Average Salary: 113140.75&lt;br&gt;Obser...</td>\n",
       "      <td>71110.675373</td>\n",
       "      <td>74993.8914</td>\n",
       "      <td>42030.074627</td>\n",
       "      <td>42006.1086</td>\n",
       "    </tr>\n",
       "    <tr>\n",
       "      <th>29</th>\n",
       "      <td>29</td>\n",
       "      <td>OR</td>\n",
       "      <td>99128.000000</td>\n",
       "      <td>99128.0</td>\n",
       "      <td>2</td>\n",
       "      <td>Oregon</td>\n",
       "      <td>Oregon&lt;br&gt;Average Salary: 99128.0&lt;br&gt;Observati...</td>\n",
       "      <td>83818.032683</td>\n",
       "      <td>85097.6694</td>\n",
       "      <td>15309.967317</td>\n",
       "      <td>14030.3306</td>\n",
       "    </tr>\n",
       "    <tr>\n",
       "      <th>30</th>\n",
       "      <td>30</td>\n",
       "      <td>PA</td>\n",
       "      <td>88828.842105</td>\n",
       "      <td>91258.0</td>\n",
       "      <td>19</td>\n",
       "      <td>Pennsylvania</td>\n",
       "      <td>Pennsylvania&lt;br&gt;Average Salary: 88828.84&lt;br&gt;Ob...</td>\n",
       "      <td>72114.340764</td>\n",
       "      <td>74505.5562</td>\n",
       "      <td>16714.501341</td>\n",
       "      <td>16752.4438</td>\n",
       "    </tr>\n",
       "    <tr>\n",
       "      <th>31</th>\n",
       "      <td>31</td>\n",
       "      <td>RI</td>\n",
       "      <td>95000.000000</td>\n",
       "      <td>95000.0</td>\n",
       "      <td>1</td>\n",
       "      <td>Rhode Island</td>\n",
       "      <td>Rhode Island&lt;br&gt;Average Salary: 95000.0&lt;br&gt;Obs...</td>\n",
       "      <td>83512.769736</td>\n",
       "      <td>86092.3800</td>\n",
       "      <td>11487.230264</td>\n",
       "      <td>8907.6200</td>\n",
       "    </tr>\n",
       "    <tr>\n",
       "      <th>32</th>\n",
       "      <td>32</td>\n",
       "      <td>SC</td>\n",
       "      <td>92347.250000</td>\n",
       "      <td>99750.0</td>\n",
       "      <td>4</td>\n",
       "      <td>South Carolina</td>\n",
       "      <td>South Carolina&lt;br&gt;Average Salary: 92347.25&lt;br&gt;...</td>\n",
       "      <td>62104.869806</td>\n",
       "      <td>62434.0752</td>\n",
       "      <td>30242.380194</td>\n",
       "      <td>37315.9248</td>\n",
       "    </tr>\n",
       "    <tr>\n",
       "      <th>33</th>\n",
       "      <td>33</td>\n",
       "      <td>TN</td>\n",
       "      <td>56511.000000</td>\n",
       "      <td>57851.0</td>\n",
       "      <td>3</td>\n",
       "      <td>Tennessee</td>\n",
       "      <td>Tennessee&lt;br&gt;Average Salary: 56511.0&lt;br&gt;Observ...</td>\n",
       "      <td>62871.107261</td>\n",
       "      <td>64848.0234</td>\n",
       "      <td>-6360.107261</td>\n",
       "      <td>-6997.0234</td>\n",
       "    </tr>\n",
       "    <tr>\n",
       "      <th>34</th>\n",
       "      <td>34</td>\n",
       "      <td>TX</td>\n",
       "      <td>98756.184211</td>\n",
       "      <td>99984.5</td>\n",
       "      <td>38</td>\n",
       "      <td>Texas</td>\n",
       "      <td>Texas&lt;br&gt;Average Salary: 98756.18&lt;br&gt;Observati...</td>\n",
       "      <td>64795.398352</td>\n",
       "      <td>66925.7076</td>\n",
       "      <td>33960.785859</td>\n",
       "      <td>33058.7924</td>\n",
       "    </tr>\n",
       "    <tr>\n",
       "      <th>35</th>\n",
       "      <td>35</td>\n",
       "      <td>UT</td>\n",
       "      <td>90741.900000</td>\n",
       "      <td>90558.5</td>\n",
       "      <td>10</td>\n",
       "      <td>Utah</td>\n",
       "      <td>Utah&lt;br&gt;Average Salary: 90741.9&lt;br&gt;Observation...</td>\n",
       "      <td>75609.054360</td>\n",
       "      <td>78881.1210</td>\n",
       "      <td>15132.845640</td>\n",
       "      <td>11677.3790</td>\n",
       "    </tr>\n",
       "    <tr>\n",
       "      <th>36</th>\n",
       "      <td>36</td>\n",
       "      <td>VA</td>\n",
       "      <td>98146.594595</td>\n",
       "      <td>99187.0</td>\n",
       "      <td>37</td>\n",
       "      <td>Virginia</td>\n",
       "      <td>Virginia&lt;br&gt;Average Salary: 98146.59&lt;br&gt;Observ...</td>\n",
       "      <td>76748.558009</td>\n",
       "      <td>76685.4786</td>\n",
       "      <td>21398.036585</td>\n",
       "      <td>22501.5214</td>\n",
       "    </tr>\n",
       "    <tr>\n",
       "      <th>37</th>\n",
       "      <td>37</td>\n",
       "      <td>WA</td>\n",
       "      <td>140739.909091</td>\n",
       "      <td>129552.5</td>\n",
       "      <td>22</td>\n",
       "      <td>Washington</td>\n",
       "      <td>Washington&lt;br&gt;Average Salary: 140739.91&lt;br&gt;Obs...</td>\n",
       "      <td>75648.910151</td>\n",
       "      <td>76483.5618</td>\n",
       "      <td>65090.998940</td>\n",
       "      <td>53068.9382</td>\n",
       "    </tr>\n",
       "    <tr>\n",
       "      <th>38</th>\n",
       "      <td>38</td>\n",
       "      <td>WI</td>\n",
       "      <td>67813.000000</td>\n",
       "      <td>57500.0</td>\n",
       "      <td>6</td>\n",
       "      <td>Wisconsin</td>\n",
       "      <td>Wisconsin&lt;br&gt;Average Salary: 67813.0&lt;br&gt;Observ...</td>\n",
       "      <td>73150.619482</td>\n",
       "      <td>76790.1504</td>\n",
       "      <td>-5337.619482</td>\n",
       "      <td>-19290.1504</td>\n",
       "    </tr>\n",
       "    <tr>\n",
       "      <th>39</th>\n",
       "      <td>39</td>\n",
       "      <td>Remote</td>\n",
       "      <td>121472.767665</td>\n",
       "      <td>120000.0</td>\n",
       "      <td>167</td>\n",
       "      <td>NaN</td>\n",
       "      <td>NaN</td>\n",
       "      <td>NaN</td>\n",
       "      <td>NaN</td>\n",
       "      <td>NaN</td>\n",
       "      <td>NaN</td>\n",
       "    </tr>\n",
       "  </tbody>\n",
       "</table>\n",
       "</div>"
      ],
      "text/plain": [
       "    Unnamed: 0   state  average_salary  median_salary  observations  \\\n",
       "0            0      AL    53877.000000        53877.0             1   \n",
       "1            1      AR    64562.500000        64562.5             2   \n",
       "2            2      AZ    76347.560000        64075.0             5   \n",
       "3            3      CA   128569.560000       128320.0           100   \n",
       "4            4      CO   108270.300000       100213.5            20   \n",
       "5            5      CT   128590.000000       135000.0             4   \n",
       "6            6      DE    78724.666667        78000.0             3   \n",
       "7            7      FL    84523.210526        89347.0            19   \n",
       "8            8      GA   101447.375000       105718.0             8   \n",
       "9            9      IA    83582.200000        86265.0             5   \n",
       "10          10      ID    80915.250000        79828.0             4   \n",
       "11          11      IL    97725.736842       102372.0            38   \n",
       "12          12      IN    78794.000000        76270.5             4   \n",
       "13          13      KS    61695.000000        61695.0             1   \n",
       "14          14      LA    86185.400000        78797.0             5   \n",
       "15          15      MA   111921.244444       110164.0            45   \n",
       "16          16      MD    96753.928571        95794.0            28   \n",
       "17          17      MI    79355.636364        70840.0            11   \n",
       "18          18      MN    89262.250000        83270.5             8   \n",
       "19          19      MO    78948.416667        83191.5            12   \n",
       "20          20      MS    46739.000000        46739.0             1   \n",
       "21          21      NC   103204.887500       104000.0            16   \n",
       "22          22      NE   117500.000000       117500.0             1   \n",
       "23          23      NJ   107169.952381       104000.0            21   \n",
       "24          24      NM   140000.000000       140000.0             2   \n",
       "25          25      NV    99800.000000        99800.0             2   \n",
       "26          26      NY   116404.706329       114768.0            79   \n",
       "27          27      OH    79678.666667        72374.0             9   \n",
       "28          28      OK   113140.750000       117000.0             4   \n",
       "29          29      OR    99128.000000        99128.0             2   \n",
       "30          30      PA    88828.842105        91258.0            19   \n",
       "31          31      RI    95000.000000        95000.0             1   \n",
       "32          32      SC    92347.250000        99750.0             4   \n",
       "33          33      TN    56511.000000        57851.0             3   \n",
       "34          34      TX    98756.184211        99984.5            38   \n",
       "35          35      UT    90741.900000        90558.5            10   \n",
       "36          36      VA    98146.594595        99187.0            37   \n",
       "37          37      WA   140739.909091       129552.5            22   \n",
       "38          38      WI    67813.000000        57500.0             6   \n",
       "39          39  Remote   121472.767665       120000.0           167   \n",
       "\n",
       "        Full_state                                          hovertext  \\\n",
       "0          Alabama  Alabama<br>Average Salary: 53877.0<br>Observat...   \n",
       "1         Arkansas  Arkansas<br>Average Salary: 64562.5<br>Observa...   \n",
       "2          Arizona  Arizona<br>Average Salary: 76347.56<br>Observa...   \n",
       "3       California  California<br>Average Salary: 128569.56<br>Obs...   \n",
       "4         Colorado  Colorado<br>Average Salary: 108270.3<br>Observ...   \n",
       "5      Connecticut  Connecticut<br>Average Salary: 128590.0<br>Obs...   \n",
       "6         Delaware  Delaware<br>Average Salary: 78724.67<br>Observ...   \n",
       "7          Florida  Florida<br>Average Salary: 84523.21<br>Observa...   \n",
       "8          Georgia  Georgia<br>Average Salary: 101447.38<br>Observ...   \n",
       "9             Iowa  Iowa<br>Average Salary: 83582.2<br>Observation...   \n",
       "10           Idaho  Idaho<br>Average Salary: 80915.25<br>Observati...   \n",
       "11        Illinois  Illinois<br>Average Salary: 97725.74<br>Observ...   \n",
       "12         Indiana  Indiana<br>Average Salary: 78794.0<br>Observat...   \n",
       "13          Kansas  Kansas<br>Average Salary: 61695.0<br>Observati...   \n",
       "14       Louisiana  Louisiana<br>Average Salary: 86185.4<br>Observ...   \n",
       "15   Massachusetts  Massachusetts<br>Average Salary: 111921.24<br>...   \n",
       "16        Maryland  Maryland<br>Average Salary: 96753.93<br>Observ...   \n",
       "17        Michigan  Michigan<br>Average Salary: 79355.64<br>Observ...   \n",
       "18       Minnesota  Minnesota<br>Average Salary: 89262.25<br>Obser...   \n",
       "19        Missouri  Missouri<br>Average Salary: 78948.42<br>Observ...   \n",
       "20     Mississippi  Mississippi<br>Average Salary: 46739.0<br>Obse...   \n",
       "21  North Carolina  North Carolina<br>Average Salary: 103204.89<br...   \n",
       "22        Nebraska  Nebraska<br>Average Salary: 117500.0<br>Observ...   \n",
       "23      New Jersey  New Jersey<br>Average Salary: 107169.95<br>Obs...   \n",
       "24      New Mexico  New Mexico<br>Average Salary: 140000.0<br>Obse...   \n",
       "25          Nevada  Nevada<br>Average Salary: 99800.0<br>Observati...   \n",
       "26        New York  New York<br>Average Salary: 116404.71<br>Obser...   \n",
       "27            Ohio  Ohio<br>Average Salary: 79678.67<br>Observatio...   \n",
       "28        Oklahoma  Oklahoma<br>Average Salary: 113140.75<br>Obser...   \n",
       "29          Oregon  Oregon<br>Average Salary: 99128.0<br>Observati...   \n",
       "30    Pennsylvania  Pennsylvania<br>Average Salary: 88828.84<br>Ob...   \n",
       "31    Rhode Island  Rhode Island<br>Average Salary: 95000.0<br>Obs...   \n",
       "32  South Carolina  South Carolina<br>Average Salary: 92347.25<br>...   \n",
       "33       Tennessee  Tennessee<br>Average Salary: 56511.0<br>Observ...   \n",
       "34           Texas  Texas<br>Average Salary: 98756.18<br>Observati...   \n",
       "35            Utah  Utah<br>Average Salary: 90741.9<br>Observation...   \n",
       "36        Virginia  Virginia<br>Average Salary: 98146.59<br>Observ...   \n",
       "37      Washington  Washington<br>Average Salary: 140739.91<br>Obs...   \n",
       "38       Wisconsin  Wisconsin<br>Average Salary: 67813.0<br>Observ...   \n",
       "39             NaN                                                NaN   \n",
       "\n",
       "    average_total_cost  median_total_cost  avg_salary_after_COL  \\\n",
       "0         68967.570020         73026.2868         -15090.570020   \n",
       "1         61491.891851         64790.3994           3070.608149   \n",
       "2         75985.939376         76835.3088            361.620624   \n",
       "3         93179.163060         89793.1464          35390.396940   \n",
       "4         77595.782964         77275.3794          30674.517036   \n",
       "5         90013.504620         92519.2326          38576.495380   \n",
       "6         81505.517560         83640.7590          -2780.850893   \n",
       "7         71521.722981         71941.6962          13001.487545   \n",
       "8         64898.336594         66149.1096          36549.038406   \n",
       "9         66089.039308         69293.9736          17493.160692   \n",
       "10        70506.019440         73263.0558          10409.230560   \n",
       "11        73024.613053         76090.0608          24701.123789   \n",
       "12        69161.680460         72003.9024           9632.319540   \n",
       "13        67233.076625         70467.6330          -5538.076625   \n",
       "14        68282.349846         70567.0866          17903.050154   \n",
       "15       101891.575946        104119.5882          10029.668499   \n",
       "16        79001.490465         78409.3800          17752.438106   \n",
       "17        68782.098743         71829.3456          10573.537621   \n",
       "18        71748.349877         73004.5842          17513.900123   \n",
       "19        66220.762768         67633.6320          12727.653899   \n",
       "20        61360.990604         63202.9338         -14621.990604   \n",
       "21        70013.586953         71188.1892          33191.300547   \n",
       "22        77684.601942         79078.6320          39815.398058   \n",
       "23        92575.263891         94976.2470          14594.688490   \n",
       "24        67687.562087         70199.2530          72312.437913   \n",
       "25        75925.310202         76069.4616          23874.689798   \n",
       "26        86764.054353         85002.7794          29640.651976   \n",
       "27        65100.187508         68285.8128          14578.479158   \n",
       "28        71110.675373         74993.8914          42030.074627   \n",
       "29        83818.032683         85097.6694          15309.967317   \n",
       "30        72114.340764         74505.5562          16714.501341   \n",
       "31        83512.769736         86092.3800          11487.230264   \n",
       "32        62104.869806         62434.0752          30242.380194   \n",
       "33        62871.107261         64848.0234          -6360.107261   \n",
       "34        64795.398352         66925.7076          33960.785859   \n",
       "35        75609.054360         78881.1210          15132.845640   \n",
       "36        76748.558009         76685.4786          21398.036585   \n",
       "37        75648.910151         76483.5618          65090.998940   \n",
       "38        73150.619482         76790.1504          -5337.619482   \n",
       "39                 NaN                NaN                   NaN   \n",
       "\n",
       "    median_salary_after_COL  \n",
       "0               -19149.2868  \n",
       "1                 -227.8994  \n",
       "2               -12760.3088  \n",
       "3                38526.8536  \n",
       "4                22938.1206  \n",
       "5                42480.7674  \n",
       "6                -5640.7590  \n",
       "7                17405.3038  \n",
       "8                39568.8904  \n",
       "9                16971.0264  \n",
       "10                6564.9442  \n",
       "11               26281.9392  \n",
       "12                4266.5976  \n",
       "13               -8772.6330  \n",
       "14                8229.9134  \n",
       "15                6044.4118  \n",
       "16               17384.6200  \n",
       "17                -989.3456  \n",
       "18               10265.9158  \n",
       "19               15557.8680  \n",
       "20              -16463.9338  \n",
       "21               32811.8108  \n",
       "22               38421.3680  \n",
       "23                9023.7530  \n",
       "24               69800.7470  \n",
       "25               23730.5384  \n",
       "26               29765.2206  \n",
       "27                4088.1872  \n",
       "28               42006.1086  \n",
       "29               14030.3306  \n",
       "30               16752.4438  \n",
       "31                8907.6200  \n",
       "32               37315.9248  \n",
       "33               -6997.0234  \n",
       "34               33058.7924  \n",
       "35               11677.3790  \n",
       "36               22501.5214  \n",
       "37               53068.9382  \n",
       "38              -19290.1504  \n",
       "39                      NaN  "
      ]
     },
     "execution_count": 80,
     "metadata": {},
     "output_type": "execute_result"
    }
   ],
   "source": [
    "df"
   ]
  },
  {
   "cell_type": "code",
   "execution_count": 84,
   "id": "45849f19",
   "metadata": {},
   "outputs": [
    {
     "data": {
      "application/vnd.plotly.v1+json": {
       "config": {
        "plotlyServerURL": "https://plot.ly"
       },
       "data": [
        {
         "alignmentgroup": "True",
         "hovertemplate": "state=%{x}<br>Average Salary=%{marker.color}<extra></extra>",
         "legendgroup": "",
         "marker": {
          "color": [
           65090.99894013986,
           36549.03840603773,
           35390.39693999999,
           33960.785858557814,
           33191.30054719999,
           30674.517035625,
           29640.65197621072,
           24701.12378916409,
           21398.03658527129,
           17903.050154375,
           17752.43810642857,
           17513.900122758612,
           17493.160692121208,
           16714.501341084062,
           15132.845639999983,
           14594.688489523818,
           14578.47915848485,
           13001.487544823249,
           12727.653898735633,
           10573.537620503834,
           10029.668498730156,
           361.6206239999883,
           -5337.619481666668
          ],
          "coloraxis": "coloraxis",
          "pattern": {
           "shape": ""
          }
         },
         "name": "",
         "offsetgroup": "",
         "orientation": "v",
         "showlegend": false,
         "textposition": "auto",
         "type": "bar",
         "x": [
          "WA",
          "GA",
          "CA",
          "TX",
          "NC",
          "CO",
          "NY",
          "IL",
          "VA",
          "LA",
          "MD",
          "MN",
          "IA",
          "PA",
          "UT",
          "NJ",
          "OH",
          "FL",
          "MO",
          "MI",
          "MA",
          "AZ",
          "WI"
         ],
         "xaxis": "x",
         "y": [
          65090.99894013986,
          36549.03840603773,
          35390.39693999999,
          33960.785858557814,
          33191.30054719999,
          30674.517035625,
          29640.65197621072,
          24701.12378916409,
          21398.03658527129,
          17903.050154375,
          17752.43810642857,
          17513.900122758612,
          17493.160692121208,
          16714.501341084062,
          15132.845639999983,
          14594.688489523818,
          14578.47915848485,
          13001.487544823249,
          12727.653898735633,
          10573.537620503834,
          10029.668498730156,
          361.6206239999883,
          -5337.619481666668
         ],
         "yaxis": "y"
        }
       ],
       "layout": {
        "barmode": "relative",
        "coloraxis": {
         "colorbar": {
          "title": {
           "text": "Average Salary"
          }
         },
         "colorscale": [
          [
           0,
           "#0d0887"
          ],
          [
           0.1111111111111111,
           "#46039f"
          ],
          [
           0.2222222222222222,
           "#7201a8"
          ],
          [
           0.3333333333333333,
           "#9c179e"
          ],
          [
           0.4444444444444444,
           "#bd3786"
          ],
          [
           0.5555555555555556,
           "#d8576b"
          ],
          [
           0.6666666666666666,
           "#ed7953"
          ],
          [
           0.7777777777777778,
           "#fb9f3a"
          ],
          [
           0.8888888888888888,
           "#fdca26"
          ],
          [
           1,
           "#f0f921"
          ]
         ]
        },
        "legend": {
         "tracegroupgap": 0
        },
        "template": {
         "data": {
          "bar": [
           {
            "error_x": {
             "color": "#2a3f5f"
            },
            "error_y": {
             "color": "#2a3f5f"
            },
            "marker": {
             "line": {
              "color": "#E5ECF6",
              "width": 0.5
             },
             "pattern": {
              "fillmode": "overlay",
              "size": 10,
              "solidity": 0.2
             }
            },
            "type": "bar"
           }
          ],
          "barpolar": [
           {
            "marker": {
             "line": {
              "color": "#E5ECF6",
              "width": 0.5
             },
             "pattern": {
              "fillmode": "overlay",
              "size": 10,
              "solidity": 0.2
             }
            },
            "type": "barpolar"
           }
          ],
          "carpet": [
           {
            "aaxis": {
             "endlinecolor": "#2a3f5f",
             "gridcolor": "white",
             "linecolor": "white",
             "minorgridcolor": "white",
             "startlinecolor": "#2a3f5f"
            },
            "baxis": {
             "endlinecolor": "#2a3f5f",
             "gridcolor": "white",
             "linecolor": "white",
             "minorgridcolor": "white",
             "startlinecolor": "#2a3f5f"
            },
            "type": "carpet"
           }
          ],
          "choropleth": [
           {
            "colorbar": {
             "outlinewidth": 0,
             "ticks": ""
            },
            "type": "choropleth"
           }
          ],
          "contour": [
           {
            "colorbar": {
             "outlinewidth": 0,
             "ticks": ""
            },
            "colorscale": [
             [
              0,
              "#0d0887"
             ],
             [
              0.1111111111111111,
              "#46039f"
             ],
             [
              0.2222222222222222,
              "#7201a8"
             ],
             [
              0.3333333333333333,
              "#9c179e"
             ],
             [
              0.4444444444444444,
              "#bd3786"
             ],
             [
              0.5555555555555556,
              "#d8576b"
             ],
             [
              0.6666666666666666,
              "#ed7953"
             ],
             [
              0.7777777777777778,
              "#fb9f3a"
             ],
             [
              0.8888888888888888,
              "#fdca26"
             ],
             [
              1,
              "#f0f921"
             ]
            ],
            "type": "contour"
           }
          ],
          "contourcarpet": [
           {
            "colorbar": {
             "outlinewidth": 0,
             "ticks": ""
            },
            "type": "contourcarpet"
           }
          ],
          "heatmap": [
           {
            "colorbar": {
             "outlinewidth": 0,
             "ticks": ""
            },
            "colorscale": [
             [
              0,
              "#0d0887"
             ],
             [
              0.1111111111111111,
              "#46039f"
             ],
             [
              0.2222222222222222,
              "#7201a8"
             ],
             [
              0.3333333333333333,
              "#9c179e"
             ],
             [
              0.4444444444444444,
              "#bd3786"
             ],
             [
              0.5555555555555556,
              "#d8576b"
             ],
             [
              0.6666666666666666,
              "#ed7953"
             ],
             [
              0.7777777777777778,
              "#fb9f3a"
             ],
             [
              0.8888888888888888,
              "#fdca26"
             ],
             [
              1,
              "#f0f921"
             ]
            ],
            "type": "heatmap"
           }
          ],
          "heatmapgl": [
           {
            "colorbar": {
             "outlinewidth": 0,
             "ticks": ""
            },
            "colorscale": [
             [
              0,
              "#0d0887"
             ],
             [
              0.1111111111111111,
              "#46039f"
             ],
             [
              0.2222222222222222,
              "#7201a8"
             ],
             [
              0.3333333333333333,
              "#9c179e"
             ],
             [
              0.4444444444444444,
              "#bd3786"
             ],
             [
              0.5555555555555556,
              "#d8576b"
             ],
             [
              0.6666666666666666,
              "#ed7953"
             ],
             [
              0.7777777777777778,
              "#fb9f3a"
             ],
             [
              0.8888888888888888,
              "#fdca26"
             ],
             [
              1,
              "#f0f921"
             ]
            ],
            "type": "heatmapgl"
           }
          ],
          "histogram": [
           {
            "marker": {
             "pattern": {
              "fillmode": "overlay",
              "size": 10,
              "solidity": 0.2
             }
            },
            "type": "histogram"
           }
          ],
          "histogram2d": [
           {
            "colorbar": {
             "outlinewidth": 0,
             "ticks": ""
            },
            "colorscale": [
             [
              0,
              "#0d0887"
             ],
             [
              0.1111111111111111,
              "#46039f"
             ],
             [
              0.2222222222222222,
              "#7201a8"
             ],
             [
              0.3333333333333333,
              "#9c179e"
             ],
             [
              0.4444444444444444,
              "#bd3786"
             ],
             [
              0.5555555555555556,
              "#d8576b"
             ],
             [
              0.6666666666666666,
              "#ed7953"
             ],
             [
              0.7777777777777778,
              "#fb9f3a"
             ],
             [
              0.8888888888888888,
              "#fdca26"
             ],
             [
              1,
              "#f0f921"
             ]
            ],
            "type": "histogram2d"
           }
          ],
          "histogram2dcontour": [
           {
            "colorbar": {
             "outlinewidth": 0,
             "ticks": ""
            },
            "colorscale": [
             [
              0,
              "#0d0887"
             ],
             [
              0.1111111111111111,
              "#46039f"
             ],
             [
              0.2222222222222222,
              "#7201a8"
             ],
             [
              0.3333333333333333,
              "#9c179e"
             ],
             [
              0.4444444444444444,
              "#bd3786"
             ],
             [
              0.5555555555555556,
              "#d8576b"
             ],
             [
              0.6666666666666666,
              "#ed7953"
             ],
             [
              0.7777777777777778,
              "#fb9f3a"
             ],
             [
              0.8888888888888888,
              "#fdca26"
             ],
             [
              1,
              "#f0f921"
             ]
            ],
            "type": "histogram2dcontour"
           }
          ],
          "mesh3d": [
           {
            "colorbar": {
             "outlinewidth": 0,
             "ticks": ""
            },
            "type": "mesh3d"
           }
          ],
          "parcoords": [
           {
            "line": {
             "colorbar": {
              "outlinewidth": 0,
              "ticks": ""
             }
            },
            "type": "parcoords"
           }
          ],
          "pie": [
           {
            "automargin": true,
            "type": "pie"
           }
          ],
          "scatter": [
           {
            "fillpattern": {
             "fillmode": "overlay",
             "size": 10,
             "solidity": 0.2
            },
            "type": "scatter"
           }
          ],
          "scatter3d": [
           {
            "line": {
             "colorbar": {
              "outlinewidth": 0,
              "ticks": ""
             }
            },
            "marker": {
             "colorbar": {
              "outlinewidth": 0,
              "ticks": ""
             }
            },
            "type": "scatter3d"
           }
          ],
          "scattercarpet": [
           {
            "marker": {
             "colorbar": {
              "outlinewidth": 0,
              "ticks": ""
             }
            },
            "type": "scattercarpet"
           }
          ],
          "scattergeo": [
           {
            "marker": {
             "colorbar": {
              "outlinewidth": 0,
              "ticks": ""
             }
            },
            "type": "scattergeo"
           }
          ],
          "scattergl": [
           {
            "marker": {
             "colorbar": {
              "outlinewidth": 0,
              "ticks": ""
             }
            },
            "type": "scattergl"
           }
          ],
          "scattermapbox": [
           {
            "marker": {
             "colorbar": {
              "outlinewidth": 0,
              "ticks": ""
             }
            },
            "type": "scattermapbox"
           }
          ],
          "scatterpolar": [
           {
            "marker": {
             "colorbar": {
              "outlinewidth": 0,
              "ticks": ""
             }
            },
            "type": "scatterpolar"
           }
          ],
          "scatterpolargl": [
           {
            "marker": {
             "colorbar": {
              "outlinewidth": 0,
              "ticks": ""
             }
            },
            "type": "scatterpolargl"
           }
          ],
          "scatterternary": [
           {
            "marker": {
             "colorbar": {
              "outlinewidth": 0,
              "ticks": ""
             }
            },
            "type": "scatterternary"
           }
          ],
          "surface": [
           {
            "colorbar": {
             "outlinewidth": 0,
             "ticks": ""
            },
            "colorscale": [
             [
              0,
              "#0d0887"
             ],
             [
              0.1111111111111111,
              "#46039f"
             ],
             [
              0.2222222222222222,
              "#7201a8"
             ],
             [
              0.3333333333333333,
              "#9c179e"
             ],
             [
              0.4444444444444444,
              "#bd3786"
             ],
             [
              0.5555555555555556,
              "#d8576b"
             ],
             [
              0.6666666666666666,
              "#ed7953"
             ],
             [
              0.7777777777777778,
              "#fb9f3a"
             ],
             [
              0.8888888888888888,
              "#fdca26"
             ],
             [
              1,
              "#f0f921"
             ]
            ],
            "type": "surface"
           }
          ],
          "table": [
           {
            "cells": {
             "fill": {
              "color": "#EBF0F8"
             },
             "line": {
              "color": "white"
             }
            },
            "header": {
             "fill": {
              "color": "#C8D4E3"
             },
             "line": {
              "color": "white"
             }
            },
            "type": "table"
           }
          ]
         },
         "layout": {
          "annotationdefaults": {
           "arrowcolor": "#2a3f5f",
           "arrowhead": 0,
           "arrowwidth": 1
          },
          "autotypenumbers": "strict",
          "coloraxis": {
           "colorbar": {
            "outlinewidth": 0,
            "ticks": ""
           }
          },
          "colorscale": {
           "diverging": [
            [
             0,
             "#8e0152"
            ],
            [
             0.1,
             "#c51b7d"
            ],
            [
             0.2,
             "#de77ae"
            ],
            [
             0.3,
             "#f1b6da"
            ],
            [
             0.4,
             "#fde0ef"
            ],
            [
             0.5,
             "#f7f7f7"
            ],
            [
             0.6,
             "#e6f5d0"
            ],
            [
             0.7,
             "#b8e186"
            ],
            [
             0.8,
             "#7fbc41"
            ],
            [
             0.9,
             "#4d9221"
            ],
            [
             1,
             "#276419"
            ]
           ],
           "sequential": [
            [
             0,
             "#0d0887"
            ],
            [
             0.1111111111111111,
             "#46039f"
            ],
            [
             0.2222222222222222,
             "#7201a8"
            ],
            [
             0.3333333333333333,
             "#9c179e"
            ],
            [
             0.4444444444444444,
             "#bd3786"
            ],
            [
             0.5555555555555556,
             "#d8576b"
            ],
            [
             0.6666666666666666,
             "#ed7953"
            ],
            [
             0.7777777777777778,
             "#fb9f3a"
            ],
            [
             0.8888888888888888,
             "#fdca26"
            ],
            [
             1,
             "#f0f921"
            ]
           ],
           "sequentialminus": [
            [
             0,
             "#0d0887"
            ],
            [
             0.1111111111111111,
             "#46039f"
            ],
            [
             0.2222222222222222,
             "#7201a8"
            ],
            [
             0.3333333333333333,
             "#9c179e"
            ],
            [
             0.4444444444444444,
             "#bd3786"
            ],
            [
             0.5555555555555556,
             "#d8576b"
            ],
            [
             0.6666666666666666,
             "#ed7953"
            ],
            [
             0.7777777777777778,
             "#fb9f3a"
            ],
            [
             0.8888888888888888,
             "#fdca26"
            ],
            [
             1,
             "#f0f921"
            ]
           ]
          },
          "colorway": [
           "#636efa",
           "#EF553B",
           "#00cc96",
           "#ab63fa",
           "#FFA15A",
           "#19d3f3",
           "#FF6692",
           "#B6E880",
           "#FF97FF",
           "#FECB52"
          ],
          "font": {
           "color": "#2a3f5f"
          },
          "geo": {
           "bgcolor": "white",
           "lakecolor": "white",
           "landcolor": "#E5ECF6",
           "showlakes": true,
           "showland": true,
           "subunitcolor": "white"
          },
          "hoverlabel": {
           "align": "left"
          },
          "hovermode": "closest",
          "mapbox": {
           "style": "light"
          },
          "paper_bgcolor": "white",
          "plot_bgcolor": "#E5ECF6",
          "polar": {
           "angularaxis": {
            "gridcolor": "white",
            "linecolor": "white",
            "ticks": ""
           },
           "bgcolor": "#E5ECF6",
           "radialaxis": {
            "gridcolor": "white",
            "linecolor": "white",
            "ticks": ""
           }
          },
          "scene": {
           "xaxis": {
            "backgroundcolor": "#E5ECF6",
            "gridcolor": "white",
            "gridwidth": 2,
            "linecolor": "white",
            "showbackground": true,
            "ticks": "",
            "zerolinecolor": "white"
           },
           "yaxis": {
            "backgroundcolor": "#E5ECF6",
            "gridcolor": "white",
            "gridwidth": 2,
            "linecolor": "white",
            "showbackground": true,
            "ticks": "",
            "zerolinecolor": "white"
           },
           "zaxis": {
            "backgroundcolor": "#E5ECF6",
            "gridcolor": "white",
            "gridwidth": 2,
            "linecolor": "white",
            "showbackground": true,
            "ticks": "",
            "zerolinecolor": "white"
           }
          },
          "shapedefaults": {
           "line": {
            "color": "#2a3f5f"
           }
          },
          "ternary": {
           "aaxis": {
            "gridcolor": "white",
            "linecolor": "white",
            "ticks": ""
           },
           "baxis": {
            "gridcolor": "white",
            "linecolor": "white",
            "ticks": ""
           },
           "bgcolor": "#E5ECF6",
           "caxis": {
            "gridcolor": "white",
            "linecolor": "white",
            "ticks": ""
           }
          },
          "title": {
           "x": 0.05
          },
          "xaxis": {
           "automargin": true,
           "gridcolor": "white",
           "linecolor": "white",
           "ticks": "",
           "title": {
            "standoff": 15
           },
           "zerolinecolor": "white",
           "zerolinewidth": 2
          },
          "yaxis": {
           "automargin": true,
           "gridcolor": "white",
           "linecolor": "white",
           "ticks": "",
           "title": {
            "standoff": 15
           },
           "zerolinecolor": "white",
           "zerolinewidth": 2
          }
         }
        },
        "title": {
         "text": "Pre-Tax Average Income After Cost of Living Expenses in US States"
        },
        "xaxis": {
         "anchor": "y",
         "domain": [
          0,
          1
         ],
         "tickangle": -45,
         "title": {
          "text": "state"
         }
        },
        "yaxis": {
         "anchor": "x",
         "domain": [
          0,
          1
         ],
         "title": {
          "text": "Average Salary"
         }
        }
       }
      },
      "text/html": [
       "<div>                            <div id=\"b3fec31d-156b-4788-875f-60418898e6cc\" class=\"plotly-graph-div\" style=\"height:525px; width:100%;\"></div>            <script type=\"text/javascript\">                require([\"plotly\"], function(Plotly) {                    window.PLOTLYENV=window.PLOTLYENV || {};                                    if (document.getElementById(\"b3fec31d-156b-4788-875f-60418898e6cc\")) {                    Plotly.newPlot(                        \"b3fec31d-156b-4788-875f-60418898e6cc\",                        [{\"alignmentgroup\":\"True\",\"hovertemplate\":\"state=%{x}<br>Average Salary=%{marker.color}<extra></extra>\",\"legendgroup\":\"\",\"marker\":{\"color\":[65090.99894013986,36549.03840603773,35390.39693999999,33960.785858557814,33191.30054719999,30674.517035625,29640.65197621072,24701.12378916409,21398.03658527129,17903.050154375,17752.43810642857,17513.900122758612,17493.160692121208,16714.501341084062,15132.845639999983,14594.688489523818,14578.47915848485,13001.487544823249,12727.653898735633,10573.537620503834,10029.668498730156,361.6206239999883,-5337.619481666668],\"coloraxis\":\"coloraxis\",\"pattern\":{\"shape\":\"\"}},\"name\":\"\",\"offsetgroup\":\"\",\"orientation\":\"v\",\"showlegend\":false,\"textposition\":\"auto\",\"x\":[\"WA\",\"GA\",\"CA\",\"TX\",\"NC\",\"CO\",\"NY\",\"IL\",\"VA\",\"LA\",\"MD\",\"MN\",\"IA\",\"PA\",\"UT\",\"NJ\",\"OH\",\"FL\",\"MO\",\"MI\",\"MA\",\"AZ\",\"WI\"],\"xaxis\":\"x\",\"y\":[65090.99894013986,36549.03840603773,35390.39693999999,33960.785858557814,33191.30054719999,30674.517035625,29640.65197621072,24701.12378916409,21398.03658527129,17903.050154375,17752.43810642857,17513.900122758612,17493.160692121208,16714.501341084062,15132.845639999983,14594.688489523818,14578.47915848485,13001.487544823249,12727.653898735633,10573.537620503834,10029.668498730156,361.6206239999883,-5337.619481666668],\"yaxis\":\"y\",\"type\":\"bar\"}],                        {\"template\":{\"data\":{\"histogram2dcontour\":[{\"type\":\"histogram2dcontour\",\"colorbar\":{\"outlinewidth\":0,\"ticks\":\"\"},\"colorscale\":[[0.0,\"#0d0887\"],[0.1111111111111111,\"#46039f\"],[0.2222222222222222,\"#7201a8\"],[0.3333333333333333,\"#9c179e\"],[0.4444444444444444,\"#bd3786\"],[0.5555555555555556,\"#d8576b\"],[0.6666666666666666,\"#ed7953\"],[0.7777777777777778,\"#fb9f3a\"],[0.8888888888888888,\"#fdca26\"],[1.0,\"#f0f921\"]]}],\"choropleth\":[{\"type\":\"choropleth\",\"colorbar\":{\"outlinewidth\":0,\"ticks\":\"\"}}],\"histogram2d\":[{\"type\":\"histogram2d\",\"colorbar\":{\"outlinewidth\":0,\"ticks\":\"\"},\"colorscale\":[[0.0,\"#0d0887\"],[0.1111111111111111,\"#46039f\"],[0.2222222222222222,\"#7201a8\"],[0.3333333333333333,\"#9c179e\"],[0.4444444444444444,\"#bd3786\"],[0.5555555555555556,\"#d8576b\"],[0.6666666666666666,\"#ed7953\"],[0.7777777777777778,\"#fb9f3a\"],[0.8888888888888888,\"#fdca26\"],[1.0,\"#f0f921\"]]}],\"heatmap\":[{\"type\":\"heatmap\",\"colorbar\":{\"outlinewidth\":0,\"ticks\":\"\"},\"colorscale\":[[0.0,\"#0d0887\"],[0.1111111111111111,\"#46039f\"],[0.2222222222222222,\"#7201a8\"],[0.3333333333333333,\"#9c179e\"],[0.4444444444444444,\"#bd3786\"],[0.5555555555555556,\"#d8576b\"],[0.6666666666666666,\"#ed7953\"],[0.7777777777777778,\"#fb9f3a\"],[0.8888888888888888,\"#fdca26\"],[1.0,\"#f0f921\"]]}],\"heatmapgl\":[{\"type\":\"heatmapgl\",\"colorbar\":{\"outlinewidth\":0,\"ticks\":\"\"},\"colorscale\":[[0.0,\"#0d0887\"],[0.1111111111111111,\"#46039f\"],[0.2222222222222222,\"#7201a8\"],[0.3333333333333333,\"#9c179e\"],[0.4444444444444444,\"#bd3786\"],[0.5555555555555556,\"#d8576b\"],[0.6666666666666666,\"#ed7953\"],[0.7777777777777778,\"#fb9f3a\"],[0.8888888888888888,\"#fdca26\"],[1.0,\"#f0f921\"]]}],\"contourcarpet\":[{\"type\":\"contourcarpet\",\"colorbar\":{\"outlinewidth\":0,\"ticks\":\"\"}}],\"contour\":[{\"type\":\"contour\",\"colorbar\":{\"outlinewidth\":0,\"ticks\":\"\"},\"colorscale\":[[0.0,\"#0d0887\"],[0.1111111111111111,\"#46039f\"],[0.2222222222222222,\"#7201a8\"],[0.3333333333333333,\"#9c179e\"],[0.4444444444444444,\"#bd3786\"],[0.5555555555555556,\"#d8576b\"],[0.6666666666666666,\"#ed7953\"],[0.7777777777777778,\"#fb9f3a\"],[0.8888888888888888,\"#fdca26\"],[1.0,\"#f0f921\"]]}],\"surface\":[{\"type\":\"surface\",\"colorbar\":{\"outlinewidth\":0,\"ticks\":\"\"},\"colorscale\":[[0.0,\"#0d0887\"],[0.1111111111111111,\"#46039f\"],[0.2222222222222222,\"#7201a8\"],[0.3333333333333333,\"#9c179e\"],[0.4444444444444444,\"#bd3786\"],[0.5555555555555556,\"#d8576b\"],[0.6666666666666666,\"#ed7953\"],[0.7777777777777778,\"#fb9f3a\"],[0.8888888888888888,\"#fdca26\"],[1.0,\"#f0f921\"]]}],\"mesh3d\":[{\"type\":\"mesh3d\",\"colorbar\":{\"outlinewidth\":0,\"ticks\":\"\"}}],\"scatter\":[{\"fillpattern\":{\"fillmode\":\"overlay\",\"size\":10,\"solidity\":0.2},\"type\":\"scatter\"}],\"parcoords\":[{\"type\":\"parcoords\",\"line\":{\"colorbar\":{\"outlinewidth\":0,\"ticks\":\"\"}}}],\"scatterpolargl\":[{\"type\":\"scatterpolargl\",\"marker\":{\"colorbar\":{\"outlinewidth\":0,\"ticks\":\"\"}}}],\"bar\":[{\"error_x\":{\"color\":\"#2a3f5f\"},\"error_y\":{\"color\":\"#2a3f5f\"},\"marker\":{\"line\":{\"color\":\"#E5ECF6\",\"width\":0.5},\"pattern\":{\"fillmode\":\"overlay\",\"size\":10,\"solidity\":0.2}},\"type\":\"bar\"}],\"scattergeo\":[{\"type\":\"scattergeo\",\"marker\":{\"colorbar\":{\"outlinewidth\":0,\"ticks\":\"\"}}}],\"scatterpolar\":[{\"type\":\"scatterpolar\",\"marker\":{\"colorbar\":{\"outlinewidth\":0,\"ticks\":\"\"}}}],\"histogram\":[{\"marker\":{\"pattern\":{\"fillmode\":\"overlay\",\"size\":10,\"solidity\":0.2}},\"type\":\"histogram\"}],\"scattergl\":[{\"type\":\"scattergl\",\"marker\":{\"colorbar\":{\"outlinewidth\":0,\"ticks\":\"\"}}}],\"scatter3d\":[{\"type\":\"scatter3d\",\"line\":{\"colorbar\":{\"outlinewidth\":0,\"ticks\":\"\"}},\"marker\":{\"colorbar\":{\"outlinewidth\":0,\"ticks\":\"\"}}}],\"scattermapbox\":[{\"type\":\"scattermapbox\",\"marker\":{\"colorbar\":{\"outlinewidth\":0,\"ticks\":\"\"}}}],\"scatterternary\":[{\"type\":\"scatterternary\",\"marker\":{\"colorbar\":{\"outlinewidth\":0,\"ticks\":\"\"}}}],\"scattercarpet\":[{\"type\":\"scattercarpet\",\"marker\":{\"colorbar\":{\"outlinewidth\":0,\"ticks\":\"\"}}}],\"carpet\":[{\"aaxis\":{\"endlinecolor\":\"#2a3f5f\",\"gridcolor\":\"white\",\"linecolor\":\"white\",\"minorgridcolor\":\"white\",\"startlinecolor\":\"#2a3f5f\"},\"baxis\":{\"endlinecolor\":\"#2a3f5f\",\"gridcolor\":\"white\",\"linecolor\":\"white\",\"minorgridcolor\":\"white\",\"startlinecolor\":\"#2a3f5f\"},\"type\":\"carpet\"}],\"table\":[{\"cells\":{\"fill\":{\"color\":\"#EBF0F8\"},\"line\":{\"color\":\"white\"}},\"header\":{\"fill\":{\"color\":\"#C8D4E3\"},\"line\":{\"color\":\"white\"}},\"type\":\"table\"}],\"barpolar\":[{\"marker\":{\"line\":{\"color\":\"#E5ECF6\",\"width\":0.5},\"pattern\":{\"fillmode\":\"overlay\",\"size\":10,\"solidity\":0.2}},\"type\":\"barpolar\"}],\"pie\":[{\"automargin\":true,\"type\":\"pie\"}]},\"layout\":{\"autotypenumbers\":\"strict\",\"colorway\":[\"#636efa\",\"#EF553B\",\"#00cc96\",\"#ab63fa\",\"#FFA15A\",\"#19d3f3\",\"#FF6692\",\"#B6E880\",\"#FF97FF\",\"#FECB52\"],\"font\":{\"color\":\"#2a3f5f\"},\"hovermode\":\"closest\",\"hoverlabel\":{\"align\":\"left\"},\"paper_bgcolor\":\"white\",\"plot_bgcolor\":\"#E5ECF6\",\"polar\":{\"bgcolor\":\"#E5ECF6\",\"angularaxis\":{\"gridcolor\":\"white\",\"linecolor\":\"white\",\"ticks\":\"\"},\"radialaxis\":{\"gridcolor\":\"white\",\"linecolor\":\"white\",\"ticks\":\"\"}},\"ternary\":{\"bgcolor\":\"#E5ECF6\",\"aaxis\":{\"gridcolor\":\"white\",\"linecolor\":\"white\",\"ticks\":\"\"},\"baxis\":{\"gridcolor\":\"white\",\"linecolor\":\"white\",\"ticks\":\"\"},\"caxis\":{\"gridcolor\":\"white\",\"linecolor\":\"white\",\"ticks\":\"\"}},\"coloraxis\":{\"colorbar\":{\"outlinewidth\":0,\"ticks\":\"\"}},\"colorscale\":{\"sequential\":[[0.0,\"#0d0887\"],[0.1111111111111111,\"#46039f\"],[0.2222222222222222,\"#7201a8\"],[0.3333333333333333,\"#9c179e\"],[0.4444444444444444,\"#bd3786\"],[0.5555555555555556,\"#d8576b\"],[0.6666666666666666,\"#ed7953\"],[0.7777777777777778,\"#fb9f3a\"],[0.8888888888888888,\"#fdca26\"],[1.0,\"#f0f921\"]],\"sequentialminus\":[[0.0,\"#0d0887\"],[0.1111111111111111,\"#46039f\"],[0.2222222222222222,\"#7201a8\"],[0.3333333333333333,\"#9c179e\"],[0.4444444444444444,\"#bd3786\"],[0.5555555555555556,\"#d8576b\"],[0.6666666666666666,\"#ed7953\"],[0.7777777777777778,\"#fb9f3a\"],[0.8888888888888888,\"#fdca26\"],[1.0,\"#f0f921\"]],\"diverging\":[[0,\"#8e0152\"],[0.1,\"#c51b7d\"],[0.2,\"#de77ae\"],[0.3,\"#f1b6da\"],[0.4,\"#fde0ef\"],[0.5,\"#f7f7f7\"],[0.6,\"#e6f5d0\"],[0.7,\"#b8e186\"],[0.8,\"#7fbc41\"],[0.9,\"#4d9221\"],[1,\"#276419\"]]},\"xaxis\":{\"gridcolor\":\"white\",\"linecolor\":\"white\",\"ticks\":\"\",\"title\":{\"standoff\":15},\"zerolinecolor\":\"white\",\"automargin\":true,\"zerolinewidth\":2},\"yaxis\":{\"gridcolor\":\"white\",\"linecolor\":\"white\",\"ticks\":\"\",\"title\":{\"standoff\":15},\"zerolinecolor\":\"white\",\"automargin\":true,\"zerolinewidth\":2},\"scene\":{\"xaxis\":{\"backgroundcolor\":\"#E5ECF6\",\"gridcolor\":\"white\",\"linecolor\":\"white\",\"showbackground\":true,\"ticks\":\"\",\"zerolinecolor\":\"white\",\"gridwidth\":2},\"yaxis\":{\"backgroundcolor\":\"#E5ECF6\",\"gridcolor\":\"white\",\"linecolor\":\"white\",\"showbackground\":true,\"ticks\":\"\",\"zerolinecolor\":\"white\",\"gridwidth\":2},\"zaxis\":{\"backgroundcolor\":\"#E5ECF6\",\"gridcolor\":\"white\",\"linecolor\":\"white\",\"showbackground\":true,\"ticks\":\"\",\"zerolinecolor\":\"white\",\"gridwidth\":2}},\"shapedefaults\":{\"line\":{\"color\":\"#2a3f5f\"}},\"annotationdefaults\":{\"arrowcolor\":\"#2a3f5f\",\"arrowhead\":0,\"arrowwidth\":1},\"geo\":{\"bgcolor\":\"white\",\"landcolor\":\"#E5ECF6\",\"subunitcolor\":\"white\",\"showland\":true,\"showlakes\":true,\"lakecolor\":\"white\"},\"title\":{\"x\":0.05},\"mapbox\":{\"style\":\"light\"}}},\"xaxis\":{\"anchor\":\"y\",\"domain\":[0.0,1.0],\"title\":{\"text\":\"state\"},\"tickangle\":-45},\"yaxis\":{\"anchor\":\"x\",\"domain\":[0.0,1.0],\"title\":{\"text\":\"Average Salary\"}},\"coloraxis\":{\"colorbar\":{\"title\":{\"text\":\"Average Salary\"}},\"colorscale\":[[0.0,\"#0d0887\"],[0.1111111111111111,\"#46039f\"],[0.2222222222222222,\"#7201a8\"],[0.3333333333333333,\"#9c179e\"],[0.4444444444444444,\"#bd3786\"],[0.5555555555555556,\"#d8576b\"],[0.6666666666666666,\"#ed7953\"],[0.7777777777777778,\"#fb9f3a\"],[0.8888888888888888,\"#fdca26\"],[1.0,\"#f0f921\"]]},\"legend\":{\"tracegroupgap\":0},\"title\":{\"text\":\"Pre-Tax Average Income After Cost of Living Expenses in US States\"},\"barmode\":\"relative\"},                        {\"responsive\": true}                    ).then(function(){\n",
       "                            \n",
       "var gd = document.getElementById('b3fec31d-156b-4788-875f-60418898e6cc');\n",
       "var x = new MutationObserver(function (mutations, observer) {{\n",
       "        var display = window.getComputedStyle(gd).display;\n",
       "        if (!display || display === 'none') {{\n",
       "            console.log([gd, 'removed!']);\n",
       "            Plotly.purge(gd);\n",
       "            observer.disconnect();\n",
       "        }}\n",
       "}});\n",
       "\n",
       "// Listen for the removal of the full notebook cells\n",
       "var notebookContainer = gd.closest('#notebook-container');\n",
       "if (notebookContainer) {{\n",
       "    x.observe(notebookContainer, {childList: true});\n",
       "}}\n",
       "\n",
       "// Listen for the clearing of the current output cell\n",
       "var outputEl = gd.closest('.output');\n",
       "if (outputEl) {{\n",
       "    x.observe(outputEl, {childList: true});\n",
       "}}\n",
       "\n",
       "                        })                };                });            </script>        </div>"
      ]
     },
     "metadata": {},
     "output_type": "display_data"
    }
   ],
   "source": [
    "df = df.sort_values(by='avg_salary_after_COL', ascending=False)\n",
    "df=df[df.state!='Remote']\n",
    "df=df[df.observations>=5]\n",
    "fig = px.bar(df,\n",
    "             x='state',\n",
    "             y='avg_salary_after_COL',\n",
    "             title='Pre-Tax Average Income After Cost of Living Expenses in US States',\n",
    "             labels={'avg_salary_after_COL': 'Average Salary', 'Unfiltered_State': 'State'},\n",
    "             color='avg_salary_after_COL')\n",
    "fig.update_layout(xaxis_tickangle=-45)\n",
    "fig.show()"
   ]
  },
  {
   "cell_type": "code",
   "execution_count": 82,
   "id": "8b6cf336",
   "metadata": {},
   "outputs": [
    {
     "data": {
      "application/vnd.plotly.v1+json": {
       "config": {
        "plotlyServerURL": "https://plot.ly"
       },
       "data": [
        {
         "alignmentgroup": "True",
         "hovertemplate": "state=%{x}<br>Average Salary=%{marker.color}<extra></extra>",
         "legendgroup": "",
         "marker": {
          "color": [
           53068.9382,
           39568.8904,
           38526.8536,
           33058.792400000006,
           32811.81080000001,
           29765.2206,
           26281.939199999997,
           22938.120599999995,
           22501.5214,
           17405.303799999994,
           17384.619999999995,
           16971.026400000002,
           16752.44380000001,
           15557.868000000002,
           11677.379,
           10265.915799999988,
           9023.752999999995,
           8229.91339999999,
           6044.411800000002,
           4088.1872,
           -989.3456000000006,
           -12760.3088,
           -19290.1504
          ],
          "coloraxis": "coloraxis",
          "pattern": {
           "shape": ""
          }
         },
         "name": "",
         "offsetgroup": "",
         "orientation": "v",
         "showlegend": false,
         "textposition": "auto",
         "type": "bar",
         "x": [
          "WA",
          "GA",
          "CA",
          "TX",
          "NC",
          "NY",
          "IL",
          "CO",
          "VA",
          "FL",
          "MD",
          "IA",
          "PA",
          "MO",
          "UT",
          "MN",
          "NJ",
          "LA",
          "MA",
          "OH",
          "MI",
          "AZ",
          "WI"
         ],
         "xaxis": "x",
         "y": [
          53068.9382,
          39568.8904,
          38526.8536,
          33058.792400000006,
          32811.81080000001,
          29765.2206,
          26281.939199999997,
          22938.120599999995,
          22501.5214,
          17405.303799999994,
          17384.619999999995,
          16971.026400000002,
          16752.44380000001,
          15557.868000000002,
          11677.379,
          10265.915799999988,
          9023.752999999995,
          8229.91339999999,
          6044.411800000002,
          4088.1872,
          -989.3456000000006,
          -12760.3088,
          -19290.1504
         ],
         "yaxis": "y"
        }
       ],
       "layout": {
        "barmode": "relative",
        "coloraxis": {
         "colorbar": {
          "title": {
           "text": "Average Salary"
          }
         },
         "colorscale": [
          [
           0,
           "#0d0887"
          ],
          [
           0.1111111111111111,
           "#46039f"
          ],
          [
           0.2222222222222222,
           "#7201a8"
          ],
          [
           0.3333333333333333,
           "#9c179e"
          ],
          [
           0.4444444444444444,
           "#bd3786"
          ],
          [
           0.5555555555555556,
           "#d8576b"
          ],
          [
           0.6666666666666666,
           "#ed7953"
          ],
          [
           0.7777777777777778,
           "#fb9f3a"
          ],
          [
           0.8888888888888888,
           "#fdca26"
          ],
          [
           1,
           "#f0f921"
          ]
         ]
        },
        "legend": {
         "tracegroupgap": 0
        },
        "template": {
         "data": {
          "bar": [
           {
            "error_x": {
             "color": "#2a3f5f"
            },
            "error_y": {
             "color": "#2a3f5f"
            },
            "marker": {
             "line": {
              "color": "#E5ECF6",
              "width": 0.5
             },
             "pattern": {
              "fillmode": "overlay",
              "size": 10,
              "solidity": 0.2
             }
            },
            "type": "bar"
           }
          ],
          "barpolar": [
           {
            "marker": {
             "line": {
              "color": "#E5ECF6",
              "width": 0.5
             },
             "pattern": {
              "fillmode": "overlay",
              "size": 10,
              "solidity": 0.2
             }
            },
            "type": "barpolar"
           }
          ],
          "carpet": [
           {
            "aaxis": {
             "endlinecolor": "#2a3f5f",
             "gridcolor": "white",
             "linecolor": "white",
             "minorgridcolor": "white",
             "startlinecolor": "#2a3f5f"
            },
            "baxis": {
             "endlinecolor": "#2a3f5f",
             "gridcolor": "white",
             "linecolor": "white",
             "minorgridcolor": "white",
             "startlinecolor": "#2a3f5f"
            },
            "type": "carpet"
           }
          ],
          "choropleth": [
           {
            "colorbar": {
             "outlinewidth": 0,
             "ticks": ""
            },
            "type": "choropleth"
           }
          ],
          "contour": [
           {
            "colorbar": {
             "outlinewidth": 0,
             "ticks": ""
            },
            "colorscale": [
             [
              0,
              "#0d0887"
             ],
             [
              0.1111111111111111,
              "#46039f"
             ],
             [
              0.2222222222222222,
              "#7201a8"
             ],
             [
              0.3333333333333333,
              "#9c179e"
             ],
             [
              0.4444444444444444,
              "#bd3786"
             ],
             [
              0.5555555555555556,
              "#d8576b"
             ],
             [
              0.6666666666666666,
              "#ed7953"
             ],
             [
              0.7777777777777778,
              "#fb9f3a"
             ],
             [
              0.8888888888888888,
              "#fdca26"
             ],
             [
              1,
              "#f0f921"
             ]
            ],
            "type": "contour"
           }
          ],
          "contourcarpet": [
           {
            "colorbar": {
             "outlinewidth": 0,
             "ticks": ""
            },
            "type": "contourcarpet"
           }
          ],
          "heatmap": [
           {
            "colorbar": {
             "outlinewidth": 0,
             "ticks": ""
            },
            "colorscale": [
             [
              0,
              "#0d0887"
             ],
             [
              0.1111111111111111,
              "#46039f"
             ],
             [
              0.2222222222222222,
              "#7201a8"
             ],
             [
              0.3333333333333333,
              "#9c179e"
             ],
             [
              0.4444444444444444,
              "#bd3786"
             ],
             [
              0.5555555555555556,
              "#d8576b"
             ],
             [
              0.6666666666666666,
              "#ed7953"
             ],
             [
              0.7777777777777778,
              "#fb9f3a"
             ],
             [
              0.8888888888888888,
              "#fdca26"
             ],
             [
              1,
              "#f0f921"
             ]
            ],
            "type": "heatmap"
           }
          ],
          "heatmapgl": [
           {
            "colorbar": {
             "outlinewidth": 0,
             "ticks": ""
            },
            "colorscale": [
             [
              0,
              "#0d0887"
             ],
             [
              0.1111111111111111,
              "#46039f"
             ],
             [
              0.2222222222222222,
              "#7201a8"
             ],
             [
              0.3333333333333333,
              "#9c179e"
             ],
             [
              0.4444444444444444,
              "#bd3786"
             ],
             [
              0.5555555555555556,
              "#d8576b"
             ],
             [
              0.6666666666666666,
              "#ed7953"
             ],
             [
              0.7777777777777778,
              "#fb9f3a"
             ],
             [
              0.8888888888888888,
              "#fdca26"
             ],
             [
              1,
              "#f0f921"
             ]
            ],
            "type": "heatmapgl"
           }
          ],
          "histogram": [
           {
            "marker": {
             "pattern": {
              "fillmode": "overlay",
              "size": 10,
              "solidity": 0.2
             }
            },
            "type": "histogram"
           }
          ],
          "histogram2d": [
           {
            "colorbar": {
             "outlinewidth": 0,
             "ticks": ""
            },
            "colorscale": [
             [
              0,
              "#0d0887"
             ],
             [
              0.1111111111111111,
              "#46039f"
             ],
             [
              0.2222222222222222,
              "#7201a8"
             ],
             [
              0.3333333333333333,
              "#9c179e"
             ],
             [
              0.4444444444444444,
              "#bd3786"
             ],
             [
              0.5555555555555556,
              "#d8576b"
             ],
             [
              0.6666666666666666,
              "#ed7953"
             ],
             [
              0.7777777777777778,
              "#fb9f3a"
             ],
             [
              0.8888888888888888,
              "#fdca26"
             ],
             [
              1,
              "#f0f921"
             ]
            ],
            "type": "histogram2d"
           }
          ],
          "histogram2dcontour": [
           {
            "colorbar": {
             "outlinewidth": 0,
             "ticks": ""
            },
            "colorscale": [
             [
              0,
              "#0d0887"
             ],
             [
              0.1111111111111111,
              "#46039f"
             ],
             [
              0.2222222222222222,
              "#7201a8"
             ],
             [
              0.3333333333333333,
              "#9c179e"
             ],
             [
              0.4444444444444444,
              "#bd3786"
             ],
             [
              0.5555555555555556,
              "#d8576b"
             ],
             [
              0.6666666666666666,
              "#ed7953"
             ],
             [
              0.7777777777777778,
              "#fb9f3a"
             ],
             [
              0.8888888888888888,
              "#fdca26"
             ],
             [
              1,
              "#f0f921"
             ]
            ],
            "type": "histogram2dcontour"
           }
          ],
          "mesh3d": [
           {
            "colorbar": {
             "outlinewidth": 0,
             "ticks": ""
            },
            "type": "mesh3d"
           }
          ],
          "parcoords": [
           {
            "line": {
             "colorbar": {
              "outlinewidth": 0,
              "ticks": ""
             }
            },
            "type": "parcoords"
           }
          ],
          "pie": [
           {
            "automargin": true,
            "type": "pie"
           }
          ],
          "scatter": [
           {
            "fillpattern": {
             "fillmode": "overlay",
             "size": 10,
             "solidity": 0.2
            },
            "type": "scatter"
           }
          ],
          "scatter3d": [
           {
            "line": {
             "colorbar": {
              "outlinewidth": 0,
              "ticks": ""
             }
            },
            "marker": {
             "colorbar": {
              "outlinewidth": 0,
              "ticks": ""
             }
            },
            "type": "scatter3d"
           }
          ],
          "scattercarpet": [
           {
            "marker": {
             "colorbar": {
              "outlinewidth": 0,
              "ticks": ""
             }
            },
            "type": "scattercarpet"
           }
          ],
          "scattergeo": [
           {
            "marker": {
             "colorbar": {
              "outlinewidth": 0,
              "ticks": ""
             }
            },
            "type": "scattergeo"
           }
          ],
          "scattergl": [
           {
            "marker": {
             "colorbar": {
              "outlinewidth": 0,
              "ticks": ""
             }
            },
            "type": "scattergl"
           }
          ],
          "scattermapbox": [
           {
            "marker": {
             "colorbar": {
              "outlinewidth": 0,
              "ticks": ""
             }
            },
            "type": "scattermapbox"
           }
          ],
          "scatterpolar": [
           {
            "marker": {
             "colorbar": {
              "outlinewidth": 0,
              "ticks": ""
             }
            },
            "type": "scatterpolar"
           }
          ],
          "scatterpolargl": [
           {
            "marker": {
             "colorbar": {
              "outlinewidth": 0,
              "ticks": ""
             }
            },
            "type": "scatterpolargl"
           }
          ],
          "scatterternary": [
           {
            "marker": {
             "colorbar": {
              "outlinewidth": 0,
              "ticks": ""
             }
            },
            "type": "scatterternary"
           }
          ],
          "surface": [
           {
            "colorbar": {
             "outlinewidth": 0,
             "ticks": ""
            },
            "colorscale": [
             [
              0,
              "#0d0887"
             ],
             [
              0.1111111111111111,
              "#46039f"
             ],
             [
              0.2222222222222222,
              "#7201a8"
             ],
             [
              0.3333333333333333,
              "#9c179e"
             ],
             [
              0.4444444444444444,
              "#bd3786"
             ],
             [
              0.5555555555555556,
              "#d8576b"
             ],
             [
              0.6666666666666666,
              "#ed7953"
             ],
             [
              0.7777777777777778,
              "#fb9f3a"
             ],
             [
              0.8888888888888888,
              "#fdca26"
             ],
             [
              1,
              "#f0f921"
             ]
            ],
            "type": "surface"
           }
          ],
          "table": [
           {
            "cells": {
             "fill": {
              "color": "#EBF0F8"
             },
             "line": {
              "color": "white"
             }
            },
            "header": {
             "fill": {
              "color": "#C8D4E3"
             },
             "line": {
              "color": "white"
             }
            },
            "type": "table"
           }
          ]
         },
         "layout": {
          "annotationdefaults": {
           "arrowcolor": "#2a3f5f",
           "arrowhead": 0,
           "arrowwidth": 1
          },
          "autotypenumbers": "strict",
          "coloraxis": {
           "colorbar": {
            "outlinewidth": 0,
            "ticks": ""
           }
          },
          "colorscale": {
           "diverging": [
            [
             0,
             "#8e0152"
            ],
            [
             0.1,
             "#c51b7d"
            ],
            [
             0.2,
             "#de77ae"
            ],
            [
             0.3,
             "#f1b6da"
            ],
            [
             0.4,
             "#fde0ef"
            ],
            [
             0.5,
             "#f7f7f7"
            ],
            [
             0.6,
             "#e6f5d0"
            ],
            [
             0.7,
             "#b8e186"
            ],
            [
             0.8,
             "#7fbc41"
            ],
            [
             0.9,
             "#4d9221"
            ],
            [
             1,
             "#276419"
            ]
           ],
           "sequential": [
            [
             0,
             "#0d0887"
            ],
            [
             0.1111111111111111,
             "#46039f"
            ],
            [
             0.2222222222222222,
             "#7201a8"
            ],
            [
             0.3333333333333333,
             "#9c179e"
            ],
            [
             0.4444444444444444,
             "#bd3786"
            ],
            [
             0.5555555555555556,
             "#d8576b"
            ],
            [
             0.6666666666666666,
             "#ed7953"
            ],
            [
             0.7777777777777778,
             "#fb9f3a"
            ],
            [
             0.8888888888888888,
             "#fdca26"
            ],
            [
             1,
             "#f0f921"
            ]
           ],
           "sequentialminus": [
            [
             0,
             "#0d0887"
            ],
            [
             0.1111111111111111,
             "#46039f"
            ],
            [
             0.2222222222222222,
             "#7201a8"
            ],
            [
             0.3333333333333333,
             "#9c179e"
            ],
            [
             0.4444444444444444,
             "#bd3786"
            ],
            [
             0.5555555555555556,
             "#d8576b"
            ],
            [
             0.6666666666666666,
             "#ed7953"
            ],
            [
             0.7777777777777778,
             "#fb9f3a"
            ],
            [
             0.8888888888888888,
             "#fdca26"
            ],
            [
             1,
             "#f0f921"
            ]
           ]
          },
          "colorway": [
           "#636efa",
           "#EF553B",
           "#00cc96",
           "#ab63fa",
           "#FFA15A",
           "#19d3f3",
           "#FF6692",
           "#B6E880",
           "#FF97FF",
           "#FECB52"
          ],
          "font": {
           "color": "#2a3f5f"
          },
          "geo": {
           "bgcolor": "white",
           "lakecolor": "white",
           "landcolor": "#E5ECF6",
           "showlakes": true,
           "showland": true,
           "subunitcolor": "white"
          },
          "hoverlabel": {
           "align": "left"
          },
          "hovermode": "closest",
          "mapbox": {
           "style": "light"
          },
          "paper_bgcolor": "white",
          "plot_bgcolor": "#E5ECF6",
          "polar": {
           "angularaxis": {
            "gridcolor": "white",
            "linecolor": "white",
            "ticks": ""
           },
           "bgcolor": "#E5ECF6",
           "radialaxis": {
            "gridcolor": "white",
            "linecolor": "white",
            "ticks": ""
           }
          },
          "scene": {
           "xaxis": {
            "backgroundcolor": "#E5ECF6",
            "gridcolor": "white",
            "gridwidth": 2,
            "linecolor": "white",
            "showbackground": true,
            "ticks": "",
            "zerolinecolor": "white"
           },
           "yaxis": {
            "backgroundcolor": "#E5ECF6",
            "gridcolor": "white",
            "gridwidth": 2,
            "linecolor": "white",
            "showbackground": true,
            "ticks": "",
            "zerolinecolor": "white"
           },
           "zaxis": {
            "backgroundcolor": "#E5ECF6",
            "gridcolor": "white",
            "gridwidth": 2,
            "linecolor": "white",
            "showbackground": true,
            "ticks": "",
            "zerolinecolor": "white"
           }
          },
          "shapedefaults": {
           "line": {
            "color": "#2a3f5f"
           }
          },
          "ternary": {
           "aaxis": {
            "gridcolor": "white",
            "linecolor": "white",
            "ticks": ""
           },
           "baxis": {
            "gridcolor": "white",
            "linecolor": "white",
            "ticks": ""
           },
           "bgcolor": "#E5ECF6",
           "caxis": {
            "gridcolor": "white",
            "linecolor": "white",
            "ticks": ""
           }
          },
          "title": {
           "x": 0.05
          },
          "xaxis": {
           "automargin": true,
           "gridcolor": "white",
           "linecolor": "white",
           "ticks": "",
           "title": {
            "standoff": 15
           },
           "zerolinecolor": "white",
           "zerolinewidth": 2
          },
          "yaxis": {
           "automargin": true,
           "gridcolor": "white",
           "linecolor": "white",
           "ticks": "",
           "title": {
            "standoff": 15
           },
           "zerolinecolor": "white",
           "zerolinewidth": 2
          }
         }
        },
        "title": {
         "text": "Average Salary by State in the USA"
        },
        "xaxis": {
         "anchor": "y",
         "domain": [
          0,
          1
         ],
         "tickangle": -45,
         "title": {
          "text": "state"
         }
        },
        "yaxis": {
         "anchor": "x",
         "domain": [
          0,
          1
         ],
         "title": {
          "text": "Average Salary"
         }
        }
       }
      },
      "text/html": [
       "<div>                            <div id=\"708cd946-a3b1-4fac-ba5e-040da3b6f1da\" class=\"plotly-graph-div\" style=\"height:525px; width:100%;\"></div>            <script type=\"text/javascript\">                require([\"plotly\"], function(Plotly) {                    window.PLOTLYENV=window.PLOTLYENV || {};                                    if (document.getElementById(\"708cd946-a3b1-4fac-ba5e-040da3b6f1da\")) {                    Plotly.newPlot(                        \"708cd946-a3b1-4fac-ba5e-040da3b6f1da\",                        [{\"alignmentgroup\":\"True\",\"hovertemplate\":\"state=%{x}<br>Average Salary=%{marker.color}<extra></extra>\",\"legendgroup\":\"\",\"marker\":{\"color\":[53068.9382,39568.8904,38526.8536,33058.792400000006,32811.81080000001,29765.2206,26281.939199999997,22938.120599999995,22501.5214,17405.303799999994,17384.619999999995,16971.026400000002,16752.44380000001,15557.868000000002,11677.379,10265.915799999988,9023.752999999995,8229.91339999999,6044.411800000002,4088.1872,-989.3456000000006,-12760.3088,-19290.1504],\"coloraxis\":\"coloraxis\",\"pattern\":{\"shape\":\"\"}},\"name\":\"\",\"offsetgroup\":\"\",\"orientation\":\"v\",\"showlegend\":false,\"textposition\":\"auto\",\"x\":[\"WA\",\"GA\",\"CA\",\"TX\",\"NC\",\"NY\",\"IL\",\"CO\",\"VA\",\"FL\",\"MD\",\"IA\",\"PA\",\"MO\",\"UT\",\"MN\",\"NJ\",\"LA\",\"MA\",\"OH\",\"MI\",\"AZ\",\"WI\"],\"xaxis\":\"x\",\"y\":[53068.9382,39568.8904,38526.8536,33058.792400000006,32811.81080000001,29765.2206,26281.939199999997,22938.120599999995,22501.5214,17405.303799999994,17384.619999999995,16971.026400000002,16752.44380000001,15557.868000000002,11677.379,10265.915799999988,9023.752999999995,8229.91339999999,6044.411800000002,4088.1872,-989.3456000000006,-12760.3088,-19290.1504],\"yaxis\":\"y\",\"type\":\"bar\"}],                        {\"template\":{\"data\":{\"histogram2dcontour\":[{\"type\":\"histogram2dcontour\",\"colorbar\":{\"outlinewidth\":0,\"ticks\":\"\"},\"colorscale\":[[0.0,\"#0d0887\"],[0.1111111111111111,\"#46039f\"],[0.2222222222222222,\"#7201a8\"],[0.3333333333333333,\"#9c179e\"],[0.4444444444444444,\"#bd3786\"],[0.5555555555555556,\"#d8576b\"],[0.6666666666666666,\"#ed7953\"],[0.7777777777777778,\"#fb9f3a\"],[0.8888888888888888,\"#fdca26\"],[1.0,\"#f0f921\"]]}],\"choropleth\":[{\"type\":\"choropleth\",\"colorbar\":{\"outlinewidth\":0,\"ticks\":\"\"}}],\"histogram2d\":[{\"type\":\"histogram2d\",\"colorbar\":{\"outlinewidth\":0,\"ticks\":\"\"},\"colorscale\":[[0.0,\"#0d0887\"],[0.1111111111111111,\"#46039f\"],[0.2222222222222222,\"#7201a8\"],[0.3333333333333333,\"#9c179e\"],[0.4444444444444444,\"#bd3786\"],[0.5555555555555556,\"#d8576b\"],[0.6666666666666666,\"#ed7953\"],[0.7777777777777778,\"#fb9f3a\"],[0.8888888888888888,\"#fdca26\"],[1.0,\"#f0f921\"]]}],\"heatmap\":[{\"type\":\"heatmap\",\"colorbar\":{\"outlinewidth\":0,\"ticks\":\"\"},\"colorscale\":[[0.0,\"#0d0887\"],[0.1111111111111111,\"#46039f\"],[0.2222222222222222,\"#7201a8\"],[0.3333333333333333,\"#9c179e\"],[0.4444444444444444,\"#bd3786\"],[0.5555555555555556,\"#d8576b\"],[0.6666666666666666,\"#ed7953\"],[0.7777777777777778,\"#fb9f3a\"],[0.8888888888888888,\"#fdca26\"],[1.0,\"#f0f921\"]]}],\"heatmapgl\":[{\"type\":\"heatmapgl\",\"colorbar\":{\"outlinewidth\":0,\"ticks\":\"\"},\"colorscale\":[[0.0,\"#0d0887\"],[0.1111111111111111,\"#46039f\"],[0.2222222222222222,\"#7201a8\"],[0.3333333333333333,\"#9c179e\"],[0.4444444444444444,\"#bd3786\"],[0.5555555555555556,\"#d8576b\"],[0.6666666666666666,\"#ed7953\"],[0.7777777777777778,\"#fb9f3a\"],[0.8888888888888888,\"#fdca26\"],[1.0,\"#f0f921\"]]}],\"contourcarpet\":[{\"type\":\"contourcarpet\",\"colorbar\":{\"outlinewidth\":0,\"ticks\":\"\"}}],\"contour\":[{\"type\":\"contour\",\"colorbar\":{\"outlinewidth\":0,\"ticks\":\"\"},\"colorscale\":[[0.0,\"#0d0887\"],[0.1111111111111111,\"#46039f\"],[0.2222222222222222,\"#7201a8\"],[0.3333333333333333,\"#9c179e\"],[0.4444444444444444,\"#bd3786\"],[0.5555555555555556,\"#d8576b\"],[0.6666666666666666,\"#ed7953\"],[0.7777777777777778,\"#fb9f3a\"],[0.8888888888888888,\"#fdca26\"],[1.0,\"#f0f921\"]]}],\"surface\":[{\"type\":\"surface\",\"colorbar\":{\"outlinewidth\":0,\"ticks\":\"\"},\"colorscale\":[[0.0,\"#0d0887\"],[0.1111111111111111,\"#46039f\"],[0.2222222222222222,\"#7201a8\"],[0.3333333333333333,\"#9c179e\"],[0.4444444444444444,\"#bd3786\"],[0.5555555555555556,\"#d8576b\"],[0.6666666666666666,\"#ed7953\"],[0.7777777777777778,\"#fb9f3a\"],[0.8888888888888888,\"#fdca26\"],[1.0,\"#f0f921\"]]}],\"mesh3d\":[{\"type\":\"mesh3d\",\"colorbar\":{\"outlinewidth\":0,\"ticks\":\"\"}}],\"scatter\":[{\"fillpattern\":{\"fillmode\":\"overlay\",\"size\":10,\"solidity\":0.2},\"type\":\"scatter\"}],\"parcoords\":[{\"type\":\"parcoords\",\"line\":{\"colorbar\":{\"outlinewidth\":0,\"ticks\":\"\"}}}],\"scatterpolargl\":[{\"type\":\"scatterpolargl\",\"marker\":{\"colorbar\":{\"outlinewidth\":0,\"ticks\":\"\"}}}],\"bar\":[{\"error_x\":{\"color\":\"#2a3f5f\"},\"error_y\":{\"color\":\"#2a3f5f\"},\"marker\":{\"line\":{\"color\":\"#E5ECF6\",\"width\":0.5},\"pattern\":{\"fillmode\":\"overlay\",\"size\":10,\"solidity\":0.2}},\"type\":\"bar\"}],\"scattergeo\":[{\"type\":\"scattergeo\",\"marker\":{\"colorbar\":{\"outlinewidth\":0,\"ticks\":\"\"}}}],\"scatterpolar\":[{\"type\":\"scatterpolar\",\"marker\":{\"colorbar\":{\"outlinewidth\":0,\"ticks\":\"\"}}}],\"histogram\":[{\"marker\":{\"pattern\":{\"fillmode\":\"overlay\",\"size\":10,\"solidity\":0.2}},\"type\":\"histogram\"}],\"scattergl\":[{\"type\":\"scattergl\",\"marker\":{\"colorbar\":{\"outlinewidth\":0,\"ticks\":\"\"}}}],\"scatter3d\":[{\"type\":\"scatter3d\",\"line\":{\"colorbar\":{\"outlinewidth\":0,\"ticks\":\"\"}},\"marker\":{\"colorbar\":{\"outlinewidth\":0,\"ticks\":\"\"}}}],\"scattermapbox\":[{\"type\":\"scattermapbox\",\"marker\":{\"colorbar\":{\"outlinewidth\":0,\"ticks\":\"\"}}}],\"scatterternary\":[{\"type\":\"scatterternary\",\"marker\":{\"colorbar\":{\"outlinewidth\":0,\"ticks\":\"\"}}}],\"scattercarpet\":[{\"type\":\"scattercarpet\",\"marker\":{\"colorbar\":{\"outlinewidth\":0,\"ticks\":\"\"}}}],\"carpet\":[{\"aaxis\":{\"endlinecolor\":\"#2a3f5f\",\"gridcolor\":\"white\",\"linecolor\":\"white\",\"minorgridcolor\":\"white\",\"startlinecolor\":\"#2a3f5f\"},\"baxis\":{\"endlinecolor\":\"#2a3f5f\",\"gridcolor\":\"white\",\"linecolor\":\"white\",\"minorgridcolor\":\"white\",\"startlinecolor\":\"#2a3f5f\"},\"type\":\"carpet\"}],\"table\":[{\"cells\":{\"fill\":{\"color\":\"#EBF0F8\"},\"line\":{\"color\":\"white\"}},\"header\":{\"fill\":{\"color\":\"#C8D4E3\"},\"line\":{\"color\":\"white\"}},\"type\":\"table\"}],\"barpolar\":[{\"marker\":{\"line\":{\"color\":\"#E5ECF6\",\"width\":0.5},\"pattern\":{\"fillmode\":\"overlay\",\"size\":10,\"solidity\":0.2}},\"type\":\"barpolar\"}],\"pie\":[{\"automargin\":true,\"type\":\"pie\"}]},\"layout\":{\"autotypenumbers\":\"strict\",\"colorway\":[\"#636efa\",\"#EF553B\",\"#00cc96\",\"#ab63fa\",\"#FFA15A\",\"#19d3f3\",\"#FF6692\",\"#B6E880\",\"#FF97FF\",\"#FECB52\"],\"font\":{\"color\":\"#2a3f5f\"},\"hovermode\":\"closest\",\"hoverlabel\":{\"align\":\"left\"},\"paper_bgcolor\":\"white\",\"plot_bgcolor\":\"#E5ECF6\",\"polar\":{\"bgcolor\":\"#E5ECF6\",\"angularaxis\":{\"gridcolor\":\"white\",\"linecolor\":\"white\",\"ticks\":\"\"},\"radialaxis\":{\"gridcolor\":\"white\",\"linecolor\":\"white\",\"ticks\":\"\"}},\"ternary\":{\"bgcolor\":\"#E5ECF6\",\"aaxis\":{\"gridcolor\":\"white\",\"linecolor\":\"white\",\"ticks\":\"\"},\"baxis\":{\"gridcolor\":\"white\",\"linecolor\":\"white\",\"ticks\":\"\"},\"caxis\":{\"gridcolor\":\"white\",\"linecolor\":\"white\",\"ticks\":\"\"}},\"coloraxis\":{\"colorbar\":{\"outlinewidth\":0,\"ticks\":\"\"}},\"colorscale\":{\"sequential\":[[0.0,\"#0d0887\"],[0.1111111111111111,\"#46039f\"],[0.2222222222222222,\"#7201a8\"],[0.3333333333333333,\"#9c179e\"],[0.4444444444444444,\"#bd3786\"],[0.5555555555555556,\"#d8576b\"],[0.6666666666666666,\"#ed7953\"],[0.7777777777777778,\"#fb9f3a\"],[0.8888888888888888,\"#fdca26\"],[1.0,\"#f0f921\"]],\"sequentialminus\":[[0.0,\"#0d0887\"],[0.1111111111111111,\"#46039f\"],[0.2222222222222222,\"#7201a8\"],[0.3333333333333333,\"#9c179e\"],[0.4444444444444444,\"#bd3786\"],[0.5555555555555556,\"#d8576b\"],[0.6666666666666666,\"#ed7953\"],[0.7777777777777778,\"#fb9f3a\"],[0.8888888888888888,\"#fdca26\"],[1.0,\"#f0f921\"]],\"diverging\":[[0,\"#8e0152\"],[0.1,\"#c51b7d\"],[0.2,\"#de77ae\"],[0.3,\"#f1b6da\"],[0.4,\"#fde0ef\"],[0.5,\"#f7f7f7\"],[0.6,\"#e6f5d0\"],[0.7,\"#b8e186\"],[0.8,\"#7fbc41\"],[0.9,\"#4d9221\"],[1,\"#276419\"]]},\"xaxis\":{\"gridcolor\":\"white\",\"linecolor\":\"white\",\"ticks\":\"\",\"title\":{\"standoff\":15},\"zerolinecolor\":\"white\",\"automargin\":true,\"zerolinewidth\":2},\"yaxis\":{\"gridcolor\":\"white\",\"linecolor\":\"white\",\"ticks\":\"\",\"title\":{\"standoff\":15},\"zerolinecolor\":\"white\",\"automargin\":true,\"zerolinewidth\":2},\"scene\":{\"xaxis\":{\"backgroundcolor\":\"#E5ECF6\",\"gridcolor\":\"white\",\"linecolor\":\"white\",\"showbackground\":true,\"ticks\":\"\",\"zerolinecolor\":\"white\",\"gridwidth\":2},\"yaxis\":{\"backgroundcolor\":\"#E5ECF6\",\"gridcolor\":\"white\",\"linecolor\":\"white\",\"showbackground\":true,\"ticks\":\"\",\"zerolinecolor\":\"white\",\"gridwidth\":2},\"zaxis\":{\"backgroundcolor\":\"#E5ECF6\",\"gridcolor\":\"white\",\"linecolor\":\"white\",\"showbackground\":true,\"ticks\":\"\",\"zerolinecolor\":\"white\",\"gridwidth\":2}},\"shapedefaults\":{\"line\":{\"color\":\"#2a3f5f\"}},\"annotationdefaults\":{\"arrowcolor\":\"#2a3f5f\",\"arrowhead\":0,\"arrowwidth\":1},\"geo\":{\"bgcolor\":\"white\",\"landcolor\":\"#E5ECF6\",\"subunitcolor\":\"white\",\"showland\":true,\"showlakes\":true,\"lakecolor\":\"white\"},\"title\":{\"x\":0.05},\"mapbox\":{\"style\":\"light\"}}},\"xaxis\":{\"anchor\":\"y\",\"domain\":[0.0,1.0],\"title\":{\"text\":\"state\"},\"tickangle\":-45},\"yaxis\":{\"anchor\":\"x\",\"domain\":[0.0,1.0],\"title\":{\"text\":\"Average Salary\"}},\"coloraxis\":{\"colorbar\":{\"title\":{\"text\":\"Average Salary\"}},\"colorscale\":[[0.0,\"#0d0887\"],[0.1111111111111111,\"#46039f\"],[0.2222222222222222,\"#7201a8\"],[0.3333333333333333,\"#9c179e\"],[0.4444444444444444,\"#bd3786\"],[0.5555555555555556,\"#d8576b\"],[0.6666666666666666,\"#ed7953\"],[0.7777777777777778,\"#fb9f3a\"],[0.8888888888888888,\"#fdca26\"],[1.0,\"#f0f921\"]]},\"legend\":{\"tracegroupgap\":0},\"title\":{\"text\":\"Average Salary by State in the USA\"},\"barmode\":\"relative\"},                        {\"responsive\": true}                    ).then(function(){\n",
       "                            \n",
       "var gd = document.getElementById('708cd946-a3b1-4fac-ba5e-040da3b6f1da');\n",
       "var x = new MutationObserver(function (mutations, observer) {{\n",
       "        var display = window.getComputedStyle(gd).display;\n",
       "        if (!display || display === 'none') {{\n",
       "            console.log([gd, 'removed!']);\n",
       "            Plotly.purge(gd);\n",
       "            observer.disconnect();\n",
       "        }}\n",
       "}});\n",
       "\n",
       "// Listen for the removal of the full notebook cells\n",
       "var notebookContainer = gd.closest('#notebook-container');\n",
       "if (notebookContainer) {{\n",
       "    x.observe(notebookContainer, {childList: true});\n",
       "}}\n",
       "\n",
       "// Listen for the clearing of the current output cell\n",
       "var outputEl = gd.closest('.output');\n",
       "if (outputEl) {{\n",
       "    x.observe(outputEl, {childList: true});\n",
       "}}\n",
       "\n",
       "                        })                };                });            </script>        </div>"
      ]
     },
     "metadata": {},
     "output_type": "display_data"
    }
   ],
   "source": [
    "df = df.sort_values(by='median_salary_after_COL', ascending=False)\n",
    "df=df[df.state!='Remote']\n",
    "df=df[df.observations>=5]\n",
    "fig = px.bar(df,\n",
    "             x='state',\n",
    "             y='median_salary_after_COL',\n",
    "             title='Median Salary by State in the USA',\n",
    "             labels={'median_salary_after_COL': 'Average Salary', 'Unfiltered_State': 'State'},\n",
    "             color='median_salary_after_COL')\n",
    "fig.update_layout(xaxis_tickangle=-45)\n",
    "fig.show()"
   ]
  },
  {
   "cell_type": "code",
   "execution_count": 13,
   "id": "0c7a3ed6",
   "metadata": {},
   "outputs": [
    {
     "data": {
      "text/html": [
       "<div>\n",
       "<style scoped>\n",
       "    .dataframe tbody tr th:only-of-type {\n",
       "        vertical-align: middle;\n",
       "    }\n",
       "\n",
       "    .dataframe tbody tr th {\n",
       "        vertical-align: top;\n",
       "    }\n",
       "\n",
       "    .dataframe thead th {\n",
       "        text-align: right;\n",
       "    }\n",
       "</style>\n",
       "<table border=\"1\" class=\"dataframe\">\n",
       "  <thead>\n",
       "    <tr style=\"text-align: right;\">\n",
       "      <th></th>\n",
       "      <th>Unnamed: 0</th>\n",
       "      <th>state</th>\n",
       "      <th>average_salary</th>\n",
       "      <th>median_salary</th>\n",
       "      <th>observations</th>\n",
       "      <th>Full_state</th>\n",
       "      <th>hovertext</th>\n",
       "      <th>average_total_cost</th>\n",
       "      <th>median_total_cost</th>\n",
       "      <th>avg_salary_after_COL</th>\n",
       "      <th>median_salary_after_COL</th>\n",
       "    </tr>\n",
       "  </thead>\n",
       "  <tbody>\n",
       "    <tr>\n",
       "      <th>24</th>\n",
       "      <td>24</td>\n",
       "      <td>NM</td>\n",
       "      <td>140000.000000</td>\n",
       "      <td>140000.0</td>\n",
       "      <td>2</td>\n",
       "      <td>New Mexico</td>\n",
       "      <td>New Mexico&lt;br&gt;Average Salary: 140000.0&lt;br&gt;Obse...</td>\n",
       "      <td>67687.562087</td>\n",
       "      <td>70199.2530</td>\n",
       "      <td>72312.437913</td>\n",
       "      <td>69800.7470</td>\n",
       "    </tr>\n",
       "    <tr>\n",
       "      <th>37</th>\n",
       "      <td>37</td>\n",
       "      <td>WA</td>\n",
       "      <td>140739.909091</td>\n",
       "      <td>129552.5</td>\n",
       "      <td>22</td>\n",
       "      <td>Washington</td>\n",
       "      <td>Washington&lt;br&gt;Average Salary: 140739.91&lt;br&gt;Obs...</td>\n",
       "      <td>75648.910151</td>\n",
       "      <td>76483.5618</td>\n",
       "      <td>65090.998940</td>\n",
       "      <td>53068.9382</td>\n",
       "    </tr>\n",
       "    <tr>\n",
       "      <th>5</th>\n",
       "      <td>5</td>\n",
       "      <td>CT</td>\n",
       "      <td>128590.000000</td>\n",
       "      <td>135000.0</td>\n",
       "      <td>4</td>\n",
       "      <td>Connecticut</td>\n",
       "      <td>Connecticut&lt;br&gt;Average Salary: 128590.0&lt;br&gt;Obs...</td>\n",
       "      <td>90013.504620</td>\n",
       "      <td>92519.2326</td>\n",
       "      <td>38576.495380</td>\n",
       "      <td>42480.7674</td>\n",
       "    </tr>\n",
       "    <tr>\n",
       "      <th>28</th>\n",
       "      <td>28</td>\n",
       "      <td>OK</td>\n",
       "      <td>113140.750000</td>\n",
       "      <td>117000.0</td>\n",
       "      <td>4</td>\n",
       "      <td>Oklahoma</td>\n",
       "      <td>Oklahoma&lt;br&gt;Average Salary: 113140.75&lt;br&gt;Obser...</td>\n",
       "      <td>71110.675373</td>\n",
       "      <td>74993.8914</td>\n",
       "      <td>42030.074627</td>\n",
       "      <td>42006.1086</td>\n",
       "    </tr>\n",
       "    <tr>\n",
       "      <th>8</th>\n",
       "      <td>8</td>\n",
       "      <td>GA</td>\n",
       "      <td>101447.375000</td>\n",
       "      <td>105718.0</td>\n",
       "      <td>8</td>\n",
       "      <td>Georgia</td>\n",
       "      <td>Georgia&lt;br&gt;Average Salary: 101447.38&lt;br&gt;Observ...</td>\n",
       "      <td>64898.336594</td>\n",
       "      <td>66149.1096</td>\n",
       "      <td>36549.038406</td>\n",
       "      <td>39568.8904</td>\n",
       "    </tr>\n",
       "    <tr>\n",
       "      <th>3</th>\n",
       "      <td>3</td>\n",
       "      <td>CA</td>\n",
       "      <td>128569.560000</td>\n",
       "      <td>128320.0</td>\n",
       "      <td>100</td>\n",
       "      <td>California</td>\n",
       "      <td>California&lt;br&gt;Average Salary: 128569.56&lt;br&gt;Obs...</td>\n",
       "      <td>93179.163060</td>\n",
       "      <td>89793.1464</td>\n",
       "      <td>35390.396940</td>\n",
       "      <td>38526.8536</td>\n",
       "    </tr>\n",
       "    <tr>\n",
       "      <th>22</th>\n",
       "      <td>22</td>\n",
       "      <td>NE</td>\n",
       "      <td>117500.000000</td>\n",
       "      <td>117500.0</td>\n",
       "      <td>1</td>\n",
       "      <td>Nebraska</td>\n",
       "      <td>Nebraska&lt;br&gt;Average Salary: 117500.0&lt;br&gt;Observ...</td>\n",
       "      <td>77684.601942</td>\n",
       "      <td>79078.6320</td>\n",
       "      <td>39815.398058</td>\n",
       "      <td>38421.3680</td>\n",
       "    </tr>\n",
       "    <tr>\n",
       "      <th>32</th>\n",
       "      <td>32</td>\n",
       "      <td>SC</td>\n",
       "      <td>92347.250000</td>\n",
       "      <td>99750.0</td>\n",
       "      <td>4</td>\n",
       "      <td>South Carolina</td>\n",
       "      <td>South Carolina&lt;br&gt;Average Salary: 92347.25&lt;br&gt;...</td>\n",
       "      <td>62104.869806</td>\n",
       "      <td>62434.0752</td>\n",
       "      <td>30242.380194</td>\n",
       "      <td>37315.9248</td>\n",
       "    </tr>\n",
       "    <tr>\n",
       "      <th>34</th>\n",
       "      <td>34</td>\n",
       "      <td>TX</td>\n",
       "      <td>98756.184211</td>\n",
       "      <td>99984.5</td>\n",
       "      <td>38</td>\n",
       "      <td>Texas</td>\n",
       "      <td>Texas&lt;br&gt;Average Salary: 98756.18&lt;br&gt;Observati...</td>\n",
       "      <td>64795.398352</td>\n",
       "      <td>66925.7076</td>\n",
       "      <td>33960.785859</td>\n",
       "      <td>33058.7924</td>\n",
       "    </tr>\n",
       "    <tr>\n",
       "      <th>21</th>\n",
       "      <td>21</td>\n",
       "      <td>NC</td>\n",
       "      <td>103204.887500</td>\n",
       "      <td>104000.0</td>\n",
       "      <td>16</td>\n",
       "      <td>North Carolina</td>\n",
       "      <td>North Carolina&lt;br&gt;Average Salary: 103204.89&lt;br...</td>\n",
       "      <td>70013.586953</td>\n",
       "      <td>71188.1892</td>\n",
       "      <td>33191.300547</td>\n",
       "      <td>32811.8108</td>\n",
       "    </tr>\n",
       "    <tr>\n",
       "      <th>26</th>\n",
       "      <td>26</td>\n",
       "      <td>NY</td>\n",
       "      <td>116404.706329</td>\n",
       "      <td>114768.0</td>\n",
       "      <td>79</td>\n",
       "      <td>New York</td>\n",
       "      <td>New York&lt;br&gt;Average Salary: 116404.71&lt;br&gt;Obser...</td>\n",
       "      <td>86764.054353</td>\n",
       "      <td>85002.7794</td>\n",
       "      <td>29640.651976</td>\n",
       "      <td>29765.2206</td>\n",
       "    </tr>\n",
       "    <tr>\n",
       "      <th>11</th>\n",
       "      <td>11</td>\n",
       "      <td>IL</td>\n",
       "      <td>97725.736842</td>\n",
       "      <td>102372.0</td>\n",
       "      <td>38</td>\n",
       "      <td>Illinois</td>\n",
       "      <td>Illinois&lt;br&gt;Average Salary: 97725.74&lt;br&gt;Observ...</td>\n",
       "      <td>73024.613053</td>\n",
       "      <td>76090.0608</td>\n",
       "      <td>24701.123789</td>\n",
       "      <td>26281.9392</td>\n",
       "    </tr>\n",
       "    <tr>\n",
       "      <th>25</th>\n",
       "      <td>25</td>\n",
       "      <td>NV</td>\n",
       "      <td>99800.000000</td>\n",
       "      <td>99800.0</td>\n",
       "      <td>2</td>\n",
       "      <td>Nevada</td>\n",
       "      <td>Nevada&lt;br&gt;Average Salary: 99800.0&lt;br&gt;Observati...</td>\n",
       "      <td>75925.310202</td>\n",
       "      <td>76069.4616</td>\n",
       "      <td>23874.689798</td>\n",
       "      <td>23730.5384</td>\n",
       "    </tr>\n",
       "    <tr>\n",
       "      <th>4</th>\n",
       "      <td>4</td>\n",
       "      <td>CO</td>\n",
       "      <td>108270.300000</td>\n",
       "      <td>100213.5</td>\n",
       "      <td>20</td>\n",
       "      <td>Colorado</td>\n",
       "      <td>Colorado&lt;br&gt;Average Salary: 108270.3&lt;br&gt;Observ...</td>\n",
       "      <td>77595.782964</td>\n",
       "      <td>77275.3794</td>\n",
       "      <td>30674.517036</td>\n",
       "      <td>22938.1206</td>\n",
       "    </tr>\n",
       "    <tr>\n",
       "      <th>36</th>\n",
       "      <td>36</td>\n",
       "      <td>VA</td>\n",
       "      <td>98146.594595</td>\n",
       "      <td>99187.0</td>\n",
       "      <td>37</td>\n",
       "      <td>Virginia</td>\n",
       "      <td>Virginia&lt;br&gt;Average Salary: 98146.59&lt;br&gt;Observ...</td>\n",
       "      <td>76748.558009</td>\n",
       "      <td>76685.4786</td>\n",
       "      <td>21398.036585</td>\n",
       "      <td>22501.5214</td>\n",
       "    </tr>\n",
       "    <tr>\n",
       "      <th>7</th>\n",
       "      <td>7</td>\n",
       "      <td>FL</td>\n",
       "      <td>84523.210526</td>\n",
       "      <td>89347.0</td>\n",
       "      <td>19</td>\n",
       "      <td>Florida</td>\n",
       "      <td>Florida&lt;br&gt;Average Salary: 84523.21&lt;br&gt;Observa...</td>\n",
       "      <td>71521.722981</td>\n",
       "      <td>71941.6962</td>\n",
       "      <td>13001.487545</td>\n",
       "      <td>17405.3038</td>\n",
       "    </tr>\n",
       "    <tr>\n",
       "      <th>16</th>\n",
       "      <td>16</td>\n",
       "      <td>MD</td>\n",
       "      <td>96753.928571</td>\n",
       "      <td>95794.0</td>\n",
       "      <td>28</td>\n",
       "      <td>Maryland</td>\n",
       "      <td>Maryland&lt;br&gt;Average Salary: 96753.93&lt;br&gt;Observ...</td>\n",
       "      <td>79001.490465</td>\n",
       "      <td>78409.3800</td>\n",
       "      <td>17752.438106</td>\n",
       "      <td>17384.6200</td>\n",
       "    </tr>\n",
       "    <tr>\n",
       "      <th>9</th>\n",
       "      <td>9</td>\n",
       "      <td>IA</td>\n",
       "      <td>83582.200000</td>\n",
       "      <td>86265.0</td>\n",
       "      <td>5</td>\n",
       "      <td>Iowa</td>\n",
       "      <td>Iowa&lt;br&gt;Average Salary: 83582.2&lt;br&gt;Observation...</td>\n",
       "      <td>66089.039308</td>\n",
       "      <td>69293.9736</td>\n",
       "      <td>17493.160692</td>\n",
       "      <td>16971.0264</td>\n",
       "    </tr>\n",
       "    <tr>\n",
       "      <th>30</th>\n",
       "      <td>30</td>\n",
       "      <td>PA</td>\n",
       "      <td>88828.842105</td>\n",
       "      <td>91258.0</td>\n",
       "      <td>19</td>\n",
       "      <td>Pennsylvania</td>\n",
       "      <td>Pennsylvania&lt;br&gt;Average Salary: 88828.84&lt;br&gt;Ob...</td>\n",
       "      <td>72114.340764</td>\n",
       "      <td>74505.5562</td>\n",
       "      <td>16714.501341</td>\n",
       "      <td>16752.4438</td>\n",
       "    </tr>\n",
       "    <tr>\n",
       "      <th>19</th>\n",
       "      <td>19</td>\n",
       "      <td>MO</td>\n",
       "      <td>78948.416667</td>\n",
       "      <td>83191.5</td>\n",
       "      <td>12</td>\n",
       "      <td>Missouri</td>\n",
       "      <td>Missouri&lt;br&gt;Average Salary: 78948.42&lt;br&gt;Observ...</td>\n",
       "      <td>66220.762768</td>\n",
       "      <td>67633.6320</td>\n",
       "      <td>12727.653899</td>\n",
       "      <td>15557.8680</td>\n",
       "    </tr>\n",
       "    <tr>\n",
       "      <th>29</th>\n",
       "      <td>29</td>\n",
       "      <td>OR</td>\n",
       "      <td>99128.000000</td>\n",
       "      <td>99128.0</td>\n",
       "      <td>2</td>\n",
       "      <td>Oregon</td>\n",
       "      <td>Oregon&lt;br&gt;Average Salary: 99128.0&lt;br&gt;Observati...</td>\n",
       "      <td>83818.032683</td>\n",
       "      <td>85097.6694</td>\n",
       "      <td>15309.967317</td>\n",
       "      <td>14030.3306</td>\n",
       "    </tr>\n",
       "    <tr>\n",
       "      <th>35</th>\n",
       "      <td>35</td>\n",
       "      <td>UT</td>\n",
       "      <td>90741.900000</td>\n",
       "      <td>90558.5</td>\n",
       "      <td>10</td>\n",
       "      <td>Utah</td>\n",
       "      <td>Utah&lt;br&gt;Average Salary: 90741.9&lt;br&gt;Observation...</td>\n",
       "      <td>75609.054360</td>\n",
       "      <td>78881.1210</td>\n",
       "      <td>15132.845640</td>\n",
       "      <td>11677.3790</td>\n",
       "    </tr>\n",
       "    <tr>\n",
       "      <th>18</th>\n",
       "      <td>18</td>\n",
       "      <td>MN</td>\n",
       "      <td>89262.250000</td>\n",
       "      <td>83270.5</td>\n",
       "      <td>8</td>\n",
       "      <td>Minnesota</td>\n",
       "      <td>Minnesota&lt;br&gt;Average Salary: 89262.25&lt;br&gt;Obser...</td>\n",
       "      <td>71748.349877</td>\n",
       "      <td>73004.5842</td>\n",
       "      <td>17513.900123</td>\n",
       "      <td>10265.9158</td>\n",
       "    </tr>\n",
       "    <tr>\n",
       "      <th>23</th>\n",
       "      <td>23</td>\n",
       "      <td>NJ</td>\n",
       "      <td>107169.952381</td>\n",
       "      <td>104000.0</td>\n",
       "      <td>21</td>\n",
       "      <td>New Jersey</td>\n",
       "      <td>New Jersey&lt;br&gt;Average Salary: 107169.95&lt;br&gt;Obs...</td>\n",
       "      <td>92575.263891</td>\n",
       "      <td>94976.2470</td>\n",
       "      <td>14594.688490</td>\n",
       "      <td>9023.7530</td>\n",
       "    </tr>\n",
       "    <tr>\n",
       "      <th>31</th>\n",
       "      <td>31</td>\n",
       "      <td>RI</td>\n",
       "      <td>95000.000000</td>\n",
       "      <td>95000.0</td>\n",
       "      <td>1</td>\n",
       "      <td>Rhode Island</td>\n",
       "      <td>Rhode Island&lt;br&gt;Average Salary: 95000.0&lt;br&gt;Obs...</td>\n",
       "      <td>83512.769736</td>\n",
       "      <td>86092.3800</td>\n",
       "      <td>11487.230264</td>\n",
       "      <td>8907.6200</td>\n",
       "    </tr>\n",
       "    <tr>\n",
       "      <th>14</th>\n",
       "      <td>14</td>\n",
       "      <td>LA</td>\n",
       "      <td>86185.400000</td>\n",
       "      <td>78797.0</td>\n",
       "      <td>5</td>\n",
       "      <td>Louisiana</td>\n",
       "      <td>Louisiana&lt;br&gt;Average Salary: 86185.4&lt;br&gt;Observ...</td>\n",
       "      <td>68282.349846</td>\n",
       "      <td>70567.0866</td>\n",
       "      <td>17903.050154</td>\n",
       "      <td>8229.9134</td>\n",
       "    </tr>\n",
       "    <tr>\n",
       "      <th>10</th>\n",
       "      <td>10</td>\n",
       "      <td>ID</td>\n",
       "      <td>80915.250000</td>\n",
       "      <td>79828.0</td>\n",
       "      <td>4</td>\n",
       "      <td>Idaho</td>\n",
       "      <td>Idaho&lt;br&gt;Average Salary: 80915.25&lt;br&gt;Observati...</td>\n",
       "      <td>70506.019440</td>\n",
       "      <td>73263.0558</td>\n",
       "      <td>10409.230560</td>\n",
       "      <td>6564.9442</td>\n",
       "    </tr>\n",
       "    <tr>\n",
       "      <th>15</th>\n",
       "      <td>15</td>\n",
       "      <td>MA</td>\n",
       "      <td>111921.244444</td>\n",
       "      <td>110164.0</td>\n",
       "      <td>45</td>\n",
       "      <td>Massachusetts</td>\n",
       "      <td>Massachusetts&lt;br&gt;Average Salary: 111921.24&lt;br&gt;...</td>\n",
       "      <td>101891.575946</td>\n",
       "      <td>104119.5882</td>\n",
       "      <td>10029.668499</td>\n",
       "      <td>6044.4118</td>\n",
       "    </tr>\n",
       "    <tr>\n",
       "      <th>12</th>\n",
       "      <td>12</td>\n",
       "      <td>IN</td>\n",
       "      <td>78794.000000</td>\n",
       "      <td>76270.5</td>\n",
       "      <td>4</td>\n",
       "      <td>Indiana</td>\n",
       "      <td>Indiana&lt;br&gt;Average Salary: 78794.0&lt;br&gt;Observat...</td>\n",
       "      <td>69161.680460</td>\n",
       "      <td>72003.9024</td>\n",
       "      <td>9632.319540</td>\n",
       "      <td>4266.5976</td>\n",
       "    </tr>\n",
       "    <tr>\n",
       "      <th>27</th>\n",
       "      <td>27</td>\n",
       "      <td>OH</td>\n",
       "      <td>79678.666667</td>\n",
       "      <td>72374.0</td>\n",
       "      <td>9</td>\n",
       "      <td>Ohio</td>\n",
       "      <td>Ohio&lt;br&gt;Average Salary: 79678.67&lt;br&gt;Observatio...</td>\n",
       "      <td>65100.187508</td>\n",
       "      <td>68285.8128</td>\n",
       "      <td>14578.479158</td>\n",
       "      <td>4088.1872</td>\n",
       "    </tr>\n",
       "    <tr>\n",
       "      <th>1</th>\n",
       "      <td>1</td>\n",
       "      <td>AR</td>\n",
       "      <td>64562.500000</td>\n",
       "      <td>64562.5</td>\n",
       "      <td>2</td>\n",
       "      <td>Arkansas</td>\n",
       "      <td>Arkansas&lt;br&gt;Average Salary: 64562.5&lt;br&gt;Observa...</td>\n",
       "      <td>61491.891851</td>\n",
       "      <td>64790.3994</td>\n",
       "      <td>3070.608149</td>\n",
       "      <td>-227.8994</td>\n",
       "    </tr>\n",
       "    <tr>\n",
       "      <th>17</th>\n",
       "      <td>17</td>\n",
       "      <td>MI</td>\n",
       "      <td>79355.636364</td>\n",
       "      <td>70840.0</td>\n",
       "      <td>11</td>\n",
       "      <td>Michigan</td>\n",
       "      <td>Michigan&lt;br&gt;Average Salary: 79355.64&lt;br&gt;Observ...</td>\n",
       "      <td>68782.098743</td>\n",
       "      <td>71829.3456</td>\n",
       "      <td>10573.537621</td>\n",
       "      <td>-989.3456</td>\n",
       "    </tr>\n",
       "    <tr>\n",
       "      <th>6</th>\n",
       "      <td>6</td>\n",
       "      <td>DE</td>\n",
       "      <td>78724.666667</td>\n",
       "      <td>78000.0</td>\n",
       "      <td>3</td>\n",
       "      <td>Delaware</td>\n",
       "      <td>Delaware&lt;br&gt;Average Salary: 78724.67&lt;br&gt;Observ...</td>\n",
       "      <td>81505.517560</td>\n",
       "      <td>83640.7590</td>\n",
       "      <td>-2780.850893</td>\n",
       "      <td>-5640.7590</td>\n",
       "    </tr>\n",
       "    <tr>\n",
       "      <th>33</th>\n",
       "      <td>33</td>\n",
       "      <td>TN</td>\n",
       "      <td>56511.000000</td>\n",
       "      <td>57851.0</td>\n",
       "      <td>3</td>\n",
       "      <td>Tennessee</td>\n",
       "      <td>Tennessee&lt;br&gt;Average Salary: 56511.0&lt;br&gt;Observ...</td>\n",
       "      <td>62871.107261</td>\n",
       "      <td>64848.0234</td>\n",
       "      <td>-6360.107261</td>\n",
       "      <td>-6997.0234</td>\n",
       "    </tr>\n",
       "    <tr>\n",
       "      <th>13</th>\n",
       "      <td>13</td>\n",
       "      <td>KS</td>\n",
       "      <td>61695.000000</td>\n",
       "      <td>61695.0</td>\n",
       "      <td>1</td>\n",
       "      <td>Kansas</td>\n",
       "      <td>Kansas&lt;br&gt;Average Salary: 61695.0&lt;br&gt;Observati...</td>\n",
       "      <td>67233.076625</td>\n",
       "      <td>70467.6330</td>\n",
       "      <td>-5538.076625</td>\n",
       "      <td>-8772.6330</td>\n",
       "    </tr>\n",
       "    <tr>\n",
       "      <th>2</th>\n",
       "      <td>2</td>\n",
       "      <td>AZ</td>\n",
       "      <td>76347.560000</td>\n",
       "      <td>64075.0</td>\n",
       "      <td>5</td>\n",
       "      <td>Arizona</td>\n",
       "      <td>Arizona&lt;br&gt;Average Salary: 76347.56&lt;br&gt;Observa...</td>\n",
       "      <td>75985.939376</td>\n",
       "      <td>76835.3088</td>\n",
       "      <td>361.620624</td>\n",
       "      <td>-12760.3088</td>\n",
       "    </tr>\n",
       "    <tr>\n",
       "      <th>20</th>\n",
       "      <td>20</td>\n",
       "      <td>MS</td>\n",
       "      <td>46739.000000</td>\n",
       "      <td>46739.0</td>\n",
       "      <td>1</td>\n",
       "      <td>Mississippi</td>\n",
       "      <td>Mississippi&lt;br&gt;Average Salary: 46739.0&lt;br&gt;Obse...</td>\n",
       "      <td>61360.990604</td>\n",
       "      <td>63202.9338</td>\n",
       "      <td>-14621.990604</td>\n",
       "      <td>-16463.9338</td>\n",
       "    </tr>\n",
       "    <tr>\n",
       "      <th>0</th>\n",
       "      <td>0</td>\n",
       "      <td>AL</td>\n",
       "      <td>53877.000000</td>\n",
       "      <td>53877.0</td>\n",
       "      <td>1</td>\n",
       "      <td>Alabama</td>\n",
       "      <td>Alabama&lt;br&gt;Average Salary: 53877.0&lt;br&gt;Observat...</td>\n",
       "      <td>68967.570020</td>\n",
       "      <td>73026.2868</td>\n",
       "      <td>-15090.570020</td>\n",
       "      <td>-19149.2868</td>\n",
       "    </tr>\n",
       "    <tr>\n",
       "      <th>38</th>\n",
       "      <td>38</td>\n",
       "      <td>WI</td>\n",
       "      <td>67813.000000</td>\n",
       "      <td>57500.0</td>\n",
       "      <td>6</td>\n",
       "      <td>Wisconsin</td>\n",
       "      <td>Wisconsin&lt;br&gt;Average Salary: 67813.0&lt;br&gt;Observ...</td>\n",
       "      <td>73150.619482</td>\n",
       "      <td>76790.1504</td>\n",
       "      <td>-5337.619482</td>\n",
       "      <td>-19290.1504</td>\n",
       "    </tr>\n",
       "    <tr>\n",
       "      <th>39</th>\n",
       "      <td>39</td>\n",
       "      <td>Remote</td>\n",
       "      <td>121472.767665</td>\n",
       "      <td>120000.0</td>\n",
       "      <td>167</td>\n",
       "      <td>NaN</td>\n",
       "      <td>NaN</td>\n",
       "      <td>NaN</td>\n",
       "      <td>NaN</td>\n",
       "      <td>NaN</td>\n",
       "      <td>NaN</td>\n",
       "    </tr>\n",
       "  </tbody>\n",
       "</table>\n",
       "</div>"
      ],
      "text/plain": [
       "    Unnamed: 0   state  average_salary  median_salary  observations  \\\n",
       "24          24      NM   140000.000000       140000.0             2   \n",
       "37          37      WA   140739.909091       129552.5            22   \n",
       "5            5      CT   128590.000000       135000.0             4   \n",
       "28          28      OK   113140.750000       117000.0             4   \n",
       "8            8      GA   101447.375000       105718.0             8   \n",
       "3            3      CA   128569.560000       128320.0           100   \n",
       "22          22      NE   117500.000000       117500.0             1   \n",
       "32          32      SC    92347.250000        99750.0             4   \n",
       "34          34      TX    98756.184211        99984.5            38   \n",
       "21          21      NC   103204.887500       104000.0            16   \n",
       "26          26      NY   116404.706329       114768.0            79   \n",
       "11          11      IL    97725.736842       102372.0            38   \n",
       "25          25      NV    99800.000000        99800.0             2   \n",
       "4            4      CO   108270.300000       100213.5            20   \n",
       "36          36      VA    98146.594595        99187.0            37   \n",
       "7            7      FL    84523.210526        89347.0            19   \n",
       "16          16      MD    96753.928571        95794.0            28   \n",
       "9            9      IA    83582.200000        86265.0             5   \n",
       "30          30      PA    88828.842105        91258.0            19   \n",
       "19          19      MO    78948.416667        83191.5            12   \n",
       "29          29      OR    99128.000000        99128.0             2   \n",
       "35          35      UT    90741.900000        90558.5            10   \n",
       "18          18      MN    89262.250000        83270.5             8   \n",
       "23          23      NJ   107169.952381       104000.0            21   \n",
       "31          31      RI    95000.000000        95000.0             1   \n",
       "14          14      LA    86185.400000        78797.0             5   \n",
       "10          10      ID    80915.250000        79828.0             4   \n",
       "15          15      MA   111921.244444       110164.0            45   \n",
       "12          12      IN    78794.000000        76270.5             4   \n",
       "27          27      OH    79678.666667        72374.0             9   \n",
       "1            1      AR    64562.500000        64562.5             2   \n",
       "17          17      MI    79355.636364        70840.0            11   \n",
       "6            6      DE    78724.666667        78000.0             3   \n",
       "33          33      TN    56511.000000        57851.0             3   \n",
       "13          13      KS    61695.000000        61695.0             1   \n",
       "2            2      AZ    76347.560000        64075.0             5   \n",
       "20          20      MS    46739.000000        46739.0             1   \n",
       "0            0      AL    53877.000000        53877.0             1   \n",
       "38          38      WI    67813.000000        57500.0             6   \n",
       "39          39  Remote   121472.767665       120000.0           167   \n",
       "\n",
       "        Full_state                                          hovertext  \\\n",
       "24      New Mexico  New Mexico<br>Average Salary: 140000.0<br>Obse...   \n",
       "37      Washington  Washington<br>Average Salary: 140739.91<br>Obs...   \n",
       "5      Connecticut  Connecticut<br>Average Salary: 128590.0<br>Obs...   \n",
       "28        Oklahoma  Oklahoma<br>Average Salary: 113140.75<br>Obser...   \n",
       "8          Georgia  Georgia<br>Average Salary: 101447.38<br>Observ...   \n",
       "3       California  California<br>Average Salary: 128569.56<br>Obs...   \n",
       "22        Nebraska  Nebraska<br>Average Salary: 117500.0<br>Observ...   \n",
       "32  South Carolina  South Carolina<br>Average Salary: 92347.25<br>...   \n",
       "34           Texas  Texas<br>Average Salary: 98756.18<br>Observati...   \n",
       "21  North Carolina  North Carolina<br>Average Salary: 103204.89<br...   \n",
       "26        New York  New York<br>Average Salary: 116404.71<br>Obser...   \n",
       "11        Illinois  Illinois<br>Average Salary: 97725.74<br>Observ...   \n",
       "25          Nevada  Nevada<br>Average Salary: 99800.0<br>Observati...   \n",
       "4         Colorado  Colorado<br>Average Salary: 108270.3<br>Observ...   \n",
       "36        Virginia  Virginia<br>Average Salary: 98146.59<br>Observ...   \n",
       "7          Florida  Florida<br>Average Salary: 84523.21<br>Observa...   \n",
       "16        Maryland  Maryland<br>Average Salary: 96753.93<br>Observ...   \n",
       "9             Iowa  Iowa<br>Average Salary: 83582.2<br>Observation...   \n",
       "30    Pennsylvania  Pennsylvania<br>Average Salary: 88828.84<br>Ob...   \n",
       "19        Missouri  Missouri<br>Average Salary: 78948.42<br>Observ...   \n",
       "29          Oregon  Oregon<br>Average Salary: 99128.0<br>Observati...   \n",
       "35            Utah  Utah<br>Average Salary: 90741.9<br>Observation...   \n",
       "18       Minnesota  Minnesota<br>Average Salary: 89262.25<br>Obser...   \n",
       "23      New Jersey  New Jersey<br>Average Salary: 107169.95<br>Obs...   \n",
       "31    Rhode Island  Rhode Island<br>Average Salary: 95000.0<br>Obs...   \n",
       "14       Louisiana  Louisiana<br>Average Salary: 86185.4<br>Observ...   \n",
       "10           Idaho  Idaho<br>Average Salary: 80915.25<br>Observati...   \n",
       "15   Massachusetts  Massachusetts<br>Average Salary: 111921.24<br>...   \n",
       "12         Indiana  Indiana<br>Average Salary: 78794.0<br>Observat...   \n",
       "27            Ohio  Ohio<br>Average Salary: 79678.67<br>Observatio...   \n",
       "1         Arkansas  Arkansas<br>Average Salary: 64562.5<br>Observa...   \n",
       "17        Michigan  Michigan<br>Average Salary: 79355.64<br>Observ...   \n",
       "6         Delaware  Delaware<br>Average Salary: 78724.67<br>Observ...   \n",
       "33       Tennessee  Tennessee<br>Average Salary: 56511.0<br>Observ...   \n",
       "13          Kansas  Kansas<br>Average Salary: 61695.0<br>Observati...   \n",
       "2          Arizona  Arizona<br>Average Salary: 76347.56<br>Observa...   \n",
       "20     Mississippi  Mississippi<br>Average Salary: 46739.0<br>Obse...   \n",
       "0          Alabama  Alabama<br>Average Salary: 53877.0<br>Observat...   \n",
       "38       Wisconsin  Wisconsin<br>Average Salary: 67813.0<br>Observ...   \n",
       "39             NaN                                                NaN   \n",
       "\n",
       "    average_total_cost  median_total_cost  avg_salary_after_COL  \\\n",
       "24        67687.562087         70199.2530          72312.437913   \n",
       "37        75648.910151         76483.5618          65090.998940   \n",
       "5         90013.504620         92519.2326          38576.495380   \n",
       "28        71110.675373         74993.8914          42030.074627   \n",
       "8         64898.336594         66149.1096          36549.038406   \n",
       "3         93179.163060         89793.1464          35390.396940   \n",
       "22        77684.601942         79078.6320          39815.398058   \n",
       "32        62104.869806         62434.0752          30242.380194   \n",
       "34        64795.398352         66925.7076          33960.785859   \n",
       "21        70013.586953         71188.1892          33191.300547   \n",
       "26        86764.054353         85002.7794          29640.651976   \n",
       "11        73024.613053         76090.0608          24701.123789   \n",
       "25        75925.310202         76069.4616          23874.689798   \n",
       "4         77595.782964         77275.3794          30674.517036   \n",
       "36        76748.558009         76685.4786          21398.036585   \n",
       "7         71521.722981         71941.6962          13001.487545   \n",
       "16        79001.490465         78409.3800          17752.438106   \n",
       "9         66089.039308         69293.9736          17493.160692   \n",
       "30        72114.340764         74505.5562          16714.501341   \n",
       "19        66220.762768         67633.6320          12727.653899   \n",
       "29        83818.032683         85097.6694          15309.967317   \n",
       "35        75609.054360         78881.1210          15132.845640   \n",
       "18        71748.349877         73004.5842          17513.900123   \n",
       "23        92575.263891         94976.2470          14594.688490   \n",
       "31        83512.769736         86092.3800          11487.230264   \n",
       "14        68282.349846         70567.0866          17903.050154   \n",
       "10        70506.019440         73263.0558          10409.230560   \n",
       "15       101891.575946        104119.5882          10029.668499   \n",
       "12        69161.680460         72003.9024           9632.319540   \n",
       "27        65100.187508         68285.8128          14578.479158   \n",
       "1         61491.891851         64790.3994           3070.608149   \n",
       "17        68782.098743         71829.3456          10573.537621   \n",
       "6         81505.517560         83640.7590          -2780.850893   \n",
       "33        62871.107261         64848.0234          -6360.107261   \n",
       "13        67233.076625         70467.6330          -5538.076625   \n",
       "2         75985.939376         76835.3088            361.620624   \n",
       "20        61360.990604         63202.9338         -14621.990604   \n",
       "0         68967.570020         73026.2868         -15090.570020   \n",
       "38        73150.619482         76790.1504          -5337.619482   \n",
       "39                 NaN                NaN                   NaN   \n",
       "\n",
       "    median_salary_after_COL  \n",
       "24               69800.7470  \n",
       "37               53068.9382  \n",
       "5                42480.7674  \n",
       "28               42006.1086  \n",
       "8                39568.8904  \n",
       "3                38526.8536  \n",
       "22               38421.3680  \n",
       "32               37315.9248  \n",
       "34               33058.7924  \n",
       "21               32811.8108  \n",
       "26               29765.2206  \n",
       "11               26281.9392  \n",
       "25               23730.5384  \n",
       "4                22938.1206  \n",
       "36               22501.5214  \n",
       "7                17405.3038  \n",
       "16               17384.6200  \n",
       "9                16971.0264  \n",
       "30               16752.4438  \n",
       "19               15557.8680  \n",
       "29               14030.3306  \n",
       "35               11677.3790  \n",
       "18               10265.9158  \n",
       "23                9023.7530  \n",
       "31                8907.6200  \n",
       "14                8229.9134  \n",
       "10                6564.9442  \n",
       "15                6044.4118  \n",
       "12                4266.5976  \n",
       "27                4088.1872  \n",
       "1                 -227.8994  \n",
       "17                -989.3456  \n",
       "6                -5640.7590  \n",
       "33               -6997.0234  \n",
       "13               -8772.6330  \n",
       "2               -12760.3088  \n",
       "20              -16463.9338  \n",
       "0               -19149.2868  \n",
       "38              -19290.1504  \n",
       "39                      NaN  "
      ]
     },
     "execution_count": 13,
     "metadata": {},
     "output_type": "execute_result"
    }
   ],
   "source": [
    "df"
   ]
  },
  {
   "cell_type": "code",
   "execution_count": null,
   "id": "d1438b66",
   "metadata": {},
   "outputs": [],
   "source": []
  }
 ],
 "metadata": {
  "kernelspec": {
   "display_name": "Python 3 (ipykernel)",
   "language": "python",
   "name": "python3"
  },
  "language_info": {
   "codemirror_mode": {
    "name": "ipython",
    "version": 3
   },
   "file_extension": ".py",
   "mimetype": "text/x-python",
   "name": "python",
   "nbconvert_exporter": "python",
   "pygments_lexer": "ipython3",
   "version": "3.11.3"
  }
 },
 "nbformat": 4,
 "nbformat_minor": 5
}
